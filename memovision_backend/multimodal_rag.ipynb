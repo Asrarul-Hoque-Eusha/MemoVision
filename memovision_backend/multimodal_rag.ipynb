{
  "nbformat": 4,
  "nbformat_minor": 0,
  "metadata": {
    "colab": {
      "provenance": []
    },
    "kernelspec": {
      "name": "python3",
      "display_name": "Python 3"
    },
    "language_info": {
      "name": "python"
    },
    "widgets": {
      "application/vnd.jupyter.widget-state+json": {
        "e3ae5aed528c4028bbc7bf374ddd5fcf": {
          "model_module": "@jupyter-widgets/controls",
          "model_name": "HBoxModel",
          "model_module_version": "1.5.0",
          "state": {
            "_dom_classes": [],
            "_model_module": "@jupyter-widgets/controls",
            "_model_module_version": "1.5.0",
            "_model_name": "HBoxModel",
            "_view_count": null,
            "_view_module": "@jupyter-widgets/controls",
            "_view_module_version": "1.5.0",
            "_view_name": "HBoxView",
            "box_style": "",
            "children": [
              "IPY_MODEL_3aa8cb985781446c9200728242f5b964",
              "IPY_MODEL_05f2482e01674bc59a1187a41e60c0f8",
              "IPY_MODEL_d678edf9bbe047dba8632e8d62bf4771"
            ],
            "layout": "IPY_MODEL_7a407dc69b31407e84efb53f2e2065c8"
          }
        },
        "3aa8cb985781446c9200728242f5b964": {
          "model_module": "@jupyter-widgets/controls",
          "model_name": "HTMLModel",
          "model_module_version": "1.5.0",
          "state": {
            "_dom_classes": [],
            "_model_module": "@jupyter-widgets/controls",
            "_model_module_version": "1.5.0",
            "_model_name": "HTMLModel",
            "_view_count": null,
            "_view_module": "@jupyter-widgets/controls",
            "_view_module_version": "1.5.0",
            "_view_name": "HTMLView",
            "description": "",
            "description_tooltip": null,
            "layout": "IPY_MODEL_adcae3782a304c0c972e7d24868644ab",
            "placeholder": "​",
            "style": "IPY_MODEL_795a7bfc822241a9b176d4e37f9fb06d",
            "value": "open_clip_model.safetensors: 100%"
          }
        },
        "05f2482e01674bc59a1187a41e60c0f8": {
          "model_module": "@jupyter-widgets/controls",
          "model_name": "FloatProgressModel",
          "model_module_version": "1.5.0",
          "state": {
            "_dom_classes": [],
            "_model_module": "@jupyter-widgets/controls",
            "_model_module_version": "1.5.0",
            "_model_name": "FloatProgressModel",
            "_view_count": null,
            "_view_module": "@jupyter-widgets/controls",
            "_view_module_version": "1.5.0",
            "_view_name": "ProgressView",
            "bar_style": "success",
            "description": "",
            "description_tooltip": null,
            "layout": "IPY_MODEL_e156c4c77be141ba92961e0fe29af07f",
            "max": 605143316,
            "min": 0,
            "orientation": "horizontal",
            "style": "IPY_MODEL_dbf09d76c3554e53ab9d2050bd864e59",
            "value": 605143316
          }
        },
        "d678edf9bbe047dba8632e8d62bf4771": {
          "model_module": "@jupyter-widgets/controls",
          "model_name": "HTMLModel",
          "model_module_version": "1.5.0",
          "state": {
            "_dom_classes": [],
            "_model_module": "@jupyter-widgets/controls",
            "_model_module_version": "1.5.0",
            "_model_name": "HTMLModel",
            "_view_count": null,
            "_view_module": "@jupyter-widgets/controls",
            "_view_module_version": "1.5.0",
            "_view_name": "HTMLView",
            "description": "",
            "description_tooltip": null,
            "layout": "IPY_MODEL_504e6ce700224ca6a270c654d59ea72a",
            "placeholder": "​",
            "style": "IPY_MODEL_551fe02aa96b4a3c92d667e7074f1636",
            "value": " 605M/605M [00:09&lt;00:00, 49.5MB/s]"
          }
        },
        "7a407dc69b31407e84efb53f2e2065c8": {
          "model_module": "@jupyter-widgets/base",
          "model_name": "LayoutModel",
          "model_module_version": "1.2.0",
          "state": {
            "_model_module": "@jupyter-widgets/base",
            "_model_module_version": "1.2.0",
            "_model_name": "LayoutModel",
            "_view_count": null,
            "_view_module": "@jupyter-widgets/base",
            "_view_module_version": "1.2.0",
            "_view_name": "LayoutView",
            "align_content": null,
            "align_items": null,
            "align_self": null,
            "border": null,
            "bottom": null,
            "display": null,
            "flex": null,
            "flex_flow": null,
            "grid_area": null,
            "grid_auto_columns": null,
            "grid_auto_flow": null,
            "grid_auto_rows": null,
            "grid_column": null,
            "grid_gap": null,
            "grid_row": null,
            "grid_template_areas": null,
            "grid_template_columns": null,
            "grid_template_rows": null,
            "height": null,
            "justify_content": null,
            "justify_items": null,
            "left": null,
            "margin": null,
            "max_height": null,
            "max_width": null,
            "min_height": null,
            "min_width": null,
            "object_fit": null,
            "object_position": null,
            "order": null,
            "overflow": null,
            "overflow_x": null,
            "overflow_y": null,
            "padding": null,
            "right": null,
            "top": null,
            "visibility": null,
            "width": null
          }
        },
        "adcae3782a304c0c972e7d24868644ab": {
          "model_module": "@jupyter-widgets/base",
          "model_name": "LayoutModel",
          "model_module_version": "1.2.0",
          "state": {
            "_model_module": "@jupyter-widgets/base",
            "_model_module_version": "1.2.0",
            "_model_name": "LayoutModel",
            "_view_count": null,
            "_view_module": "@jupyter-widgets/base",
            "_view_module_version": "1.2.0",
            "_view_name": "LayoutView",
            "align_content": null,
            "align_items": null,
            "align_self": null,
            "border": null,
            "bottom": null,
            "display": null,
            "flex": null,
            "flex_flow": null,
            "grid_area": null,
            "grid_auto_columns": null,
            "grid_auto_flow": null,
            "grid_auto_rows": null,
            "grid_column": null,
            "grid_gap": null,
            "grid_row": null,
            "grid_template_areas": null,
            "grid_template_columns": null,
            "grid_template_rows": null,
            "height": null,
            "justify_content": null,
            "justify_items": null,
            "left": null,
            "margin": null,
            "max_height": null,
            "max_width": null,
            "min_height": null,
            "min_width": null,
            "object_fit": null,
            "object_position": null,
            "order": null,
            "overflow": null,
            "overflow_x": null,
            "overflow_y": null,
            "padding": null,
            "right": null,
            "top": null,
            "visibility": null,
            "width": null
          }
        },
        "795a7bfc822241a9b176d4e37f9fb06d": {
          "model_module": "@jupyter-widgets/controls",
          "model_name": "DescriptionStyleModel",
          "model_module_version": "1.5.0",
          "state": {
            "_model_module": "@jupyter-widgets/controls",
            "_model_module_version": "1.5.0",
            "_model_name": "DescriptionStyleModel",
            "_view_count": null,
            "_view_module": "@jupyter-widgets/base",
            "_view_module_version": "1.2.0",
            "_view_name": "StyleView",
            "description_width": ""
          }
        },
        "e156c4c77be141ba92961e0fe29af07f": {
          "model_module": "@jupyter-widgets/base",
          "model_name": "LayoutModel",
          "model_module_version": "1.2.0",
          "state": {
            "_model_module": "@jupyter-widgets/base",
            "_model_module_version": "1.2.0",
            "_model_name": "LayoutModel",
            "_view_count": null,
            "_view_module": "@jupyter-widgets/base",
            "_view_module_version": "1.2.0",
            "_view_name": "LayoutView",
            "align_content": null,
            "align_items": null,
            "align_self": null,
            "border": null,
            "bottom": null,
            "display": null,
            "flex": null,
            "flex_flow": null,
            "grid_area": null,
            "grid_auto_columns": null,
            "grid_auto_flow": null,
            "grid_auto_rows": null,
            "grid_column": null,
            "grid_gap": null,
            "grid_row": null,
            "grid_template_areas": null,
            "grid_template_columns": null,
            "grid_template_rows": null,
            "height": null,
            "justify_content": null,
            "justify_items": null,
            "left": null,
            "margin": null,
            "max_height": null,
            "max_width": null,
            "min_height": null,
            "min_width": null,
            "object_fit": null,
            "object_position": null,
            "order": null,
            "overflow": null,
            "overflow_x": null,
            "overflow_y": null,
            "padding": null,
            "right": null,
            "top": null,
            "visibility": null,
            "width": null
          }
        },
        "dbf09d76c3554e53ab9d2050bd864e59": {
          "model_module": "@jupyter-widgets/controls",
          "model_name": "ProgressStyleModel",
          "model_module_version": "1.5.0",
          "state": {
            "_model_module": "@jupyter-widgets/controls",
            "_model_module_version": "1.5.0",
            "_model_name": "ProgressStyleModel",
            "_view_count": null,
            "_view_module": "@jupyter-widgets/base",
            "_view_module_version": "1.2.0",
            "_view_name": "StyleView",
            "bar_color": null,
            "description_width": ""
          }
        },
        "504e6ce700224ca6a270c654d59ea72a": {
          "model_module": "@jupyter-widgets/base",
          "model_name": "LayoutModel",
          "model_module_version": "1.2.0",
          "state": {
            "_model_module": "@jupyter-widgets/base",
            "_model_module_version": "1.2.0",
            "_model_name": "LayoutModel",
            "_view_count": null,
            "_view_module": "@jupyter-widgets/base",
            "_view_module_version": "1.2.0",
            "_view_name": "LayoutView",
            "align_content": null,
            "align_items": null,
            "align_self": null,
            "border": null,
            "bottom": null,
            "display": null,
            "flex": null,
            "flex_flow": null,
            "grid_area": null,
            "grid_auto_columns": null,
            "grid_auto_flow": null,
            "grid_auto_rows": null,
            "grid_column": null,
            "grid_gap": null,
            "grid_row": null,
            "grid_template_areas": null,
            "grid_template_columns": null,
            "grid_template_rows": null,
            "height": null,
            "justify_content": null,
            "justify_items": null,
            "left": null,
            "margin": null,
            "max_height": null,
            "max_width": null,
            "min_height": null,
            "min_width": null,
            "object_fit": null,
            "object_position": null,
            "order": null,
            "overflow": null,
            "overflow_x": null,
            "overflow_y": null,
            "padding": null,
            "right": null,
            "top": null,
            "visibility": null,
            "width": null
          }
        },
        "551fe02aa96b4a3c92d667e7074f1636": {
          "model_module": "@jupyter-widgets/controls",
          "model_name": "DescriptionStyleModel",
          "model_module_version": "1.5.0",
          "state": {
            "_model_module": "@jupyter-widgets/controls",
            "_model_module_version": "1.5.0",
            "_model_name": "DescriptionStyleModel",
            "_view_count": null,
            "_view_module": "@jupyter-widgets/base",
            "_view_module_version": "1.2.0",
            "_view_name": "StyleView",
            "description_width": ""
          }
        }
      }
    }
  },
  "cells": [
    {
      "cell_type": "markdown",
      "source": [
        "# Multimodal CLIP Imbedding"
      ],
      "metadata": {
        "id": "xTTBkMPt27HU"
      }
    },
    {
      "cell_type": "code",
      "execution_count": 1,
      "metadata": {
        "id": "6BIq_U8vBk0F",
        "colab": {
          "base_uri": "https://localhost:8080/"
        },
        "outputId": "4941c6d2-8515-4d7c-e47b-d984d559c8bb"
      },
      "outputs": [
        {
          "output_type": "stream",
          "name": "stderr",
          "text": [
            "/usr/local/lib/python3.11/dist-packages/huggingface_hub/utils/_auth.py:94: UserWarning: \n",
            "The secret `HF_TOKEN` does not exist in your Colab secrets.\n",
            "To authenticate with the Hugging Face Hub, create a token in your settings tab (https://huggingface.co/settings/tokens), set it as secret in your Google Colab and restart your session.\n",
            "You will be able to reuse this secret in all of your notebooks.\n",
            "Please note that authentication is recommended but still optional to access public models or datasets.\n",
            "  warnings.warn(\n"
          ]
        }
      ],
      "source": [
        "from PIL import Image\n",
        "import requests\n",
        "\n",
        "from transformers import CLIPProcessor, CLIPModel\n",
        "\n",
        "model = CLIPModel.from_pretrained(\"openai/clip-vit-base-patch32\")\n",
        "processor = CLIPProcessor.from_pretrained(\"openai/clip-vit-base-patch32\")\n",
        "\n"
      ]
    },
    {
      "cell_type": "code",
      "source": [
        "url = \"https://encrypted-tbn0.gstatic.com/images?q=tbn:ANd9GcRoBuMvSuYezLE9rwI-zOJeIOmcIGfDPqOvFA&s\"\n",
        "image = Image.open(requests.get(url, stream=True).raw)\n",
        "\n",
        "inputs = processor(text=[\"a photo of a dog\"], images=image, return_tensors=\"pt\", padding=True)\n",
        "outputs = model(**inputs)\n",
        "print(outputs)\n",
        "logits_per_image = outputs.logits_per_image  # this is the image-text similarity score\n",
        "print(logits_per_image, logits_per_image.shape)\n",
        "probs = logits_per_image.softmax(dim=1)  # we can take the softmax to get the label probabilities\n",
        "print(probs, probs.shape)"
      ],
      "metadata": {
        "colab": {
          "base_uri": "https://localhost:8080/"
        },
        "id": "7iJrSm-T0VMs",
        "outputId": "4141f2af-7da7-4dac-b2a0-4910cdc4e7de"
      },
      "execution_count": null,
      "outputs": [
        {
          "output_type": "stream",
          "name": "stdout",
          "text": [
            "CLIPOutput(loss=None, logits_per_image=tensor([[25.0906]], grad_fn=<TBackward0>), logits_per_text=tensor([[25.0906]], grad_fn=<MulBackward0>), text_embeds=tensor([[ 8.7074e-03,  2.5829e-02, -3.8658e-02,  1.2289e-02, -1.0465e-02,\n",
            "          8.2227e-03, -3.4132e-03, -7.6734e-02, -7.7502e-03,  3.8274e-02,\n",
            "         -5.3368e-02, -3.0472e-02, -8.7328e-04, -4.2263e-04,  3.0874e-02,\n",
            "          3.4900e-03,  3.1060e-02, -2.8744e-03, -2.9158e-02, -1.2004e-02,\n",
            "          5.6583e-02,  1.0323e-02,  4.8625e-02,  2.4152e-03, -1.8617e-05,\n",
            "          1.0560e-03,  3.9891e-03,  4.1941e-02, -2.4636e-02, -1.5361e-02,\n",
            "          3.1289e-02,  2.9056e-02,  1.9494e-03,  7.0760e-03, -2.0747e-02,\n",
            "         -1.7747e-02,  1.1385e-02, -2.5407e-02, -1.5976e-02,  2.4322e-02,\n",
            "         -4.2275e-02,  2.8234e-02,  2.7083e-02,  2.3124e-03,  1.7070e-02,\n",
            "          1.0458e-02, -2.7164e-02,  1.6151e-02, -3.0737e-03, -7.3802e-03,\n",
            "          7.0237e-03, -1.2782e-02,  3.8851e-02, -7.8743e-03,  7.3336e-03,\n",
            "         -4.1178e-02,  1.3934e-02,  5.3320e-03, -1.6559e-02, -2.8982e-03,\n",
            "          3.8474e-02, -1.1961e-02, -1.6106e-02,  2.1629e-02,  1.8345e-02,\n",
            "         -1.9301e-02, -9.2809e-03,  2.4471e-02, -3.2578e-02, -1.4715e-02,\n",
            "         -5.3761e-03, -1.1790e-02,  2.9754e-03,  2.8825e-02, -2.6377e-02,\n",
            "         -1.0121e-02,  1.7288e-02,  7.7862e-03, -5.8698e-03, -2.6058e-02,\n",
            "          2.3102e-02, -6.7375e-03, -1.7996e-02, -1.2644e-03,  3.2521e-02,\n",
            "          3.6386e-03,  2.4855e-02, -2.4585e-02,  2.5129e-02, -5.8342e-04,\n",
            "          1.1552e-02, -2.2867e-02, -1.2916e-01,  4.4998e-02,  1.2449e-02,\n",
            "         -1.2255e-02, -9.7825e-03,  2.4894e-02, -1.2493e-02, -8.3787e-03,\n",
            "          1.6588e-02, -4.1843e-03,  1.5391e-02,  9.0037e-04,  1.4745e-03,\n",
            "         -2.6983e-02,  2.2717e-03,  3.0658e-02,  1.4714e-02, -9.9129e-04,\n",
            "         -9.7399e-03, -4.7641e-02,  5.3501e-03, -1.1987e-02, -3.4999e-02,\n",
            "          1.2589e-03, -1.3157e-02, -1.1918e-02,  3.6092e-03, -2.7667e-03,\n",
            "          2.3444e-02, -7.8317e-02,  2.4673e-03, -6.0568e-02,  1.9166e-02,\n",
            "         -1.3388e-02, -4.2668e-03, -2.4571e-02, -6.4775e-03,  2.7003e-02,\n",
            "          1.0294e-02, -4.8132e-02, -2.5084e-02,  5.9735e-01, -8.3749e-03,\n",
            "         -2.7069e-02, -1.9752e-02, -5.0939e-02,  5.0788e-03,  2.5555e-03,\n",
            "         -2.5874e-02,  1.4310e-02, -2.6532e-02,  1.9728e-02, -4.4346e-02,\n",
            "          2.5422e-02, -1.3377e-02, -4.3432e-02, -1.8319e-02,  4.5355e-03,\n",
            "          1.8668e-02, -9.3942e-03,  2.7417e-03,  3.2944e-02, -2.2777e-02,\n",
            "         -5.6250e-03,  1.9528e-02, -3.9063e-02, -7.8254e-03,  1.9326e-02,\n",
            "         -8.1517e-03,  8.9795e-03,  1.2044e-02, -4.0538e-02,  2.6925e-02,\n",
            "         -7.1262e-03,  2.1474e-02, -3.5126e-02,  6.6406e-03,  1.3075e-02,\n",
            "         -5.7256e-03, -1.8296e-02, -6.6312e-03,  3.4428e-03, -2.6316e-02,\n",
            "          6.6302e-03, -1.2438e-03,  1.1499e-02,  2.0357e-02,  4.6186e-03,\n",
            "         -1.5026e-02,  1.9666e-02, -3.0363e-02, -1.0174e-02, -1.1064e-02,\n",
            "         -3.0453e-04, -2.7389e-03, -1.6299e-02, -3.1447e-02,  1.9601e-03,\n",
            "         -8.4131e-03, -4.4779e-02, -1.0378e-03,  2.8450e-03, -1.3541e-02,\n",
            "          1.0547e-02,  6.2743e-03, -1.0642e-02, -4.7677e-02, -5.3705e-03,\n",
            "          1.1504e-04, -7.0597e-03,  1.2109e-02,  1.8779e-02,  5.9788e-03,\n",
            "         -2.2830e-02,  3.4682e-03, -4.9125e-02,  2.5139e-02, -1.1445e-02,\n",
            "          2.7459e-02,  3.7123e-02,  2.9943e-02,  3.3444e-03, -1.7023e-02,\n",
            "          4.0921e-03, -5.5410e-03,  2.1371e-02,  2.4898e-02,  4.0154e-04,\n",
            "          6.4086e-03, -1.4115e-02, -1.9045e-02, -1.5229e-02,  3.7291e-03,\n",
            "         -3.9489e-02,  3.1113e-02,  6.9283e-03, -1.3583e-02, -1.9717e-02,\n",
            "         -7.5150e-03,  1.7375e-02,  8.8907e-03,  2.1707e-02,  1.9775e-02,\n",
            "         -4.0463e-03, -1.4051e-02, -2.1923e-02, -1.4484e-02, -2.2431e-02,\n",
            "         -2.0259e-02,  5.2400e-02, -8.3428e-04,  2.8850e-02,  7.2039e-03,\n",
            "          2.0847e-03,  8.1956e-04, -9.9832e-03, -1.3028e-02,  1.7018e-03,\n",
            "          6.9524e-03,  1.3594e-02,  2.8371e-02,  4.8108e-02,  7.6570e-03,\n",
            "          1.0944e-02, -1.3875e-02, -7.7890e-04,  9.3141e-03,  5.1979e-02,\n",
            "         -1.7480e-02,  1.7806e-02,  2.4016e-02, -1.1196e-02, -1.9264e-02,\n",
            "          1.0140e-02, -1.6303e-02, -3.2577e-02, -2.1235e-02,  3.4325e-02,\n",
            "          1.1586e-02,  9.5930e-03,  2.7646e-02, -9.6660e-03,  2.9295e-03,\n",
            "          8.5376e-03,  5.4455e-03,  4.0805e-02,  2.6288e-02,  2.6147e-02,\n",
            "         -6.8852e-03,  1.2026e-02,  4.1552e-03,  1.4039e-02, -6.1110e-03,\n",
            "          2.1368e-02, -1.4615e-02,  2.5540e-02,  2.0558e-02,  5.9266e-03,\n",
            "          3.0687e-02,  1.5258e-02, -3.3092e-02,  5.2313e-03, -1.2616e-02,\n",
            "         -4.1560e-02,  4.8112e-03,  2.3540e-02,  5.1851e-03, -2.0410e-02,\n",
            "          1.9750e-03, -6.0050e-03, -2.7258e-02, -5.2600e-03,  5.4733e-03,\n",
            "         -4.7094e-02, -1.3469e-02,  3.8820e-03,  1.0042e-02, -1.1172e-02,\n",
            "          1.3105e-02,  2.0210e-02,  5.9710e-01,  1.5224e-02,  1.1817e-02,\n",
            "          2.5814e-02,  2.1505e-02,  3.6860e-02,  1.7881e-02, -1.0446e-02,\n",
            "          3.5748e-02,  3.5534e-02,  1.9896e-02,  2.4771e-02,  1.6482e-02,\n",
            "          4.5452e-03, -1.8114e-02, -2.6846e-02,  5.3876e-03, -1.1213e-01,\n",
            "         -1.1703e-02,  2.3271e-02,  1.8248e-02, -9.3331e-03,  2.3551e-02,\n",
            "          2.3469e-03,  4.3059e-02,  2.2923e-02,  6.4898e-03, -7.9305e-03,\n",
            "         -6.4871e-03, -2.3364e-02,  1.8434e-02, -2.3347e-02,  1.2713e-02,\n",
            "         -3.2636e-02,  1.5630e-02,  3.3195e-02, -3.9461e-02, -1.1628e-02,\n",
            "          1.4901e-02,  4.9023e-03,  1.0105e-02,  5.8073e-02, -1.0187e-02,\n",
            "          3.9849e-02,  2.6254e-02, -1.7149e-02,  1.3856e-02,  3.4475e-02,\n",
            "          3.2661e-02, -4.2022e-02, -2.0333e-02,  1.5994e-02,  3.3845e-02,\n",
            "          7.4241e-03, -5.9456e-03,  1.4542e-02,  7.6624e-03, -2.1707e-02,\n",
            "         -3.0317e-02, -1.0611e-02, -3.2802e-05,  3.4937e-02, -1.0538e-02,\n",
            "          9.5222e-03,  1.0897e-02, -3.7810e-03, -4.2076e-02,  6.1411e-03,\n",
            "          4.5641e-03, -6.1756e-03,  4.4260e-04, -4.2591e-03,  2.4040e-02,\n",
            "         -3.1270e-02, -3.8472e-02,  4.3481e-03, -1.4588e-02, -1.6059e-02,\n",
            "         -3.9221e-02,  6.9746e-03, -5.4461e-03,  2.0121e-02,  1.4335e-02,\n",
            "         -5.4548e-03, -1.4404e-02, -1.7104e-02, -3.8003e-02,  2.8130e-02,\n",
            "          1.0591e-02, -5.0677e-03,  2.4192e-03,  1.2764e-02, -1.2702e-02,\n",
            "         -3.7019e-03, -2.2289e-03,  3.3761e-03,  8.5081e-03,  7.0036e-03,\n",
            "          4.6418e-02, -3.0895e-02,  1.0074e-02,  1.0886e-02, -7.0774e-03,\n",
            "          2.5022e-02, -1.5663e-02, -3.1632e-02,  2.4219e-02, -3.3836e-02,\n",
            "          4.2763e-03, -2.7812e-02,  5.1273e-04, -3.7311e-02, -3.3078e-03,\n",
            "          1.2462e-02,  6.4110e-03,  3.9677e-02,  2.6914e-02,  4.6844e-03,\n",
            "         -4.8330e-03,  1.1684e-03,  1.7003e-03, -9.4650e-03,  1.4091e-03,\n",
            "          5.1673e-03, -4.7116e-02,  1.9201e-02, -2.8393e-02,  2.9443e-03,\n",
            "         -2.1264e-03,  2.5387e-02, -6.8360e-03, -3.1835e-02,  8.8673e-03,\n",
            "         -2.3060e-03, -1.8114e-02, -3.1213e-02,  1.6122e-03,  7.1703e-03,\n",
            "         -1.1518e-02,  1.2683e-02,  2.6540e-02, -1.6136e-03,  4.7544e-03,\n",
            "         -2.1928e-02,  2.9106e-03,  1.1271e-04,  5.4664e-03, -2.7222e-02,\n",
            "          3.0454e-02,  2.0581e-02,  7.6474e-03,  3.8767e-03,  2.9513e-02,\n",
            "          7.1806e-03, -1.8765e-02,  1.2270e-02, -3.2927e-02, -1.9661e-02,\n",
            "          1.7796e-02, -1.2890e-02,  7.6847e-03, -2.7001e-02, -3.4706e-03,\n",
            "          2.5472e-02,  1.6888e-02, -9.4983e-03, -2.4678e-02,  2.4122e-02,\n",
            "          5.7311e-03, -3.8706e-02,  8.0009e-03, -8.5333e-03, -3.0285e-02,\n",
            "         -2.9750e-02, -7.6556e-03, -5.0679e-03,  2.6500e-02,  1.1397e-02,\n",
            "         -3.4446e-02, -1.2585e-02,  1.5732e-02,  1.0570e-01,  1.7115e-02,\n",
            "         -2.9180e-02,  3.1055e-02,  3.0057e-02, -2.9204e-02,  1.8058e-02,\n",
            "          3.8326e-02, -1.9765e-02,  9.4267e-03,  4.4964e-02,  2.5030e-02,\n",
            "          3.3078e-02, -3.4314e-02, -2.6386e-03, -1.4148e-02, -5.4677e-02,\n",
            "         -2.4200e-02,  1.1151e-02]], grad_fn=<DivBackward0>), image_embeds=tensor([[ 2.2316e-02,  1.0633e-02, -1.6396e-03, -1.0336e-02,  1.0031e-03,\n",
            "         -7.0827e-02,  2.3252e-02,  1.8775e-02, -1.6218e-02,  5.2745e-03,\n",
            "         -2.1783e-02, -2.5545e-02,  1.9968e-02,  1.1813e-02,  4.7867e-02,\n",
            "          2.7492e-03,  3.0479e-02, -1.1876e-02,  3.3781e-02,  1.3371e-02,\n",
            "         -1.0043e-01,  6.4921e-05,  2.0064e-02, -5.4880e-02, -1.8852e-02,\n",
            "          1.4709e-02,  5.6507e-02,  6.7822e-03,  2.8761e-02, -2.4365e-03,\n",
            "          7.1730e-03, -1.4233e-02, -1.7269e-02, -1.6075e-03, -5.2739e-02,\n",
            "          5.6875e-02,  2.4504e-02,  5.1945e-03, -2.9865e-03,  3.4554e-02,\n",
            "         -4.2228e-02,  1.3485e-02, -2.8694e-02, -1.9437e-02,  4.6020e-02,\n",
            "          6.8157e-02,  1.3690e-03, -7.0797e-03,  1.5279e-02,  2.1480e-02,\n",
            "         -4.5050e-03,  2.2291e-02, -5.7443e-03, -3.4833e-02,  5.2749e-02,\n",
            "          7.2455e-03, -2.9736e-02,  8.4545e-03, -1.4615e-02, -5.2585e-03,\n",
            "          8.0083e-02,  3.5040e-02,  2.2990e-02,  2.0171e-02, -1.2507e-02,\n",
            "         -4.7064e-02, -2.8762e-02,  3.8187e-02, -2.0826e-02, -4.0581e-03,\n",
            "         -1.0416e-02,  6.0524e-03, -2.1152e-02,  1.4452e-02, -5.3851e-02,\n",
            "         -2.1191e-02, -5.7711e-03, -1.9083e-02, -8.7662e-03, -1.8285e-02,\n",
            "          2.4896e-02, -1.3423e-02,  9.6890e-03, -3.8845e-02,  1.1277e-02,\n",
            "         -1.6070e-02,  2.8110e-02, -4.0196e-02,  2.1678e-02,  7.6237e-03,\n",
            "         -5.6042e-03, -5.9594e-03, -6.7597e-01,  4.4454e-02, -2.5871e-02,\n",
            "         -2.0703e-02,  3.0130e-03,  1.5150e-03, -1.6288e-01, -1.3271e-02,\n",
            "         -5.1212e-03, -7.9300e-03,  7.8377e-03,  2.8320e-02,  4.3261e-02,\n",
            "         -8.6301e-03,  1.2356e-01,  3.2949e-02, -3.0848e-03, -5.3383e-03,\n",
            "          4.7524e-02,  2.4501e-02,  3.2146e-02, -2.2759e-02,  7.3446e-03,\n",
            "          3.3170e-02, -2.8292e-02, -3.9443e-03, -4.7253e-04, -1.4932e-03,\n",
            "          1.2463e-02,  1.0302e-01,  3.4352e-02,  3.3310e-03,  2.2465e-02,\n",
            "         -4.2733e-02, -6.9886e-03,  1.9620e-02, -2.7072e-02, -4.8447e-02,\n",
            "          3.3328e-02,  5.5597e-02, -2.0633e-02,  8.8356e-02, -1.0333e-02,\n",
            "         -3.0988e-03,  6.7865e-03, -3.7926e-02, -8.1412e-03, -3.1257e-02,\n",
            "          2.1703e-02,  2.0363e-02, -4.2265e-02,  2.7525e-02, -6.6039e-02,\n",
            "          6.1089e-02,  4.9523e-03,  1.6348e-02, -2.5194e-02,  3.9526e-02,\n",
            "          9.6190e-03,  1.0536e-02,  5.0048e-02,  3.1291e-03, -4.2484e-02,\n",
            "          2.5366e-02, -3.0084e-02, -4.5116e-02, -3.7198e-02,  1.8434e-02,\n",
            "          1.4634e-02,  2.6233e-02, -5.6682e-03, -1.2136e-02,  7.4205e-02,\n",
            "          1.0585e-02, -5.0627e-02,  4.5346e-03, -1.9028e-02,  2.9142e-02,\n",
            "         -4.6449e-03,  5.1954e-03,  1.3758e-02, -2.5371e-02,  1.2182e-02,\n",
            "          5.8600e-02, -3.0172e-02, -2.9919e-02,  5.9408e-02, -6.6830e-03,\n",
            "         -4.3201e-02,  9.7782e-03,  2.1477e-02, -1.7700e-02,  6.6642e-03,\n",
            "         -2.5365e-02, -2.6758e-02,  1.2569e-02,  1.2490e-03,  1.8631e-02,\n",
            "          9.1224e-03,  2.2538e-02,  3.5384e-02, -1.4133e-02, -5.7518e-02,\n",
            "          1.1511e-02, -4.8907e-06, -1.3133e-02, -5.9035e-02,  9.4182e-03,\n",
            "          2.7220e-02, -5.0864e-03,  2.5624e-02,  1.4958e-02, -4.6195e-02,\n",
            "         -5.2301e-02, -3.8984e-03, -3.2065e-02, -2.9385e-02,  2.6976e-02,\n",
            "          2.3900e-04,  1.9740e-02, -4.6427e-04,  1.8914e-02, -1.0299e-02,\n",
            "          2.1084e-02,  3.7239e-03,  2.1168e-02,  1.3407e-01,  2.0493e-02,\n",
            "          3.3960e-02,  8.3091e-03,  2.1865e-02,  1.7042e-02, -3.1614e-02,\n",
            "         -3.3396e-02,  2.9308e-02, -1.5514e-02,  6.0443e-03, -1.5270e-02,\n",
            "          8.2077e-03,  4.0025e-02,  3.7846e-02,  8.8035e-02,  1.4277e-02,\n",
            "          4.0875e-03, -3.2887e-02, -4.4431e-02,  6.6347e-02, -8.7317e-03,\n",
            "          5.1928e-03,  1.9213e-02, -5.3224e-03,  6.2407e-04,  2.8100e-02,\n",
            "          2.8863e-02, -2.4499e-05, -2.4547e-02,  5.0280e-02,  1.3947e-02,\n",
            "          3.2766e-02, -2.7344e-02,  2.6768e-02, -4.3509e-02,  8.5890e-03,\n",
            "          1.0857e-02,  2.9126e-02,  6.2250e-03,  4.6308e-02,  1.1984e-02,\n",
            "         -3.1977e-02, -1.9491e-02,  3.0906e-02,  3.2531e-02,  9.6149e-03,\n",
            "          1.0269e-02, -5.2842e-02, -2.8849e-02, -2.5201e-02,  4.0710e-02,\n",
            "          3.0315e-03,  2.4049e-02,  1.1253e-02,  1.1227e-02, -2.3769e-02,\n",
            "          2.7036e-03,  1.1272e-02,  2.7404e-02,  1.2407e-02,  2.8973e-02,\n",
            "         -1.1118e-02,  7.0165e-03, -4.5572e-02,  3.5635e-03,  9.4632e-03,\n",
            "         -1.1775e-02, -2.6250e-02,  9.3178e-03,  2.2533e-03,  1.8914e-02,\n",
            "          9.9155e-03,  4.2627e-02,  3.0783e-03,  2.3538e-02,  5.2491e-03,\n",
            "          1.1700e-02,  2.6183e-02,  1.0475e-02,  3.7901e-02, -1.8863e-02,\n",
            "         -2.4817e-02, -3.6954e-03, -3.7084e-02, -5.7048e-03,  3.3403e-02,\n",
            "          5.9404e-02, -1.5332e-02,  1.9219e-02, -1.3880e-02,  2.4128e-02,\n",
            "         -9.4127e-03,  1.7459e-02,  8.8199e-02, -3.3219e-02,  3.0888e-03,\n",
            "         -6.7112e-02,  3.2739e-02,  6.0290e-02, -3.6112e-02,  1.8190e-02,\n",
            "          3.1963e-02,  4.7280e-02,  1.2791e-02, -3.4982e-02,  2.3785e-02,\n",
            "         -2.0212e-03, -8.9581e-03,  5.5469e-03, -9.8382e-03,  2.2679e-02,\n",
            "         -9.7861e-03, -4.7440e-02,  5.2643e-03, -1.2923e-02, -4.4570e-03,\n",
            "          9.8204e-03,  4.8026e-02,  1.6230e-02, -4.8903e-02, -3.9663e-02,\n",
            "          6.6795e-03, -4.9566e-03, -2.3272e-04, -2.2888e-02,  4.7875e-03,\n",
            "          3.5922e-02,  7.8047e-03,  7.8267e-03, -1.1861e-02, -1.6916e-02,\n",
            "         -6.8352e-02,  3.2693e-02,  2.8161e-02,  2.8541e-02, -1.1261e-02,\n",
            "          6.1219e-02, -1.3961e-02, -9.2098e-02,  1.1972e-02, -3.8430e-02,\n",
            "          2.6750e-02, -6.4436e-03,  1.1142e-02, -5.1682e-03, -1.3322e-01,\n",
            "          7.7381e-03, -2.7292e-02,  5.3205e-02, -4.2213e-02,  5.5465e-03,\n",
            "         -2.6541e-02,  6.6387e-03, -4.7526e-02,  9.6489e-03, -3.4350e-02,\n",
            "         -2.7152e-02,  1.2893e-01, -2.0195e-02,  5.4550e-02,  4.5807e-02,\n",
            "          2.9695e-02, -4.4120e-02, -7.7227e-04, -1.7000e-02,  2.9418e-02,\n",
            "         -3.2569e-03, -4.5341e-02, -1.4717e-02,  3.2860e-02, -7.8009e-02,\n",
            "         -1.0987e-02, -1.0132e-01,  2.7347e-02,  3.0332e-02, -8.2785e-03,\n",
            "         -1.2626e-02,  4.2801e-03, -5.3467e-02, -5.4535e-02, -5.6022e-02,\n",
            "          3.6810e-02,  1.3171e-03, -1.4047e-03, -2.1817e-02, -1.8229e-04,\n",
            "         -2.8145e-02,  9.9694e-04, -3.4217e-02,  3.3269e-02, -2.0923e-02,\n",
            "          5.4746e-02, -2.4952e-02, -8.2885e-04, -4.6239e-02,  3.2950e-03,\n",
            "          2.9963e-03,  2.2517e-02,  1.1292e-02, -1.5975e-02, -2.7645e-02,\n",
            "          1.5352e-04, -3.2049e-02, -1.9179e-02, -3.5685e-02, -3.3644e-02,\n",
            "          1.3620e-02,  2.3374e-02, -5.9991e-03, -2.3279e-02, -2.8924e-02,\n",
            "         -1.3016e-03,  3.9473e-02, -6.3191e-03, -8.0815e-03, -1.3861e-02,\n",
            "         -2.9632e-02, -5.4000e-02,  2.9718e-02,  1.2999e-02,  1.5702e-02,\n",
            "          8.0621e-03,  4.4864e-02, -1.6729e-02,  6.2114e-03, -1.9847e-03,\n",
            "          1.8090e-02,  3.4162e-02,  1.5018e-02, -2.2555e-02, -1.5275e-02,\n",
            "         -2.6582e-02, -2.8570e-02,  6.8719e-03,  1.1993e-02,  1.1000e-02,\n",
            "         -6.9427e-03, -1.1022e-03,  3.8736e-02,  2.6654e-02,  2.4991e-02,\n",
            "         -9.3571e-03,  1.9740e-02,  8.8483e-03,  2.9602e-02,  5.1933e-02,\n",
            "          2.1014e-02, -9.3357e-03,  2.9092e-02, -5.8100e-02, -4.0734e-03,\n",
            "          6.1035e-02,  2.2572e-03, -1.8543e-02,  1.3884e-02,  1.9857e-02,\n",
            "         -1.5136e-02, -4.0932e-02, -9.4894e-03,  2.8413e-02, -3.1341e-02,\n",
            "          8.5153e-03, -4.3778e-03,  1.8862e-02, -5.8481e-02,  3.5162e-03,\n",
            "          1.9552e-02,  2.0052e-02, -2.9605e-02,  1.7714e-02, -2.9953e-02,\n",
            "         -2.7980e-02,  1.6294e-03, -3.5159e-04, -2.0292e-02,  7.3875e-03,\n",
            "         -9.7648e-03, -6.4553e-03,  4.4760e-02, -4.7715e-02, -2.0334e-02,\n",
            "          2.5549e-03, -1.2743e-02,  4.5200e-02, -2.8443e-02, -4.4719e-02,\n",
            "          4.0314e-02, -3.2208e-03,  2.1618e-03, -3.0552e-02,  2.7717e-02,\n",
            "          1.3902e-02, -2.2061e-02]], grad_fn=<DivBackward0>), text_model_output=BaseModelOutputWithPooling(last_hidden_state=tensor([[[ 0.3393,  0.1165,  0.1020,  ...,  0.2468,  0.5906,  0.1013],\n",
            "         [ 1.9753, -0.5844,  0.3685,  ...,  1.1658,  0.8050, -0.9801],\n",
            "         [ 1.0580, -0.9600,  1.0018,  ..., -0.5155, -0.1437, -1.9444],\n",
            "         ...,\n",
            "         [ 0.3059, -1.5037, -0.4022,  ..., -0.0224,  0.9105, -0.3916],\n",
            "         [-0.1433, -0.5163,  1.7099,  ..., -0.0795,  0.3609, -1.2437],\n",
            "         [ 0.0426,  0.0189,  1.2740,  ..., -0.4217, -0.4393, -1.3016]]],\n",
            "       grad_fn=<NativeLayerNormBackward0>), pooler_output=tensor([[ 4.2555e-02,  1.8859e-02,  1.2740e+00,  1.0283e+01, -8.9686e+00,\n",
            "          1.5139e+00,  1.6441e+00,  1.6064e+00, -2.2422e-01,  8.3219e-02,\n",
            "          9.1756e-01, -1.3809e+00,  2.3155e-01, -5.8306e-01,  6.5647e-01,\n",
            "         -2.0855e+00, -1.9575e+00, -2.9208e-01, -6.3252e-01,  6.2248e-01,\n",
            "          1.1054e-01, -1.0221e+00, -3.3205e-01,  6.8056e-01,  6.6213e-01,\n",
            "         -7.3064e-01, -5.4042e-01, -1.0365e+00, -1.2608e+00,  4.9836e-01,\n",
            "          1.8545e-01,  8.9499e-01,  5.9309e-01,  1.0740e-01, -1.9741e+00,\n",
            "          1.1896e-02, -3.4120e-01,  1.8996e-01,  4.8370e-01,  5.5516e-01,\n",
            "          5.4533e-01, -2.7467e-01, -4.8818e-01,  4.6871e-03, -6.8529e-01,\n",
            "          6.5712e-01,  1.1894e+00,  2.2548e-01,  6.4444e-01, -1.0657e+00,\n",
            "          5.8761e-02,  9.5691e-01,  2.7427e+00,  2.4738e-01,  9.1391e-01,\n",
            "         -2.9966e-01,  2.3112e-01,  2.1968e-01,  5.1754e-01, -1.0854e-02,\n",
            "         -8.4444e-01, -3.9944e-01,  6.7501e-01,  4.2689e-01, -1.8122e+00,\n",
            "         -2.2575e-02, -1.7217e-01, -1.5659e-01,  4.4677e-02, -1.5484e-01,\n",
            "         -3.3277e-01,  8.3846e-01, -9.8524e-01, -1.9466e-01, -8.6871e-01,\n",
            "          4.8994e-01,  4.5860e-01, -6.2348e-01,  1.2249e+00,  1.1764e+00,\n",
            "          4.8041e-01, -3.7549e-01, -1.3159e-01,  7.7690e-01,  2.9191e-01,\n",
            "          1.5724e+00, -4.2376e-01,  3.6873e-01,  1.7615e-01,  1.0524e+00,\n",
            "         -5.0403e-01,  2.0871e+00,  4.2527e-01,  1.0303e+00, -6.3542e-01,\n",
            "         -5.0821e-01,  2.1578e+00, -1.4801e-01, -7.8216e-01,  6.7883e-01,\n",
            "         -2.5914e-01,  1.1601e-01,  2.1392e-02,  2.2534e-01,  1.3913e+00,\n",
            "         -2.7366e-01, -8.3886e-02,  2.4165e-02,  2.1484e-01, -6.1600e-01,\n",
            "          6.6845e-01,  4.7650e-01, -4.0164e+00,  5.3422e-01, -4.9297e-01,\n",
            "          8.6461e-01,  9.9087e-01,  4.5187e-01,  8.3364e-01, -7.8949e-01,\n",
            "         -9.0041e-01,  7.5648e-01, -3.1646e-01,  8.5754e-02,  1.1783e+00,\n",
            "          3.7038e-01, -3.0317e-01,  6.8022e-01,  6.7861e-01, -1.8250e-01,\n",
            "          2.6057e-01,  1.1719e+00,  7.3981e-01,  6.4170e-02,  1.2413e+00,\n",
            "         -8.2331e-01,  1.2474e+00, -1.2265e+00,  3.2279e-01, -6.6449e-01,\n",
            "          1.0964e+00, -5.4272e-01,  1.3871e+00, -3.1265e-01,  7.9029e-01,\n",
            "          5.3712e-01, -9.6149e-01, -1.3998e-02, -1.2970e-03, -1.6126e+00,\n",
            "         -1.4155e+00, -4.9147e-02,  6.1599e-01,  7.0902e-01, -2.2339e+00,\n",
            "          8.4892e-01,  9.1283e-01,  1.5287e-01,  1.2512e+00, -8.1311e-01,\n",
            "          4.3815e-01,  6.8274e-01, -9.5263e-02, -1.2757e+00, -9.6412e-01,\n",
            "          2.5789e-01, -1.9022e-01, -8.1747e-01,  8.3547e-01, -1.3276e+00,\n",
            "          3.6447e-02, -1.6897e+00,  1.4228e+00,  3.7200e-01,  4.8650e-01,\n",
            "         -1.1919e-01,  2.2631e-01,  5.8031e-02, -3.6920e-01, -9.4983e-01,\n",
            "         -1.1050e+00,  9.4078e-01,  3.7982e-01,  3.4590e-01, -1.3299e+00,\n",
            "          7.5328e-01,  6.6320e-01, -1.5782e+00, -1.9670e-02, -8.5424e-01,\n",
            "          4.3470e-01, -2.4324e-01,  1.2249e+00,  1.3945e+00,  7.1988e-01,\n",
            "         -1.5172e-01, -9.8494e-01, -1.0684e+00,  1.0825e+00, -1.4699e-01,\n",
            "         -9.6883e-01,  2.0055e+00,  1.1857e+00,  3.1684e+00,  6.1267e-01,\n",
            "          1.9742e-02, -1.3110e+00,  3.3372e-01, -3.6316e-01,  2.9229e-01,\n",
            "          7.1548e-01, -8.6775e-01, -5.6658e-01,  5.4531e-01, -3.5187e-02,\n",
            "          3.1250e-02,  1.4731e+00,  9.2380e-02, -6.0984e-01, -7.7909e-01,\n",
            "         -1.4052e-01,  1.3819e+00, -1.1987e+00,  1.6608e-01,  2.1536e+00,\n",
            "         -8.7553e-02,  8.2894e-01, -8.6142e-01,  9.3960e-01, -3.8016e-02,\n",
            "          4.5208e-01,  3.0989e-01, -1.2317e+00, -5.3008e-02,  3.5712e-01,\n",
            "         -1.0156e-01,  8.6207e-02,  2.6011e-01,  7.5237e-01,  1.8052e+00,\n",
            "          3.7021e-01,  8.1794e-01,  7.3270e-02, -1.2741e+00,  2.7100e-01,\n",
            "         -8.2921e-01,  4.8625e-01, -1.0802e+00, -4.9286e-01,  1.1970e+00,\n",
            "          9.6633e-01, -4.9510e-01,  7.1045e-01,  1.8738e+00, -1.6061e-01,\n",
            "          1.3421e+00,  6.5850e-01, -3.2413e-01,  1.3365e+00, -9.9931e-01,\n",
            "         -6.8320e-01, -9.2422e-02, -7.0776e-01,  1.0661e+00, -5.8584e-01,\n",
            "          9.4137e-01, -8.2591e-01,  1.2021e+00,  3.7604e-01,  8.6780e-01,\n",
            "          5.0986e-01,  1.0846e+00,  8.3259e-02,  1.4432e+00,  9.6141e-03,\n",
            "          1.6788e+00,  7.1378e-01,  1.2704e+00,  1.1128e+00,  1.3236e-01,\n",
            "         -1.1747e+00,  7.0492e-01, -1.2476e+00, -3.5698e-01, -2.4711e-01,\n",
            "         -6.9130e-01, -1.2858e-01,  5.2318e-01, -5.7250e-01,  1.4686e-01,\n",
            "         -1.6527e+00, -3.6953e-01, -6.8674e-01, -2.6443e-01, -5.5180e-01,\n",
            "         -7.8256e-03, -2.0815e-01, -5.2493e-02,  1.6462e+00,  8.6224e-02,\n",
            "          9.3990e-01,  2.5976e-02, -1.0755e+00, -3.8041e-01, -1.1509e+00,\n",
            "          1.0831e+00, -5.6200e-01, -1.9088e-01,  2.2258e+00,  2.1122e+00,\n",
            "         -1.5225e-01,  2.2027e-01,  8.7359e-01,  2.9849e-01, -1.7020e+00,\n",
            "          2.7466e-01,  1.6729e-01, -2.4352e-01, -1.3417e-01, -1.8758e-01,\n",
            "          3.7957e-01, -8.9288e-01, -9.3530e-01,  7.5445e-01,  2.0323e+00,\n",
            "         -3.8138e-01,  9.3203e-01,  2.0750e+00, -5.7446e-01,  6.7456e-01,\n",
            "         -2.0352e+00,  4.8305e-01, -7.8907e-01,  1.9468e-01, -1.7448e-02,\n",
            "         -6.9046e-02,  9.0687e-02, -1.2228e+00, -8.3826e-01, -2.6585e-01,\n",
            "          7.6529e-01, -4.2159e-01,  1.4462e+00, -5.1191e-02,  1.8583e+00,\n",
            "          9.1759e-01, -2.5867e-01,  1.3831e+00, -1.8883e-01,  1.7231e+00,\n",
            "          8.6158e-01, -2.9126e-01, -1.4430e-01, -2.1045e+00, -6.5830e-01,\n",
            "          6.4239e-02,  4.0637e-01, -1.8969e+00, -5.3413e-01, -3.2791e-01,\n",
            "         -1.5660e-01, -3.3244e-01, -1.8850e+00,  3.3422e-01,  4.1171e-01,\n",
            "         -1.0433e-01, -1.8967e+00,  7.2320e-02,  7.1476e-01, -3.9841e-01,\n",
            "          5.8046e-02,  1.9165e+00, -6.7558e-01, -7.0858e-01, -8.9932e-01,\n",
            "         -1.1474e+00, -8.0790e-02,  3.4581e-01,  7.1262e-01,  7.0862e-01,\n",
            "         -3.5379e-01,  3.4226e-01,  5.7936e-01,  3.0706e+00, -4.2844e-01,\n",
            "         -1.2368e-02,  5.2721e-01, -5.2243e-01,  1.0145e+00, -1.7119e-01,\n",
            "          1.2160e+00,  2.6227e-01,  3.8308e-01,  8.4434e-01,  1.1397e+00,\n",
            "          4.8849e-01, -1.0522e+00, -1.3443e+00,  6.9530e-01,  2.9400e-01,\n",
            "         -2.1753e-01, -2.9435e-01, -5.0765e-01,  6.2038e-01,  3.5719e-01,\n",
            "          6.7608e-01,  2.0944e-01,  3.6636e-01, -4.7565e-02,  3.1034e+00,\n",
            "         -5.3818e-01, -1.0386e+00,  3.1018e-01,  1.3368e+00,  4.1999e-01,\n",
            "          2.0584e+00, -1.5884e+00,  8.4690e-01,  3.2021e+00, -6.4086e-01,\n",
            "          3.1773e-03,  4.1892e-01,  5.1550e-01,  4.0143e-01, -2.3157e+00,\n",
            "          1.0414e+00, -8.3415e-01,  2.4126e-01,  6.8818e-01, -1.1251e+00,\n",
            "         -4.8792e-01, -1.0359e+00,  9.1501e-02,  8.2988e-01,  1.7914e+00,\n",
            "          2.8323e-01, -1.2857e-01,  9.6465e-01,  6.2705e-01,  1.1669e+00,\n",
            "         -1.1407e+00,  6.6250e-01,  1.9535e-01,  6.7029e-01,  1.5299e+00,\n",
            "          3.1681e-01,  1.9267e+00, -7.6189e-01, -8.0521e-01, -1.1613e+00,\n",
            "          1.3707e+00,  1.1462e-01, -3.8880e-02, -1.5021e-01,  7.7263e-01,\n",
            "         -3.2159e-02, -8.2171e-02, -1.9766e-01, -9.0136e-01,  1.4495e-01,\n",
            "         -1.2249e+00,  1.6910e-01, -3.8270e-01,  7.8109e-01, -2.0953e-01,\n",
            "          1.2211e-02,  3.7336e-01, -4.6134e-01,  9.5935e-02,  1.7606e+00,\n",
            "          3.7127e-01, -1.3329e+00,  1.5193e-01,  6.5708e-01,  1.2220e+00,\n",
            "          3.1150e+00, -9.3531e-01,  2.4771e-01, -7.6624e-01,  1.2219e+00,\n",
            "          7.1341e-01, -4.7922e-01,  4.3846e-01,  3.1385e-01,  1.8069e+00,\n",
            "          2.5141e-01, -2.5419e-01, -1.4423e-01, -2.7764e-01,  6.2358e-01,\n",
            "          9.9674e-01,  1.4657e+00, -8.3740e-01,  1.3937e+00, -1.3456e-01,\n",
            "         -7.7428e-01,  9.2282e-01, -2.9510e-01, -1.0402e+00,  3.6097e-01,\n",
            "         -2.7470e-01, -1.1927e+00, -9.1386e-01,  8.5645e-01, -5.7296e-01,\n",
            "         -3.4440e-01, -5.3912e-02,  8.2287e-01, -9.4549e-01, -4.2172e-01,\n",
            "         -4.3925e-01, -1.3016e+00]], grad_fn=<IndexBackward0>), hidden_states=None, attentions=None), vision_model_output=BaseModelOutputWithPooling(last_hidden_state=tensor([[[ 0.1239, -0.2276, -0.6916,  ..., -0.3717, -0.0709, -0.0903],\n",
            "         [ 0.3190, -0.1795, -0.1102,  ...,  0.1804,  0.1041, -0.0198],\n",
            "         [ 0.5760,  0.1282, -0.1604,  ...,  0.3587,  0.1876,  0.0167],\n",
            "         ...,\n",
            "         [ 0.2802,  0.5351, -0.6355,  ..., -0.0850, -0.0221,  0.1947],\n",
            "         [-0.0094,  0.3937,  0.0812,  ..., -0.0476, -0.4573, -0.3648],\n",
            "         [ 0.8904,  0.3735, -0.6145,  ...,  0.0519, -0.2629,  0.2084]]],\n",
            "       grad_fn=<AddBackward0>), pooler_output=tensor([[ 5.6620e-01, -1.0573e+00, -1.9351e+00, -4.2748e-01,  8.5778e-01,\n",
            "          1.3130e-01,  1.1246e-01,  6.2090e-01, -7.5262e-01, -4.0315e-01,\n",
            "          1.5865e+00, -1.7685e-01,  1.1057e+00,  7.8173e-01,  1.5258e+00,\n",
            "          2.6252e+00,  4.9228e-01,  7.6742e-01,  7.4967e-01,  2.0107e+00,\n",
            "          6.1196e-02,  5.6350e-02,  3.5025e-01, -8.9024e-01, -4.0427e-01,\n",
            "          1.0480e+00,  7.2524e-01,  3.9292e-01, -1.5638e+00, -2.7828e-01,\n",
            "         -1.9515e+00, -7.6517e-01,  4.9487e-01,  2.4196e+00, -2.5016e-01,\n",
            "          2.5819e-01, -4.1971e-01, -1.1819e-01, -5.5659e-01,  3.4437e-01,\n",
            "         -4.9713e-01, -4.3558e-01, -1.1182e+00, -2.8022e-01, -2.9567e-01,\n",
            "         -1.0846e+00,  1.1542e+00,  6.2672e-01,  2.3059e-01,  9.4088e-01,\n",
            "         -6.6926e-02, -8.0086e-01,  3.5200e-01,  3.4492e-01,  8.7781e-01,\n",
            "          5.9371e-02,  1.3316e+00,  9.0047e-02,  2.2759e+00,  1.2217e+00,\n",
            "          5.2309e-02, -1.3931e-01, -1.5561e+00,  4.0506e-01, -5.0963e-01,\n",
            "          5.4436e-01, -3.5648e-01,  1.4200e+00,  3.4355e-01,  3.4129e-01,\n",
            "          1.5573e+00, -1.2800e-04, -2.3299e-01,  1.8190e+00, -2.9663e-01,\n",
            "         -4.7338e-01,  5.1639e-01, -8.6815e-01,  4.3272e-01,  7.8031e-01,\n",
            "          1.6531e+00,  2.4923e-01, -7.9069e-01, -1.0136e+00,  1.0923e+00,\n",
            "          7.3471e-01, -1.6733e+00, -7.9745e-02,  5.8681e-02, -4.6237e-01,\n",
            "          1.6279e+00,  9.0152e-01,  2.3631e+00,  4.3165e-01, -2.7668e-01,\n",
            "          7.6781e-01,  4.5435e-01,  9.2039e-01,  4.0684e-02,  1.4686e+00,\n",
            "          6.7880e-01,  1.2962e+00, -1.7064e+00,  3.7318e-01, -6.8469e-01,\n",
            "          6.6151e-02,  1.1249e+00,  1.0145e+00,  2.1803e-01,  6.7391e-01,\n",
            "         -5.7602e-01,  1.3765e+00,  3.4125e-01, -1.8902e-01, -1.2521e+00,\n",
            "         -8.1316e-02, -8.1582e-01, -2.7473e+00, -2.2911e-01,  3.6746e-01,\n",
            "         -2.7073e-01,  3.3139e-01,  6.8733e-01, -8.3138e-01, -8.0934e-01,\n",
            "         -7.9951e-01,  4.5602e-01,  6.0234e-01, -2.9498e+00, -1.0315e+00,\n",
            "          1.6425e-02,  9.0587e-01,  2.5594e-01, -1.2447e+00, -3.5093e-02,\n",
            "          1.4826e+00,  7.4995e-01, -1.9116e-01,  1.2639e+00,  3.1452e-01,\n",
            "          8.2825e-01,  1.4310e+00,  6.7659e-01,  4.8380e-01,  3.0471e-01,\n",
            "         -8.7494e-01, -4.9736e-01,  1.0396e+00, -7.2374e-01,  1.7983e+00,\n",
            "          3.0632e-01, -9.8051e-01, -7.4578e-01, -5.4881e-01,  1.9637e-01,\n",
            "         -1.7962e-01,  5.1512e-02, -2.0212e-01,  2.7791e-01,  3.9361e-01,\n",
            "         -1.6359e-04,  1.1543e+00, -1.3375e+00,  1.5128e+00, -5.8616e-01,\n",
            "         -3.4695e-01,  6.5962e-01,  2.0823e+00,  9.9568e-01, -2.2582e-01,\n",
            "          8.5544e-01,  6.9300e-01,  1.1127e+00,  1.9041e+00,  7.6322e-01,\n",
            "          1.2636e+00, -1.1441e+00,  5.1667e-01, -5.8134e-01,  2.9434e-01,\n",
            "          1.7072e+00, -1.2490e+00, -3.9089e-01, -8.1881e-01, -2.6489e-01,\n",
            "          8.4344e-01,  1.2631e+00, -9.2444e-01,  9.8500e-01, -2.6939e-01,\n",
            "          1.5297e-01,  2.7570e-01, -2.2051e-01, -3.3640e-01, -1.1225e-01,\n",
            "          2.0066e+00,  3.4995e-01,  1.0847e+00,  1.0696e+00,  4.3964e-01,\n",
            "          6.3315e-01,  9.0685e-01, -1.1598e-01, -8.3913e-02,  3.7526e-01,\n",
            "         -5.3644e-01,  4.4510e-03,  1.5555e+00,  4.9122e-01,  2.6786e-02,\n",
            "          6.9528e-01,  2.2118e-01,  6.0675e-01,  3.1139e-01, -6.6059e-01,\n",
            "         -7.3085e-01,  6.0684e-01,  6.4262e-01,  1.4556e+00,  1.2714e+00,\n",
            "         -6.2904e-01,  9.4903e-01, -9.3014e-01,  1.0761e-01, -1.6163e+00,\n",
            "         -6.2861e-01,  3.1937e-01,  7.0521e-01, -2.5612e-01,  4.5496e-01,\n",
            "          2.9212e-02, -4.2267e-01, -1.1511e+00, -8.9826e-01, -7.0502e-01,\n",
            "          5.3630e-01, -5.3763e-01, -1.6936e-01,  2.8856e-01, -8.0119e-02,\n",
            "         -5.6690e-01, -4.5913e-01,  5.4882e-01,  6.8115e-01,  9.5074e-02,\n",
            "          6.3115e-01, -2.4714e-01,  1.0509e+00,  1.1592e-01,  1.0686e+00,\n",
            "          1.3633e+00,  4.1867e-01,  1.3867e-02, -3.6754e-01,  9.0289e-01,\n",
            "         -3.4967e+00, -9.8817e-01,  1.5787e+00,  8.6838e-01,  1.2582e-01,\n",
            "         -4.0704e-01,  1.6360e+00,  5.1675e-01, -1.4139e+00,  5.5850e-01,\n",
            "          2.9468e+00, -1.0533e-01, -7.0282e-01,  1.8316e+00, -9.3007e-01,\n",
            "         -8.2592e-03, -1.5485e-01, -6.0012e-01,  9.6140e-01, -1.4303e-01,\n",
            "          1.9697e+00, -1.6137e-01,  1.5138e+00,  5.1583e-01,  1.7577e-01,\n",
            "          2.3301e-01,  2.5012e-01,  7.5383e-01,  6.5737e-01,  3.6469e-01,\n",
            "          1.7268e+00, -2.0224e-01,  1.1318e+00, -3.6725e-01,  9.3271e-01,\n",
            "          2.2398e-01, -3.6982e-01,  1.7078e-01,  1.6083e-01,  1.1336e-01,\n",
            "          7.2058e-02,  8.5716e-01,  2.7581e-01, -3.5328e-01,  4.0112e-01,\n",
            "          1.5142e+00,  1.3394e+00, -1.2747e+00, -1.4539e-01, -5.2050e-01,\n",
            "          8.6830e-01, -9.7178e-02,  3.4411e-01,  1.1446e-02, -2.8904e-01,\n",
            "          2.3428e-02, -2.7594e-01,  1.3236e-02,  1.3438e+00,  4.1660e-03,\n",
            "          5.0363e-01, -1.1577e+00,  1.2958e+00,  1.3339e+00,  2.1356e+00,\n",
            "          4.2164e-02,  2.5932e-01,  1.2307e+00,  7.4999e-01,  2.9568e-01,\n",
            "         -3.2347e-01, -2.3123e-01, -4.0445e-01,  1.1120e+00, -1.0670e+00,\n",
            "         -1.6061e-01,  1.4399e+00,  7.4765e-01,  4.2640e-01,  5.6606e-01,\n",
            "          1.2746e+00, -5.1939e+00, -1.0684e+00, -4.3537e-01, -8.1890e-01,\n",
            "          6.7502e-01, -4.9248e-01,  1.8130e-01,  1.9431e+00,  3.1308e+00,\n",
            "         -4.7590e-01, -6.5693e-02,  2.8318e-01,  1.9218e-01,  1.9163e+00,\n",
            "          1.0794e+00, -6.2041e-01,  4.4490e-01,  1.6475e+00,  3.5319e-01,\n",
            "         -5.9186e-01, -2.2912e-01,  5.0331e-01,  1.2427e+00,  1.2476e-01,\n",
            "         -1.1682e+00,  1.9215e+00,  1.0114e+00, -2.6057e-01, -2.4136e-01,\n",
            "          1.6224e-01,  4.5798e-02,  1.9106e-01,  1.8280e-01, -4.3708e-01,\n",
            "          8.4108e-01, -9.0206e-01,  2.5290e-01,  2.9824e-01, -5.5616e-01,\n",
            "         -5.6059e-01, -5.4295e-01,  9.6196e-01,  1.3902e+00, -8.5900e-01,\n",
            "          2.5800e-01,  6.3428e-02,  5.4989e-01,  1.2989e+00,  1.1641e-02,\n",
            "          1.3038e+00, -6.0345e-01, -1.1868e+00, -5.7932e-01, -4.1141e-01,\n",
            "         -3.2265e-01,  1.0834e+00, -4.1504e-01, -1.3996e-01, -1.0940e+00,\n",
            "          8.8483e-01,  1.6762e+00,  1.2945e+00,  1.8318e+00, -1.4847e-02,\n",
            "          2.1953e-01,  5.9393e-01, -3.5177e-01,  6.7373e-01,  3.2572e-01,\n",
            "         -8.5857e-01, -1.3421e+00,  1.7735e+00,  2.4348e-01, -3.6363e-02,\n",
            "          2.3262e+00, -1.8402e+00, -1.4890e+00,  4.0503e-01, -1.2013e+00,\n",
            "          1.1891e+00, -1.3708e+00,  5.2516e-01, -4.2633e-01, -1.2688e+00,\n",
            "         -1.3890e+00, -3.5438e-01, -1.4452e+00,  3.6732e-01,  6.1741e-01,\n",
            "          6.9256e-01, -9.4315e-01,  1.5809e+00, -3.9207e-01, -6.7785e-01,\n",
            "         -5.3296e-02, -2.2208e-01, -3.1905e-01, -6.6981e-01,  1.2032e-01,\n",
            "          3.0690e-01, -1.6463e-01,  1.2632e+00,  2.8992e-01,  1.0104e-01,\n",
            "          4.9731e-01, -1.0808e+00, -2.8580e-01,  3.0285e-01,  1.1250e+00,\n",
            "          1.8569e+00,  1.1119e+00, -4.6393e-01, -8.6513e-01,  1.9437e-01,\n",
            "         -2.0478e-01, -1.9480e-01,  1.4276e+00,  6.8404e-01,  1.1783e+00,\n",
            "         -1.4576e-01,  1.1959e+00,  1.7953e-01, -1.2238e+00,  2.1683e+00,\n",
            "          2.2332e+00, -3.1124e-01,  2.9739e-01,  1.3900e+00, -5.6985e-01,\n",
            "          1.5081e-01,  1.2133e-01,  2.6758e-02,  3.1928e-01,  9.1926e-01,\n",
            "          1.0091e+00,  9.5320e-01, -3.5815e-01,  6.3524e-01,  6.8934e-01,\n",
            "          2.1215e-02, -3.9008e-01,  1.2465e+00,  1.6692e+00,  5.1916e-02,\n",
            "          9.2890e-01,  1.0280e+00,  6.1858e-01, -1.0779e-01,  2.3475e+00,\n",
            "          3.5924e-01,  6.6283e-01,  1.0002e+00,  1.1544e-01, -1.3329e+00,\n",
            "          9.0169e-01, -1.1264e+00,  7.1703e-02, -1.0273e+00, -1.0525e+00,\n",
            "          2.5155e-01,  3.5242e-01,  1.0421e+00, -6.9362e-01,  1.0824e+00,\n",
            "          9.8608e-01, -7.6141e-01,  3.6118e-01, -5.3581e-01,  3.4763e-01,\n",
            "         -2.2001e-01, -1.0418e+00,  8.5637e-01,  6.6348e-01,  8.2379e-01,\n",
            "         -4.2123e-05,  3.1011e+00,  8.1584e-01,  8.1953e-01, -3.5312e-01,\n",
            "          3.5534e-01, -5.3455e-01,  9.8204e-02,  5.4595e-01,  1.4937e+00,\n",
            "         -3.1670e-01, -9.8417e-01, -8.0943e-01, -1.3464e-01,  6.5080e-01,\n",
            "         -6.4881e-01, -2.9482e-01,  2.0781e+00,  1.7562e+00, -2.5616e-01,\n",
            "          1.2828e+00,  6.2098e-02,  4.3035e-02, -2.7372e-01, -3.9232e-01,\n",
            "         -1.4145e+00,  1.1361e+00,  9.3458e-01, -2.0148e-02, -1.4597e+00,\n",
            "          2.0271e+00, -2.0085e-01,  7.4722e-01,  4.2967e-01, -5.9649e-02,\n",
            "          3.7886e-01,  8.7012e-01,  8.2438e-01, -9.1555e-01,  6.5941e-01,\n",
            "         -2.5502e-01,  9.7232e-02, -9.7960e-01,  9.3308e-01, -4.5355e-01,\n",
            "         -2.7397e-01,  5.0489e-01,  2.3926e-01, -1.2391e+00,  6.1947e-01,\n",
            "          1.1897e+00, -1.1902e+00,  6.1019e-01, -6.7437e-01, -4.8102e-01,\n",
            "          7.2778e-01, -3.0185e-01,  1.7595e+00, -1.3015e+00,  1.6839e-01,\n",
            "         -5.2867e-01, -6.9245e-01,  1.1276e+00, -6.5584e-01, -9.8728e-01,\n",
            "          9.2268e-01, -8.3980e-01, -2.2810e+00,  7.1987e-01,  4.0881e-01,\n",
            "          5.2626e-01,  4.8489e-01,  1.9242e+00,  1.2490e+00,  1.0668e+00,\n",
            "         -8.8231e-02, -2.6471e+00,  3.5364e-01,  8.8308e-01, -9.1634e-03,\n",
            "         -5.3042e-01, -1.3103e+00, -4.3713e-01,  1.6817e+00,  9.9905e-01,\n",
            "         -3.2878e-01, -2.3658e-02,  9.7476e-01, -6.1069e-01, -5.1848e-01,\n",
            "         -7.0751e-01,  1.2451e+00,  6.1327e-01, -1.4414e-01,  3.8536e+00,\n",
            "         -2.8434e-01, -8.5631e-02,  1.7297e+00,  3.4194e-01, -1.2665e-01,\n",
            "          9.6325e-01, -1.4054e-01,  1.4111e+00, -4.9947e-01, -7.3661e-01,\n",
            "          3.7344e-01,  6.6682e-01, -2.3854e-02,  1.1574e+00, -3.2334e-01,\n",
            "          5.6213e-02,  5.0091e-01,  1.4104e-01,  8.0379e-01, -1.7822e+00,\n",
            "          1.8109e+00,  1.2244e+00,  1.6611e+00, -4.4881e-01,  3.1287e-01,\n",
            "          6.6885e-01,  3.4662e-01,  3.9572e-01, -3.5239e-01,  9.3433e-01,\n",
            "          7.2168e-02, -6.0811e-01, -2.1158e-01, -2.9637e-02,  9.0310e-01,\n",
            "          6.7680e-01,  4.9014e-01,  6.4637e-01, -5.5655e-01, -5.1228e-01,\n",
            "          6.9781e-01, -8.3214e-02, -4.9854e-01, -6.3250e-01,  1.2367e+00,\n",
            "         -1.8462e+00,  2.4808e-01, -6.9878e-01,  1.8881e+00,  1.5822e+00,\n",
            "          1.4922e+00,  5.5641e-01, -7.0573e-01,  4.5646e-01, -3.6360e-01,\n",
            "         -7.6078e-01,  5.4997e-01, -7.1900e-01, -8.1125e-01, -5.5511e-01,\n",
            "         -1.2026e-01, -1.1791e+00, -1.9908e-01,  1.2056e+00,  1.1698e+00,\n",
            "          1.1090e+00,  6.1280e-01,  6.4388e-01,  2.4794e+00, -1.9119e-01,\n",
            "          3.9298e-01,  1.0332e+00, -1.0816e+00,  6.8907e-01,  5.5808e-01,\n",
            "          8.9546e-01,  1.1554e-01,  5.7207e-01, -2.4575e-01,  3.2724e-01,\n",
            "         -7.8306e-01,  1.5703e-01, -9.1119e-01,  1.7280e+00,  8.3873e-01,\n",
            "         -9.3416e-01, -6.4839e-01, -2.0966e-02,  1.9638e-01,  9.2099e-01,\n",
            "         -2.0662e+00,  2.0677e-01, -5.4157e-02,  1.3825e+00,  6.3277e-01,\n",
            "         -5.5364e-01,  8.6026e-01,  1.0778e-01, -6.5421e-01,  6.6991e-01,\n",
            "          2.8876e-01,  1.9455e+00,  1.0057e+00,  1.5682e+00,  4.9219e-02,\n",
            "          2.3659e-01, -1.2819e-01, -3.8642e-01,  5.8780e-02,  9.3755e-01,\n",
            "          1.1867e+00, -3.6924e+00, -7.8839e-01,  4.4729e-01, -2.2017e+00,\n",
            "         -1.0386e+00,  7.9577e-01, -6.9393e-02, -5.0308e-02, -9.1393e-01,\n",
            "          2.5988e-01,  1.3663e+00, -1.0440e+00,  1.1824e+00, -1.7336e-03,\n",
            "          6.4773e-01,  7.9423e-01, -1.5239e-01, -3.1310e-02,  7.3284e-01,\n",
            "          6.5608e-01, -9.2588e-01,  9.4414e-01,  1.1976e-01,  5.2370e-01,\n",
            "         -7.9827e-01, -9.9684e-01, -1.8556e-01,  1.2768e-01,  4.8699e-01,\n",
            "          1.9745e+00,  7.7531e-01,  1.3900e-01, -2.3016e-01, -3.4916e-02,\n",
            "          1.1086e+00, -1.4535e+00, -5.2531e-01, -9.0274e-01, -4.6407e-01,\n",
            "         -2.5044e-02,  1.7642e-01,  1.3816e+00,  1.4185e+00, -8.4522e-01,\n",
            "         -3.8295e-01,  4.8990e-01, -1.1934e-01,  6.0039e-01,  1.7425e+00,\n",
            "         -1.1817e+00, -3.5869e-02, -1.1127e-01]],\n",
            "       grad_fn=<NativeLayerNormBackward0>), hidden_states=None, attentions=None))\n",
            "tensor([[25.0906]], grad_fn=<TBackward0>) torch.Size([1, 1])\n",
            "tensor([[1.]], grad_fn=<SoftmaxBackward0>) torch.Size([1, 1])\n"
          ]
        }
      ]
    },
    {
      "cell_type": "code",
      "source": [
        "print(outputs.text_embeds, outputs.text_embeds.shape)\n",
        "print(outputs.image_embeds, outputs.image_embeds.shape)"
      ],
      "metadata": {
        "colab": {
          "base_uri": "https://localhost:8080/"
        },
        "id": "fuMI_Koh0cNW",
        "outputId": "db634750-c451-4a85-af2c-0eccd62f987e"
      },
      "execution_count": null,
      "outputs": [
        {
          "output_type": "stream",
          "name": "stdout",
          "text": [
            "tensor([[ 8.7074e-03,  2.5829e-02, -3.8658e-02,  1.2289e-02, -1.0465e-02,\n",
            "          8.2227e-03, -3.4132e-03, -7.6734e-02, -7.7502e-03,  3.8274e-02,\n",
            "         -5.3368e-02, -3.0472e-02, -8.7328e-04, -4.2263e-04,  3.0874e-02,\n",
            "          3.4900e-03,  3.1060e-02, -2.8744e-03, -2.9158e-02, -1.2004e-02,\n",
            "          5.6583e-02,  1.0323e-02,  4.8625e-02,  2.4152e-03, -1.8617e-05,\n",
            "          1.0560e-03,  3.9891e-03,  4.1941e-02, -2.4636e-02, -1.5361e-02,\n",
            "          3.1289e-02,  2.9056e-02,  1.9494e-03,  7.0760e-03, -2.0747e-02,\n",
            "         -1.7747e-02,  1.1385e-02, -2.5407e-02, -1.5976e-02,  2.4322e-02,\n",
            "         -4.2275e-02,  2.8234e-02,  2.7083e-02,  2.3124e-03,  1.7070e-02,\n",
            "          1.0458e-02, -2.7164e-02,  1.6151e-02, -3.0737e-03, -7.3802e-03,\n",
            "          7.0237e-03, -1.2782e-02,  3.8851e-02, -7.8743e-03,  7.3336e-03,\n",
            "         -4.1178e-02,  1.3934e-02,  5.3320e-03, -1.6559e-02, -2.8982e-03,\n",
            "          3.8474e-02, -1.1961e-02, -1.6106e-02,  2.1629e-02,  1.8345e-02,\n",
            "         -1.9301e-02, -9.2809e-03,  2.4471e-02, -3.2578e-02, -1.4715e-02,\n",
            "         -5.3761e-03, -1.1790e-02,  2.9754e-03,  2.8825e-02, -2.6377e-02,\n",
            "         -1.0121e-02,  1.7288e-02,  7.7862e-03, -5.8698e-03, -2.6058e-02,\n",
            "          2.3102e-02, -6.7375e-03, -1.7996e-02, -1.2644e-03,  3.2521e-02,\n",
            "          3.6386e-03,  2.4855e-02, -2.4585e-02,  2.5129e-02, -5.8342e-04,\n",
            "          1.1552e-02, -2.2867e-02, -1.2916e-01,  4.4998e-02,  1.2449e-02,\n",
            "         -1.2255e-02, -9.7825e-03,  2.4894e-02, -1.2493e-02, -8.3787e-03,\n",
            "          1.6588e-02, -4.1843e-03,  1.5391e-02,  9.0037e-04,  1.4745e-03,\n",
            "         -2.6983e-02,  2.2717e-03,  3.0658e-02,  1.4714e-02, -9.9129e-04,\n",
            "         -9.7399e-03, -4.7641e-02,  5.3501e-03, -1.1987e-02, -3.4999e-02,\n",
            "          1.2589e-03, -1.3157e-02, -1.1918e-02,  3.6092e-03, -2.7667e-03,\n",
            "          2.3444e-02, -7.8317e-02,  2.4673e-03, -6.0568e-02,  1.9166e-02,\n",
            "         -1.3388e-02, -4.2668e-03, -2.4571e-02, -6.4775e-03,  2.7003e-02,\n",
            "          1.0294e-02, -4.8132e-02, -2.5084e-02,  5.9735e-01, -8.3749e-03,\n",
            "         -2.7069e-02, -1.9752e-02, -5.0939e-02,  5.0788e-03,  2.5555e-03,\n",
            "         -2.5874e-02,  1.4310e-02, -2.6532e-02,  1.9728e-02, -4.4346e-02,\n",
            "          2.5422e-02, -1.3377e-02, -4.3432e-02, -1.8319e-02,  4.5355e-03,\n",
            "          1.8668e-02, -9.3942e-03,  2.7417e-03,  3.2944e-02, -2.2777e-02,\n",
            "         -5.6250e-03,  1.9528e-02, -3.9063e-02, -7.8254e-03,  1.9326e-02,\n",
            "         -8.1517e-03,  8.9795e-03,  1.2044e-02, -4.0538e-02,  2.6925e-02,\n",
            "         -7.1262e-03,  2.1474e-02, -3.5126e-02,  6.6406e-03,  1.3075e-02,\n",
            "         -5.7256e-03, -1.8296e-02, -6.6312e-03,  3.4428e-03, -2.6316e-02,\n",
            "          6.6302e-03, -1.2438e-03,  1.1499e-02,  2.0357e-02,  4.6186e-03,\n",
            "         -1.5026e-02,  1.9666e-02, -3.0363e-02, -1.0174e-02, -1.1064e-02,\n",
            "         -3.0453e-04, -2.7389e-03, -1.6299e-02, -3.1447e-02,  1.9601e-03,\n",
            "         -8.4131e-03, -4.4779e-02, -1.0378e-03,  2.8450e-03, -1.3541e-02,\n",
            "          1.0547e-02,  6.2743e-03, -1.0642e-02, -4.7677e-02, -5.3705e-03,\n",
            "          1.1504e-04, -7.0597e-03,  1.2109e-02,  1.8779e-02,  5.9788e-03,\n",
            "         -2.2830e-02,  3.4682e-03, -4.9125e-02,  2.5139e-02, -1.1445e-02,\n",
            "          2.7459e-02,  3.7123e-02,  2.9943e-02,  3.3444e-03, -1.7023e-02,\n",
            "          4.0921e-03, -5.5410e-03,  2.1371e-02,  2.4898e-02,  4.0154e-04,\n",
            "          6.4086e-03, -1.4115e-02, -1.9045e-02, -1.5229e-02,  3.7291e-03,\n",
            "         -3.9489e-02,  3.1113e-02,  6.9283e-03, -1.3583e-02, -1.9717e-02,\n",
            "         -7.5150e-03,  1.7375e-02,  8.8907e-03,  2.1707e-02,  1.9775e-02,\n",
            "         -4.0463e-03, -1.4051e-02, -2.1923e-02, -1.4484e-02, -2.2431e-02,\n",
            "         -2.0259e-02,  5.2400e-02, -8.3428e-04,  2.8850e-02,  7.2039e-03,\n",
            "          2.0847e-03,  8.1956e-04, -9.9832e-03, -1.3028e-02,  1.7018e-03,\n",
            "          6.9524e-03,  1.3594e-02,  2.8371e-02,  4.8108e-02,  7.6570e-03,\n",
            "          1.0944e-02, -1.3875e-02, -7.7890e-04,  9.3141e-03,  5.1979e-02,\n",
            "         -1.7480e-02,  1.7806e-02,  2.4016e-02, -1.1196e-02, -1.9264e-02,\n",
            "          1.0140e-02, -1.6303e-02, -3.2577e-02, -2.1235e-02,  3.4325e-02,\n",
            "          1.1586e-02,  9.5930e-03,  2.7646e-02, -9.6660e-03,  2.9295e-03,\n",
            "          8.5376e-03,  5.4455e-03,  4.0805e-02,  2.6288e-02,  2.6147e-02,\n",
            "         -6.8852e-03,  1.2026e-02,  4.1552e-03,  1.4039e-02, -6.1110e-03,\n",
            "          2.1368e-02, -1.4615e-02,  2.5540e-02,  2.0558e-02,  5.9266e-03,\n",
            "          3.0687e-02,  1.5258e-02, -3.3092e-02,  5.2313e-03, -1.2616e-02,\n",
            "         -4.1560e-02,  4.8112e-03,  2.3540e-02,  5.1851e-03, -2.0410e-02,\n",
            "          1.9750e-03, -6.0050e-03, -2.7258e-02, -5.2600e-03,  5.4733e-03,\n",
            "         -4.7094e-02, -1.3469e-02,  3.8820e-03,  1.0042e-02, -1.1172e-02,\n",
            "          1.3105e-02,  2.0210e-02,  5.9710e-01,  1.5224e-02,  1.1817e-02,\n",
            "          2.5814e-02,  2.1505e-02,  3.6860e-02,  1.7881e-02, -1.0446e-02,\n",
            "          3.5748e-02,  3.5534e-02,  1.9896e-02,  2.4771e-02,  1.6482e-02,\n",
            "          4.5452e-03, -1.8114e-02, -2.6846e-02,  5.3876e-03, -1.1213e-01,\n",
            "         -1.1703e-02,  2.3271e-02,  1.8248e-02, -9.3331e-03,  2.3551e-02,\n",
            "          2.3469e-03,  4.3059e-02,  2.2923e-02,  6.4898e-03, -7.9305e-03,\n",
            "         -6.4871e-03, -2.3364e-02,  1.8434e-02, -2.3347e-02,  1.2713e-02,\n",
            "         -3.2636e-02,  1.5630e-02,  3.3195e-02, -3.9461e-02, -1.1628e-02,\n",
            "          1.4901e-02,  4.9023e-03,  1.0105e-02,  5.8073e-02, -1.0187e-02,\n",
            "          3.9849e-02,  2.6254e-02, -1.7149e-02,  1.3856e-02,  3.4475e-02,\n",
            "          3.2661e-02, -4.2022e-02, -2.0333e-02,  1.5994e-02,  3.3845e-02,\n",
            "          7.4241e-03, -5.9456e-03,  1.4542e-02,  7.6624e-03, -2.1707e-02,\n",
            "         -3.0317e-02, -1.0611e-02, -3.2802e-05,  3.4937e-02, -1.0538e-02,\n",
            "          9.5222e-03,  1.0897e-02, -3.7810e-03, -4.2076e-02,  6.1411e-03,\n",
            "          4.5641e-03, -6.1756e-03,  4.4260e-04, -4.2591e-03,  2.4040e-02,\n",
            "         -3.1270e-02, -3.8472e-02,  4.3481e-03, -1.4588e-02, -1.6059e-02,\n",
            "         -3.9221e-02,  6.9746e-03, -5.4461e-03,  2.0121e-02,  1.4335e-02,\n",
            "         -5.4548e-03, -1.4404e-02, -1.7104e-02, -3.8003e-02,  2.8130e-02,\n",
            "          1.0591e-02, -5.0677e-03,  2.4192e-03,  1.2764e-02, -1.2702e-02,\n",
            "         -3.7019e-03, -2.2289e-03,  3.3761e-03,  8.5081e-03,  7.0036e-03,\n",
            "          4.6418e-02, -3.0895e-02,  1.0074e-02,  1.0886e-02, -7.0774e-03,\n",
            "          2.5022e-02, -1.5663e-02, -3.1632e-02,  2.4219e-02, -3.3836e-02,\n",
            "          4.2763e-03, -2.7812e-02,  5.1273e-04, -3.7311e-02, -3.3078e-03,\n",
            "          1.2462e-02,  6.4110e-03,  3.9677e-02,  2.6914e-02,  4.6844e-03,\n",
            "         -4.8330e-03,  1.1684e-03,  1.7003e-03, -9.4650e-03,  1.4091e-03,\n",
            "          5.1673e-03, -4.7116e-02,  1.9201e-02, -2.8393e-02,  2.9443e-03,\n",
            "         -2.1264e-03,  2.5387e-02, -6.8360e-03, -3.1835e-02,  8.8673e-03,\n",
            "         -2.3060e-03, -1.8114e-02, -3.1213e-02,  1.6122e-03,  7.1703e-03,\n",
            "         -1.1518e-02,  1.2683e-02,  2.6540e-02, -1.6136e-03,  4.7544e-03,\n",
            "         -2.1928e-02,  2.9106e-03,  1.1271e-04,  5.4664e-03, -2.7222e-02,\n",
            "          3.0454e-02,  2.0581e-02,  7.6474e-03,  3.8767e-03,  2.9513e-02,\n",
            "          7.1806e-03, -1.8765e-02,  1.2270e-02, -3.2927e-02, -1.9661e-02,\n",
            "          1.7796e-02, -1.2890e-02,  7.6847e-03, -2.7001e-02, -3.4706e-03,\n",
            "          2.5472e-02,  1.6888e-02, -9.4983e-03, -2.4678e-02,  2.4122e-02,\n",
            "          5.7311e-03, -3.8706e-02,  8.0009e-03, -8.5333e-03, -3.0285e-02,\n",
            "         -2.9750e-02, -7.6556e-03, -5.0679e-03,  2.6500e-02,  1.1397e-02,\n",
            "         -3.4446e-02, -1.2585e-02,  1.5732e-02,  1.0570e-01,  1.7115e-02,\n",
            "         -2.9180e-02,  3.1055e-02,  3.0057e-02, -2.9204e-02,  1.8058e-02,\n",
            "          3.8326e-02, -1.9765e-02,  9.4267e-03,  4.4964e-02,  2.5030e-02,\n",
            "          3.3078e-02, -3.4314e-02, -2.6386e-03, -1.4148e-02, -5.4677e-02,\n",
            "         -2.4200e-02,  1.1151e-02]], grad_fn=<DivBackward0>) torch.Size([1, 512])\n",
            "tensor([[ 2.2316e-02,  1.0633e-02, -1.6396e-03, -1.0336e-02,  1.0031e-03,\n",
            "         -7.0827e-02,  2.3252e-02,  1.8775e-02, -1.6218e-02,  5.2745e-03,\n",
            "         -2.1783e-02, -2.5545e-02,  1.9968e-02,  1.1813e-02,  4.7867e-02,\n",
            "          2.7492e-03,  3.0479e-02, -1.1876e-02,  3.3781e-02,  1.3371e-02,\n",
            "         -1.0043e-01,  6.4921e-05,  2.0064e-02, -5.4880e-02, -1.8852e-02,\n",
            "          1.4709e-02,  5.6507e-02,  6.7822e-03,  2.8761e-02, -2.4365e-03,\n",
            "          7.1730e-03, -1.4233e-02, -1.7269e-02, -1.6075e-03, -5.2739e-02,\n",
            "          5.6875e-02,  2.4504e-02,  5.1945e-03, -2.9865e-03,  3.4554e-02,\n",
            "         -4.2228e-02,  1.3485e-02, -2.8694e-02, -1.9437e-02,  4.6020e-02,\n",
            "          6.8157e-02,  1.3690e-03, -7.0797e-03,  1.5279e-02,  2.1480e-02,\n",
            "         -4.5050e-03,  2.2291e-02, -5.7443e-03, -3.4833e-02,  5.2749e-02,\n",
            "          7.2455e-03, -2.9736e-02,  8.4545e-03, -1.4615e-02, -5.2585e-03,\n",
            "          8.0083e-02,  3.5040e-02,  2.2990e-02,  2.0171e-02, -1.2507e-02,\n",
            "         -4.7064e-02, -2.8762e-02,  3.8187e-02, -2.0826e-02, -4.0581e-03,\n",
            "         -1.0416e-02,  6.0524e-03, -2.1152e-02,  1.4452e-02, -5.3851e-02,\n",
            "         -2.1191e-02, -5.7711e-03, -1.9083e-02, -8.7662e-03, -1.8285e-02,\n",
            "          2.4896e-02, -1.3423e-02,  9.6890e-03, -3.8845e-02,  1.1277e-02,\n",
            "         -1.6070e-02,  2.8110e-02, -4.0196e-02,  2.1678e-02,  7.6237e-03,\n",
            "         -5.6042e-03, -5.9594e-03, -6.7597e-01,  4.4454e-02, -2.5871e-02,\n",
            "         -2.0703e-02,  3.0130e-03,  1.5150e-03, -1.6288e-01, -1.3271e-02,\n",
            "         -5.1212e-03, -7.9300e-03,  7.8377e-03,  2.8320e-02,  4.3261e-02,\n",
            "         -8.6301e-03,  1.2356e-01,  3.2949e-02, -3.0848e-03, -5.3383e-03,\n",
            "          4.7524e-02,  2.4501e-02,  3.2146e-02, -2.2759e-02,  7.3446e-03,\n",
            "          3.3170e-02, -2.8292e-02, -3.9443e-03, -4.7253e-04, -1.4932e-03,\n",
            "          1.2463e-02,  1.0302e-01,  3.4352e-02,  3.3310e-03,  2.2465e-02,\n",
            "         -4.2733e-02, -6.9886e-03,  1.9620e-02, -2.7072e-02, -4.8447e-02,\n",
            "          3.3328e-02,  5.5597e-02, -2.0633e-02,  8.8356e-02, -1.0333e-02,\n",
            "         -3.0988e-03,  6.7865e-03, -3.7926e-02, -8.1412e-03, -3.1257e-02,\n",
            "          2.1703e-02,  2.0363e-02, -4.2265e-02,  2.7525e-02, -6.6039e-02,\n",
            "          6.1089e-02,  4.9523e-03,  1.6348e-02, -2.5194e-02,  3.9526e-02,\n",
            "          9.6190e-03,  1.0536e-02,  5.0048e-02,  3.1291e-03, -4.2484e-02,\n",
            "          2.5366e-02, -3.0084e-02, -4.5116e-02, -3.7198e-02,  1.8434e-02,\n",
            "          1.4634e-02,  2.6233e-02, -5.6682e-03, -1.2136e-02,  7.4205e-02,\n",
            "          1.0585e-02, -5.0627e-02,  4.5346e-03, -1.9028e-02,  2.9142e-02,\n",
            "         -4.6449e-03,  5.1954e-03,  1.3758e-02, -2.5371e-02,  1.2182e-02,\n",
            "          5.8600e-02, -3.0172e-02, -2.9919e-02,  5.9408e-02, -6.6830e-03,\n",
            "         -4.3201e-02,  9.7782e-03,  2.1477e-02, -1.7700e-02,  6.6642e-03,\n",
            "         -2.5365e-02, -2.6758e-02,  1.2569e-02,  1.2490e-03,  1.8631e-02,\n",
            "          9.1224e-03,  2.2538e-02,  3.5384e-02, -1.4133e-02, -5.7518e-02,\n",
            "          1.1511e-02, -4.8907e-06, -1.3133e-02, -5.9035e-02,  9.4182e-03,\n",
            "          2.7220e-02, -5.0864e-03,  2.5624e-02,  1.4958e-02, -4.6195e-02,\n",
            "         -5.2301e-02, -3.8984e-03, -3.2065e-02, -2.9385e-02,  2.6976e-02,\n",
            "          2.3900e-04,  1.9740e-02, -4.6427e-04,  1.8914e-02, -1.0299e-02,\n",
            "          2.1084e-02,  3.7239e-03,  2.1168e-02,  1.3407e-01,  2.0493e-02,\n",
            "          3.3960e-02,  8.3091e-03,  2.1865e-02,  1.7042e-02, -3.1614e-02,\n",
            "         -3.3396e-02,  2.9308e-02, -1.5514e-02,  6.0443e-03, -1.5270e-02,\n",
            "          8.2077e-03,  4.0025e-02,  3.7846e-02,  8.8035e-02,  1.4277e-02,\n",
            "          4.0875e-03, -3.2887e-02, -4.4431e-02,  6.6347e-02, -8.7317e-03,\n",
            "          5.1928e-03,  1.9213e-02, -5.3224e-03,  6.2407e-04,  2.8100e-02,\n",
            "          2.8863e-02, -2.4499e-05, -2.4547e-02,  5.0280e-02,  1.3947e-02,\n",
            "          3.2766e-02, -2.7344e-02,  2.6768e-02, -4.3509e-02,  8.5890e-03,\n",
            "          1.0857e-02,  2.9126e-02,  6.2250e-03,  4.6308e-02,  1.1984e-02,\n",
            "         -3.1977e-02, -1.9491e-02,  3.0906e-02,  3.2531e-02,  9.6149e-03,\n",
            "          1.0269e-02, -5.2842e-02, -2.8849e-02, -2.5201e-02,  4.0710e-02,\n",
            "          3.0315e-03,  2.4049e-02,  1.1253e-02,  1.1227e-02, -2.3769e-02,\n",
            "          2.7036e-03,  1.1272e-02,  2.7404e-02,  1.2407e-02,  2.8973e-02,\n",
            "         -1.1118e-02,  7.0165e-03, -4.5572e-02,  3.5635e-03,  9.4632e-03,\n",
            "         -1.1775e-02, -2.6250e-02,  9.3178e-03,  2.2533e-03,  1.8914e-02,\n",
            "          9.9155e-03,  4.2627e-02,  3.0783e-03,  2.3538e-02,  5.2491e-03,\n",
            "          1.1700e-02,  2.6183e-02,  1.0475e-02,  3.7901e-02, -1.8863e-02,\n",
            "         -2.4817e-02, -3.6954e-03, -3.7084e-02, -5.7048e-03,  3.3403e-02,\n",
            "          5.9404e-02, -1.5332e-02,  1.9219e-02, -1.3880e-02,  2.4128e-02,\n",
            "         -9.4127e-03,  1.7459e-02,  8.8199e-02, -3.3219e-02,  3.0888e-03,\n",
            "         -6.7112e-02,  3.2739e-02,  6.0290e-02, -3.6112e-02,  1.8190e-02,\n",
            "          3.1963e-02,  4.7280e-02,  1.2791e-02, -3.4982e-02,  2.3785e-02,\n",
            "         -2.0212e-03, -8.9581e-03,  5.5469e-03, -9.8382e-03,  2.2679e-02,\n",
            "         -9.7861e-03, -4.7440e-02,  5.2643e-03, -1.2923e-02, -4.4570e-03,\n",
            "          9.8204e-03,  4.8026e-02,  1.6230e-02, -4.8903e-02, -3.9663e-02,\n",
            "          6.6795e-03, -4.9566e-03, -2.3272e-04, -2.2888e-02,  4.7875e-03,\n",
            "          3.5922e-02,  7.8047e-03,  7.8267e-03, -1.1861e-02, -1.6916e-02,\n",
            "         -6.8352e-02,  3.2693e-02,  2.8161e-02,  2.8541e-02, -1.1261e-02,\n",
            "          6.1219e-02, -1.3961e-02, -9.2098e-02,  1.1972e-02, -3.8430e-02,\n",
            "          2.6750e-02, -6.4436e-03,  1.1142e-02, -5.1682e-03, -1.3322e-01,\n",
            "          7.7381e-03, -2.7292e-02,  5.3205e-02, -4.2213e-02,  5.5465e-03,\n",
            "         -2.6541e-02,  6.6387e-03, -4.7526e-02,  9.6489e-03, -3.4350e-02,\n",
            "         -2.7152e-02,  1.2893e-01, -2.0195e-02,  5.4550e-02,  4.5807e-02,\n",
            "          2.9695e-02, -4.4120e-02, -7.7227e-04, -1.7000e-02,  2.9418e-02,\n",
            "         -3.2569e-03, -4.5341e-02, -1.4717e-02,  3.2860e-02, -7.8009e-02,\n",
            "         -1.0987e-02, -1.0132e-01,  2.7347e-02,  3.0332e-02, -8.2785e-03,\n",
            "         -1.2626e-02,  4.2801e-03, -5.3467e-02, -5.4535e-02, -5.6022e-02,\n",
            "          3.6810e-02,  1.3171e-03, -1.4047e-03, -2.1817e-02, -1.8229e-04,\n",
            "         -2.8145e-02,  9.9694e-04, -3.4217e-02,  3.3269e-02, -2.0923e-02,\n",
            "          5.4746e-02, -2.4952e-02, -8.2885e-04, -4.6239e-02,  3.2950e-03,\n",
            "          2.9963e-03,  2.2517e-02,  1.1292e-02, -1.5975e-02, -2.7645e-02,\n",
            "          1.5352e-04, -3.2049e-02, -1.9179e-02, -3.5685e-02, -3.3644e-02,\n",
            "          1.3620e-02,  2.3374e-02, -5.9991e-03, -2.3279e-02, -2.8924e-02,\n",
            "         -1.3016e-03,  3.9473e-02, -6.3191e-03, -8.0815e-03, -1.3861e-02,\n",
            "         -2.9632e-02, -5.4000e-02,  2.9718e-02,  1.2999e-02,  1.5702e-02,\n",
            "          8.0621e-03,  4.4864e-02, -1.6729e-02,  6.2114e-03, -1.9847e-03,\n",
            "          1.8090e-02,  3.4162e-02,  1.5018e-02, -2.2555e-02, -1.5275e-02,\n",
            "         -2.6582e-02, -2.8570e-02,  6.8719e-03,  1.1993e-02,  1.1000e-02,\n",
            "         -6.9427e-03, -1.1022e-03,  3.8736e-02,  2.6654e-02,  2.4991e-02,\n",
            "         -9.3571e-03,  1.9740e-02,  8.8483e-03,  2.9602e-02,  5.1933e-02,\n",
            "          2.1014e-02, -9.3357e-03,  2.9092e-02, -5.8100e-02, -4.0734e-03,\n",
            "          6.1035e-02,  2.2572e-03, -1.8543e-02,  1.3884e-02,  1.9857e-02,\n",
            "         -1.5136e-02, -4.0932e-02, -9.4894e-03,  2.8413e-02, -3.1341e-02,\n",
            "          8.5153e-03, -4.3778e-03,  1.8862e-02, -5.8481e-02,  3.5162e-03,\n",
            "          1.9552e-02,  2.0052e-02, -2.9605e-02,  1.7714e-02, -2.9953e-02,\n",
            "         -2.7980e-02,  1.6294e-03, -3.5159e-04, -2.0292e-02,  7.3875e-03,\n",
            "         -9.7648e-03, -6.4553e-03,  4.4760e-02, -4.7715e-02, -2.0334e-02,\n",
            "          2.5549e-03, -1.2743e-02,  4.5200e-02, -2.8443e-02, -4.4719e-02,\n",
            "          4.0314e-02, -3.2208e-03,  2.1618e-03, -3.0552e-02,  2.7717e-02,\n",
            "          1.3902e-02, -2.2061e-02]], grad_fn=<DivBackward0>) torch.Size([1, 512])\n"
          ]
        }
      ]
    },
    {
      "cell_type": "markdown",
      "source": [
        "## Generating Multimodal Embedding with CLIP"
      ],
      "metadata": {
        "id": "eON3fzZ9GMp0"
      }
    },
    {
      "cell_type": "code",
      "source": [
        "def get_multimodal_CLIP_embedding(text_description = None, image = None):\n",
        "  if text_description == None and image == None:\n",
        "    raise ValueError(\"Either text_description or image must be provided\")\n",
        "  elif text_description != None and image != None:\n",
        "    inputs = processor(text=[text_description], images=image, return_tensors=\"pt\", padding=True)\n",
        "    outputs = model(**inputs)\n",
        "    return (outputs.text_embeds/2 + outputs.image_embeds/2).detach().flatten().tolist()\n",
        "  elif text_description:\n",
        "    inputs = processor(text=[\"a photo of a dog\"], return_tensors=\"pt\", padding=True)\n",
        "    outputs = model.get_text_features(**inputs)\n",
        "    return outputs.detach().flatten().tolist()\n",
        "  elif image:\n",
        "    inputs = processor(images=image, return_tensors=\"pt\", padding=True)\n",
        "    outputs = model.get_image_features(**inputs)\n",
        "    return outputs.detach().flatten().tolist()\n",
        "  #return np.concatenate((outputs.text_embeds, outputs.image_embeds), axis=0)\n"
      ],
      "metadata": {
        "id": "cssh_2s-GMat"
      },
      "execution_count": 2,
      "outputs": []
    },
    {
      "cell_type": "markdown",
      "source": [
        "# Multimodal VDB Storing and Retrieving"
      ],
      "metadata": {
        "id": "51SzRP6J3CAT"
      }
    },
    {
      "cell_type": "code",
      "source": [
        "!pip install chromadb"
      ],
      "metadata": {
        "colab": {
          "base_uri": "https://localhost:8080/",
          "height": 1000
        },
        "id": "dKCDukjP5c3W",
        "outputId": "39d3ea7b-8f80-4bb1-ed94-aa5ed2f9c41b"
      },
      "execution_count": 3,
      "outputs": [
        {
          "output_type": "stream",
          "name": "stdout",
          "text": [
            "Collecting chromadb\n",
            "  Downloading chromadb-0.6.3-py3-none-any.whl.metadata (6.8 kB)\n",
            "Collecting build>=1.0.3 (from chromadb)\n",
            "  Downloading build-1.2.2.post1-py3-none-any.whl.metadata (6.5 kB)\n",
            "Requirement already satisfied: pydantic>=1.9 in /usr/local/lib/python3.11/dist-packages (from chromadb) (2.10.6)\n",
            "Collecting chroma-hnswlib==0.7.6 (from chromadb)\n",
            "  Downloading chroma_hnswlib-0.7.6-cp311-cp311-manylinux_2_17_x86_64.manylinux2014_x86_64.whl.metadata (252 bytes)\n",
            "Collecting fastapi>=0.95.2 (from chromadb)\n",
            "  Downloading fastapi-0.115.8-py3-none-any.whl.metadata (27 kB)\n",
            "Collecting uvicorn>=0.18.3 (from uvicorn[standard]>=0.18.3->chromadb)\n",
            "  Downloading uvicorn-0.34.0-py3-none-any.whl.metadata (6.5 kB)\n",
            "Requirement already satisfied: numpy>=1.22.5 in /usr/local/lib/python3.11/dist-packages (from chromadb) (1.26.4)\n",
            "Collecting posthog>=2.4.0 (from chromadb)\n",
            "  Downloading posthog-3.12.0-py2.py3-none-any.whl.metadata (2.9 kB)\n",
            "Requirement already satisfied: typing_extensions>=4.5.0 in /usr/local/lib/python3.11/dist-packages (from chromadb) (4.12.2)\n",
            "Collecting onnxruntime>=1.14.1 (from chromadb)\n",
            "  Downloading onnxruntime-1.20.1-cp311-cp311-manylinux_2_27_x86_64.manylinux_2_28_x86_64.whl.metadata (4.5 kB)\n",
            "Requirement already satisfied: opentelemetry-api>=1.2.0 in /usr/local/lib/python3.11/dist-packages (from chromadb) (1.16.0)\n",
            "Collecting opentelemetry-exporter-otlp-proto-grpc>=1.2.0 (from chromadb)\n",
            "  Downloading opentelemetry_exporter_otlp_proto_grpc-1.30.0-py3-none-any.whl.metadata (2.4 kB)\n",
            "Collecting opentelemetry-instrumentation-fastapi>=0.41b0 (from chromadb)\n",
            "  Downloading opentelemetry_instrumentation_fastapi-0.51b0-py3-none-any.whl.metadata (2.2 kB)\n",
            "Requirement already satisfied: opentelemetry-sdk>=1.2.0 in /usr/local/lib/python3.11/dist-packages (from chromadb) (1.16.0)\n",
            "Requirement already satisfied: tokenizers>=0.13.2 in /usr/local/lib/python3.11/dist-packages (from chromadb) (0.21.0)\n",
            "Collecting pypika>=0.48.9 (from chromadb)\n",
            "  Downloading PyPika-0.48.9.tar.gz (67 kB)\n",
            "\u001b[2K     \u001b[90m━━━━━━━━━━━━━━━━━━━━━━━━━━━━━━━━━━━━━━━━\u001b[0m \u001b[32m67.3/67.3 kB\u001b[0m \u001b[31m3.5 MB/s\u001b[0m eta \u001b[36m0:00:00\u001b[0m\n",
            "\u001b[?25h  Installing build dependencies ... \u001b[?25l\u001b[?25hdone\n",
            "  Getting requirements to build wheel ... \u001b[?25l\u001b[?25hdone\n",
            "  Preparing metadata (pyproject.toml) ... \u001b[?25l\u001b[?25hdone\n",
            "Requirement already satisfied: tqdm>=4.65.0 in /usr/local/lib/python3.11/dist-packages (from chromadb) (4.67.1)\n",
            "Collecting overrides>=7.3.1 (from chromadb)\n",
            "  Downloading overrides-7.7.0-py3-none-any.whl.metadata (5.8 kB)\n",
            "Requirement already satisfied: importlib-resources in /usr/local/lib/python3.11/dist-packages (from chromadb) (6.5.2)\n",
            "Requirement already satisfied: grpcio>=1.58.0 in /usr/local/lib/python3.11/dist-packages (from chromadb) (1.70.0)\n",
            "Collecting bcrypt>=4.0.1 (from chromadb)\n",
            "  Downloading bcrypt-4.2.1-cp39-abi3-manylinux_2_28_x86_64.whl.metadata (9.8 kB)\n",
            "Requirement already satisfied: typer>=0.9.0 in /usr/local/lib/python3.11/dist-packages (from chromadb) (0.15.1)\n",
            "Collecting kubernetes>=28.1.0 (from chromadb)\n",
            "  Downloading kubernetes-32.0.0-py2.py3-none-any.whl.metadata (1.5 kB)\n",
            "Requirement already satisfied: tenacity>=8.2.3 in /usr/local/lib/python3.11/dist-packages (from chromadb) (9.0.0)\n",
            "Requirement already satisfied: PyYAML>=6.0.0 in /usr/local/lib/python3.11/dist-packages (from chromadb) (6.0.2)\n",
            "Collecting mmh3>=4.0.1 (from chromadb)\n",
            "  Downloading mmh3-5.1.0-cp311-cp311-manylinux_2_5_x86_64.manylinux1_x86_64.manylinux_2_17_x86_64.manylinux2014_x86_64.whl.metadata (16 kB)\n",
            "Requirement already satisfied: orjson>=3.9.12 in /usr/local/lib/python3.11/dist-packages (from chromadb) (3.10.15)\n",
            "Requirement already satisfied: httpx>=0.27.0 in /usr/local/lib/python3.11/dist-packages (from chromadb) (0.28.1)\n",
            "Requirement already satisfied: rich>=10.11.0 in /usr/local/lib/python3.11/dist-packages (from chromadb) (13.9.4)\n",
            "Requirement already satisfied: packaging>=19.1 in /usr/local/lib/python3.11/dist-packages (from build>=1.0.3->chromadb) (24.2)\n",
            "Collecting pyproject_hooks (from build>=1.0.3->chromadb)\n",
            "  Downloading pyproject_hooks-1.2.0-py3-none-any.whl.metadata (1.3 kB)\n",
            "Collecting starlette<0.46.0,>=0.40.0 (from fastapi>=0.95.2->chromadb)\n",
            "  Downloading starlette-0.45.3-py3-none-any.whl.metadata (6.3 kB)\n",
            "Requirement already satisfied: anyio in /usr/local/lib/python3.11/dist-packages (from httpx>=0.27.0->chromadb) (3.7.1)\n",
            "Requirement already satisfied: certifi in /usr/local/lib/python3.11/dist-packages (from httpx>=0.27.0->chromadb) (2025.1.31)\n",
            "Requirement already satisfied: httpcore==1.* in /usr/local/lib/python3.11/dist-packages (from httpx>=0.27.0->chromadb) (1.0.7)\n",
            "Requirement already satisfied: idna in /usr/local/lib/python3.11/dist-packages (from httpx>=0.27.0->chromadb) (3.10)\n",
            "Requirement already satisfied: h11<0.15,>=0.13 in /usr/local/lib/python3.11/dist-packages (from httpcore==1.*->httpx>=0.27.0->chromadb) (0.14.0)\n",
            "Requirement already satisfied: six>=1.9.0 in /usr/local/lib/python3.11/dist-packages (from kubernetes>=28.1.0->chromadb) (1.17.0)\n",
            "Requirement already satisfied: python-dateutil>=2.5.3 in /usr/local/lib/python3.11/dist-packages (from kubernetes>=28.1.0->chromadb) (2.8.2)\n",
            "Requirement already satisfied: google-auth>=1.0.1 in /usr/local/lib/python3.11/dist-packages (from kubernetes>=28.1.0->chromadb) (2.27.0)\n",
            "Requirement already satisfied: websocket-client!=0.40.0,!=0.41.*,!=0.42.*,>=0.32.0 in /usr/local/lib/python3.11/dist-packages (from kubernetes>=28.1.0->chromadb) (1.8.0)\n",
            "Requirement already satisfied: requests in /usr/local/lib/python3.11/dist-packages (from kubernetes>=28.1.0->chromadb) (2.32.3)\n",
            "Requirement already satisfied: requests-oauthlib in /usr/local/lib/python3.11/dist-packages (from kubernetes>=28.1.0->chromadb) (2.0.0)\n",
            "Requirement already satisfied: oauthlib>=3.2.2 in /usr/local/lib/python3.11/dist-packages (from kubernetes>=28.1.0->chromadb) (3.2.2)\n",
            "Requirement already satisfied: urllib3>=1.24.2 in /usr/local/lib/python3.11/dist-packages (from kubernetes>=28.1.0->chromadb) (2.3.0)\n",
            "Collecting durationpy>=0.7 (from kubernetes>=28.1.0->chromadb)\n",
            "  Downloading durationpy-0.9-py3-none-any.whl.metadata (338 bytes)\n",
            "Collecting coloredlogs (from onnxruntime>=1.14.1->chromadb)\n",
            "  Downloading coloredlogs-15.0.1-py2.py3-none-any.whl.metadata (12 kB)\n",
            "Requirement already satisfied: flatbuffers in /usr/local/lib/python3.11/dist-packages (from onnxruntime>=1.14.1->chromadb) (25.1.24)\n",
            "Requirement already satisfied: protobuf in /usr/local/lib/python3.11/dist-packages (from onnxruntime>=1.14.1->chromadb) (4.25.6)\n",
            "Requirement already satisfied: sympy in /usr/local/lib/python3.11/dist-packages (from onnxruntime>=1.14.1->chromadb) (1.13.1)\n",
            "Requirement already satisfied: deprecated>=1.2.6 in /usr/local/lib/python3.11/dist-packages (from opentelemetry-api>=1.2.0->chromadb) (1.2.18)\n",
            "Requirement already satisfied: setuptools>=16.0 in /usr/local/lib/python3.11/dist-packages (from opentelemetry-api>=1.2.0->chromadb) (75.1.0)\n",
            "Requirement already satisfied: googleapis-common-protos~=1.52 in /usr/local/lib/python3.11/dist-packages (from opentelemetry-exporter-otlp-proto-grpc>=1.2.0->chromadb) (1.66.0)\n",
            "Collecting opentelemetry-exporter-otlp-proto-common==1.30.0 (from opentelemetry-exporter-otlp-proto-grpc>=1.2.0->chromadb)\n",
            "  Downloading opentelemetry_exporter_otlp_proto_common-1.30.0-py3-none-any.whl.metadata (1.9 kB)\n",
            "Collecting opentelemetry-proto==1.30.0 (from opentelemetry-exporter-otlp-proto-grpc>=1.2.0->chromadb)\n",
            "  Downloading opentelemetry_proto-1.30.0-py3-none-any.whl.metadata (2.4 kB)\n",
            "Collecting opentelemetry-sdk>=1.2.0 (from chromadb)\n",
            "  Downloading opentelemetry_sdk-1.30.0-py3-none-any.whl.metadata (1.6 kB)\n",
            "Collecting protobuf (from onnxruntime>=1.14.1->chromadb)\n",
            "  Downloading protobuf-5.29.3-cp38-abi3-manylinux2014_x86_64.whl.metadata (592 bytes)\n",
            "Collecting opentelemetry-instrumentation-asgi==0.51b0 (from opentelemetry-instrumentation-fastapi>=0.41b0->chromadb)\n",
            "  Downloading opentelemetry_instrumentation_asgi-0.51b0-py3-none-any.whl.metadata (2.1 kB)\n",
            "Collecting opentelemetry-instrumentation==0.51b0 (from opentelemetry-instrumentation-fastapi>=0.41b0->chromadb)\n",
            "  Downloading opentelemetry_instrumentation-0.51b0-py3-none-any.whl.metadata (6.3 kB)\n",
            "Collecting opentelemetry-semantic-conventions==0.51b0 (from opentelemetry-instrumentation-fastapi>=0.41b0->chromadb)\n",
            "  Downloading opentelemetry_semantic_conventions-0.51b0-py3-none-any.whl.metadata (2.5 kB)\n",
            "Collecting opentelemetry-util-http==0.51b0 (from opentelemetry-instrumentation-fastapi>=0.41b0->chromadb)\n",
            "  Downloading opentelemetry_util_http-0.51b0-py3-none-any.whl.metadata (2.6 kB)\n",
            "Requirement already satisfied: wrapt<2.0.0,>=1.0.0 in /usr/local/lib/python3.11/dist-packages (from opentelemetry-instrumentation==0.51b0->opentelemetry-instrumentation-fastapi>=0.41b0->chromadb) (1.17.2)\n",
            "Collecting asgiref~=3.0 (from opentelemetry-instrumentation-asgi==0.51b0->opentelemetry-instrumentation-fastapi>=0.41b0->chromadb)\n",
            "  Downloading asgiref-3.8.1-py3-none-any.whl.metadata (9.3 kB)\n",
            "Collecting opentelemetry-api>=1.2.0 (from chromadb)\n",
            "  Downloading opentelemetry_api-1.30.0-py3-none-any.whl.metadata (1.6 kB)\n",
            "Collecting importlib-metadata<=8.5.0,>=6.0 (from opentelemetry-api>=1.2.0->chromadb)\n",
            "  Downloading importlib_metadata-8.5.0-py3-none-any.whl.metadata (4.8 kB)\n",
            "Collecting monotonic>=1.5 (from posthog>=2.4.0->chromadb)\n",
            "  Downloading monotonic-1.6-py2.py3-none-any.whl.metadata (1.5 kB)\n",
            "Collecting backoff>=1.10.0 (from posthog>=2.4.0->chromadb)\n",
            "  Downloading backoff-2.2.1-py3-none-any.whl.metadata (14 kB)\n",
            "Requirement already satisfied: annotated-types>=0.6.0 in /usr/local/lib/python3.11/dist-packages (from pydantic>=1.9->chromadb) (0.7.0)\n",
            "Requirement already satisfied: pydantic-core==2.27.2 in /usr/local/lib/python3.11/dist-packages (from pydantic>=1.9->chromadb) (2.27.2)\n",
            "Requirement already satisfied: markdown-it-py>=2.2.0 in /usr/local/lib/python3.11/dist-packages (from rich>=10.11.0->chromadb) (3.0.0)\n",
            "Requirement already satisfied: pygments<3.0.0,>=2.13.0 in /usr/local/lib/python3.11/dist-packages (from rich>=10.11.0->chromadb) (2.18.0)\n",
            "Requirement already satisfied: huggingface-hub<1.0,>=0.16.4 in /usr/local/lib/python3.11/dist-packages (from tokenizers>=0.13.2->chromadb) (0.28.1)\n",
            "Requirement already satisfied: click>=8.0.0 in /usr/local/lib/python3.11/dist-packages (from typer>=0.9.0->chromadb) (8.1.8)\n",
            "Requirement already satisfied: shellingham>=1.3.0 in /usr/local/lib/python3.11/dist-packages (from typer>=0.9.0->chromadb) (1.5.4)\n",
            "Collecting httptools>=0.6.3 (from uvicorn[standard]>=0.18.3->chromadb)\n",
            "  Downloading httptools-0.6.4-cp311-cp311-manylinux_2_5_x86_64.manylinux1_x86_64.manylinux_2_17_x86_64.manylinux2014_x86_64.whl.metadata (3.6 kB)\n",
            "Collecting python-dotenv>=0.13 (from uvicorn[standard]>=0.18.3->chromadb)\n",
            "  Downloading python_dotenv-1.0.1-py3-none-any.whl.metadata (23 kB)\n",
            "Collecting uvloop!=0.15.0,!=0.15.1,>=0.14.0 (from uvicorn[standard]>=0.18.3->chromadb)\n",
            "  Downloading uvloop-0.21.0-cp311-cp311-manylinux_2_17_x86_64.manylinux2014_x86_64.whl.metadata (4.9 kB)\n",
            "Collecting watchfiles>=0.13 (from uvicorn[standard]>=0.18.3->chromadb)\n",
            "  Downloading watchfiles-1.0.4-cp311-cp311-manylinux_2_17_x86_64.manylinux2014_x86_64.whl.metadata (4.9 kB)\n",
            "Requirement already satisfied: websockets>=10.4 in /usr/local/lib/python3.11/dist-packages (from uvicorn[standard]>=0.18.3->chromadb) (14.2)\n",
            "Requirement already satisfied: cachetools<6.0,>=2.0.0 in /usr/local/lib/python3.11/dist-packages (from google-auth>=1.0.1->kubernetes>=28.1.0->chromadb) (5.5.1)\n",
            "Requirement already satisfied: pyasn1-modules>=0.2.1 in /usr/local/lib/python3.11/dist-packages (from google-auth>=1.0.1->kubernetes>=28.1.0->chromadb) (0.4.1)\n",
            "Requirement already satisfied: rsa<5,>=3.1.4 in /usr/local/lib/python3.11/dist-packages (from google-auth>=1.0.1->kubernetes>=28.1.0->chromadb) (4.9)\n",
            "Requirement already satisfied: filelock in /usr/local/lib/python3.11/dist-packages (from huggingface-hub<1.0,>=0.16.4->tokenizers>=0.13.2->chromadb) (3.17.0)\n",
            "Requirement already satisfied: fsspec>=2023.5.0 in /usr/local/lib/python3.11/dist-packages (from huggingface-hub<1.0,>=0.16.4->tokenizers>=0.13.2->chromadb) (2024.10.0)\n",
            "Requirement already satisfied: zipp>=3.20 in /usr/local/lib/python3.11/dist-packages (from importlib-metadata<=8.5.0,>=6.0->opentelemetry-api>=1.2.0->chromadb) (3.21.0)\n",
            "Requirement already satisfied: mdurl~=0.1 in /usr/local/lib/python3.11/dist-packages (from markdown-it-py>=2.2.0->rich>=10.11.0->chromadb) (0.1.2)\n",
            "Requirement already satisfied: charset-normalizer<4,>=2 in /usr/local/lib/python3.11/dist-packages (from requests->kubernetes>=28.1.0->chromadb) (3.4.1)\n",
            "Requirement already satisfied: sniffio>=1.1 in /usr/local/lib/python3.11/dist-packages (from anyio->httpx>=0.27.0->chromadb) (1.3.1)\n",
            "Collecting humanfriendly>=9.1 (from coloredlogs->onnxruntime>=1.14.1->chromadb)\n",
            "  Downloading humanfriendly-10.0-py2.py3-none-any.whl.metadata (9.2 kB)\n",
            "Requirement already satisfied: mpmath<1.4,>=1.1.0 in /usr/local/lib/python3.11/dist-packages (from sympy->onnxruntime>=1.14.1->chromadb) (1.3.0)\n",
            "Requirement already satisfied: pyasn1<0.7.0,>=0.4.6 in /usr/local/lib/python3.11/dist-packages (from pyasn1-modules>=0.2.1->google-auth>=1.0.1->kubernetes>=28.1.0->chromadb) (0.6.1)\n",
            "Downloading chromadb-0.6.3-py3-none-any.whl (611 kB)\n",
            "\u001b[2K   \u001b[90m━━━━━━━━━━━━━━━━━━━━━━━━━━━━━━━━━━━━━━━━\u001b[0m \u001b[32m611.1/611.1 kB\u001b[0m \u001b[31m16.0 MB/s\u001b[0m eta \u001b[36m0:00:00\u001b[0m\n",
            "\u001b[?25hDownloading chroma_hnswlib-0.7.6-cp311-cp311-manylinux_2_17_x86_64.manylinux2014_x86_64.whl (2.4 MB)\n",
            "\u001b[2K   \u001b[90m━━━━━━━━━━━━━━━━━━━━━━━━━━━━━━━━━━━━━━━━\u001b[0m \u001b[32m2.4/2.4 MB\u001b[0m \u001b[31m55.2 MB/s\u001b[0m eta \u001b[36m0:00:00\u001b[0m\n",
            "\u001b[?25hDownloading bcrypt-4.2.1-cp39-abi3-manylinux_2_28_x86_64.whl (278 kB)\n",
            "\u001b[2K   \u001b[90m━━━━━━━━━━━━━━━━━━━━━━━━━━━━━━━━━━━━━━━━\u001b[0m \u001b[32m278.6/278.6 kB\u001b[0m \u001b[31m20.0 MB/s\u001b[0m eta \u001b[36m0:00:00\u001b[0m\n",
            "\u001b[?25hDownloading build-1.2.2.post1-py3-none-any.whl (22 kB)\n",
            "Downloading fastapi-0.115.8-py3-none-any.whl (94 kB)\n",
            "\u001b[2K   \u001b[90m━━━━━━━━━━━━━━━━━━━━━━━━━━━━━━━━━━━━━━━━\u001b[0m \u001b[32m94.8/94.8 kB\u001b[0m \u001b[31m7.9 MB/s\u001b[0m eta \u001b[36m0:00:00\u001b[0m\n",
            "\u001b[?25hDownloading kubernetes-32.0.0-py2.py3-none-any.whl (2.0 MB)\n",
            "\u001b[2K   \u001b[90m━━━━━━━━━━━━━━━━━━━━━━━━━━━━━━━━━━━━━━━━\u001b[0m \u001b[32m2.0/2.0 MB\u001b[0m \u001b[31m73.9 MB/s\u001b[0m eta \u001b[36m0:00:00\u001b[0m\n",
            "\u001b[?25hDownloading mmh3-5.1.0-cp311-cp311-manylinux_2_5_x86_64.manylinux1_x86_64.manylinux_2_17_x86_64.manylinux2014_x86_64.whl (101 kB)\n",
            "\u001b[2K   \u001b[90m━━━━━━━━━━━━━━━━━━━━━━━━━━━━━━━━━━━━━━━━\u001b[0m \u001b[32m101.6/101.6 kB\u001b[0m \u001b[31m9.2 MB/s\u001b[0m eta \u001b[36m0:00:00\u001b[0m\n",
            "\u001b[?25hDownloading onnxruntime-1.20.1-cp311-cp311-manylinux_2_27_x86_64.manylinux_2_28_x86_64.whl (13.3 MB)\n",
            "\u001b[2K   \u001b[90m━━━━━━━━━━━━━━━━━━━━━━━━━━━━━━━━━━━━━━━━\u001b[0m \u001b[32m13.3/13.3 MB\u001b[0m \u001b[31m79.5 MB/s\u001b[0m eta \u001b[36m0:00:00\u001b[0m\n",
            "\u001b[?25hDownloading opentelemetry_exporter_otlp_proto_grpc-1.30.0-py3-none-any.whl (18 kB)\n",
            "Downloading opentelemetry_exporter_otlp_proto_common-1.30.0-py3-none-any.whl (18 kB)\n",
            "Downloading opentelemetry_proto-1.30.0-py3-none-any.whl (55 kB)\n",
            "\u001b[2K   \u001b[90m━━━━━━━━━━━━━━━━━━━━━━━━━━━━━━━━━━━━━━━━\u001b[0m \u001b[32m55.9/55.9 kB\u001b[0m \u001b[31m4.6 MB/s\u001b[0m eta \u001b[36m0:00:00\u001b[0m\n",
            "\u001b[?25hDownloading opentelemetry_instrumentation_fastapi-0.51b0-py3-none-any.whl (12 kB)\n",
            "Downloading opentelemetry_instrumentation-0.51b0-py3-none-any.whl (30 kB)\n",
            "Downloading opentelemetry_instrumentation_asgi-0.51b0-py3-none-any.whl (16 kB)\n",
            "Downloading opentelemetry_semantic_conventions-0.51b0-py3-none-any.whl (177 kB)\n",
            "\u001b[2K   \u001b[90m━━━━━━━━━━━━━━━━━━━━━━━━━━━━━━━━━━━━━━━━\u001b[0m \u001b[32m177.4/177.4 kB\u001b[0m \u001b[31m11.9 MB/s\u001b[0m eta \u001b[36m0:00:00\u001b[0m\n",
            "\u001b[?25hDownloading opentelemetry_api-1.30.0-py3-none-any.whl (64 kB)\n",
            "\u001b[2K   \u001b[90m━━━━━━━━━━━━━━━━━━━━━━━━━━━━━━━━━━━━━━━━\u001b[0m \u001b[32m65.0/65.0 kB\u001b[0m \u001b[31m4.9 MB/s\u001b[0m eta \u001b[36m0:00:00\u001b[0m\n",
            "\u001b[?25hDownloading opentelemetry_util_http-0.51b0-py3-none-any.whl (7.3 kB)\n",
            "Downloading opentelemetry_sdk-1.30.0-py3-none-any.whl (118 kB)\n",
            "\u001b[2K   \u001b[90m━━━━━━━━━━━━━━━━━━━━━━━━━━━━━━━━━━━━━━━━\u001b[0m \u001b[32m118.7/118.7 kB\u001b[0m \u001b[31m10.1 MB/s\u001b[0m eta \u001b[36m0:00:00\u001b[0m\n",
            "\u001b[?25hDownloading overrides-7.7.0-py3-none-any.whl (17 kB)\n",
            "Downloading posthog-3.12.0-py2.py3-none-any.whl (72 kB)\n",
            "\u001b[2K   \u001b[90m━━━━━━━━━━━━━━━━━━━━━━━━━━━━━━━━━━━━━━━━\u001b[0m \u001b[32m72.4/72.4 kB\u001b[0m \u001b[31m6.4 MB/s\u001b[0m eta \u001b[36m0:00:00\u001b[0m\n",
            "\u001b[?25hDownloading uvicorn-0.34.0-py3-none-any.whl (62 kB)\n",
            "\u001b[2K   \u001b[90m━━━━━━━━━━━━━━━━━━━━━━━━━━━━━━━━━━━━━━━━\u001b[0m \u001b[32m62.3/62.3 kB\u001b[0m \u001b[31m4.9 MB/s\u001b[0m eta \u001b[36m0:00:00\u001b[0m\n",
            "\u001b[?25hDownloading backoff-2.2.1-py3-none-any.whl (15 kB)\n",
            "Downloading durationpy-0.9-py3-none-any.whl (3.5 kB)\n",
            "Downloading httptools-0.6.4-cp311-cp311-manylinux_2_5_x86_64.manylinux1_x86_64.manylinux_2_17_x86_64.manylinux2014_x86_64.whl (459 kB)\n",
            "\u001b[2K   \u001b[90m━━━━━━━━━━━━━━━━━━━━━━━━━━━━━━━━━━━━━━━━\u001b[0m \u001b[32m459.8/459.8 kB\u001b[0m \u001b[31m26.2 MB/s\u001b[0m eta \u001b[36m0:00:00\u001b[0m\n",
            "\u001b[?25hDownloading importlib_metadata-8.5.0-py3-none-any.whl (26 kB)\n",
            "Downloading monotonic-1.6-py2.py3-none-any.whl (8.2 kB)\n",
            "Downloading protobuf-5.29.3-cp38-abi3-manylinux2014_x86_64.whl (319 kB)\n",
            "\u001b[2K   \u001b[90m━━━━━━━━━━━━━━━━━━━━━━━━━━━━━━━━━━━━━━━━\u001b[0m \u001b[32m319.7/319.7 kB\u001b[0m \u001b[31m24.8 MB/s\u001b[0m eta \u001b[36m0:00:00\u001b[0m\n",
            "\u001b[?25hDownloading python_dotenv-1.0.1-py3-none-any.whl (19 kB)\n",
            "Downloading starlette-0.45.3-py3-none-any.whl (71 kB)\n",
            "\u001b[2K   \u001b[90m━━━━━━━━━━━━━━━━━━━━━━━━━━━━━━━━━━━━━━━━\u001b[0m \u001b[32m71.5/71.5 kB\u001b[0m \u001b[31m5.1 MB/s\u001b[0m eta \u001b[36m0:00:00\u001b[0m\n",
            "\u001b[?25hDownloading uvloop-0.21.0-cp311-cp311-manylinux_2_17_x86_64.manylinux2014_x86_64.whl (4.0 MB)\n",
            "\u001b[2K   \u001b[90m━━━━━━━━━━━━━━━━━━━━━━━━━━━━━━━━━━━━━━━━\u001b[0m \u001b[32m4.0/4.0 MB\u001b[0m \u001b[31m67.4 MB/s\u001b[0m eta \u001b[36m0:00:00\u001b[0m\n",
            "\u001b[?25hDownloading watchfiles-1.0.4-cp311-cp311-manylinux_2_17_x86_64.manylinux2014_x86_64.whl (452 kB)\n",
            "\u001b[2K   \u001b[90m━━━━━━━━━━━━━━━━━━━━━━━━━━━━━━━━━━━━━━━━\u001b[0m \u001b[32m452.6/452.6 kB\u001b[0m \u001b[31m28.7 MB/s\u001b[0m eta \u001b[36m0:00:00\u001b[0m\n",
            "\u001b[?25hDownloading coloredlogs-15.0.1-py2.py3-none-any.whl (46 kB)\n",
            "\u001b[2K   \u001b[90m━━━━━━━━━━━━━━━━━━━━━━━━━━━━━━━━━━━━━━━━\u001b[0m \u001b[32m46.0/46.0 kB\u001b[0m \u001b[31m3.2 MB/s\u001b[0m eta \u001b[36m0:00:00\u001b[0m\n",
            "\u001b[?25hDownloading pyproject_hooks-1.2.0-py3-none-any.whl (10 kB)\n",
            "Downloading asgiref-3.8.1-py3-none-any.whl (23 kB)\n",
            "Downloading humanfriendly-10.0-py2.py3-none-any.whl (86 kB)\n",
            "\u001b[2K   \u001b[90m━━━━━━━━━━━━━━━━━━━━━━━━━━━━━━━━━━━━━━━━\u001b[0m \u001b[32m86.8/86.8 kB\u001b[0m \u001b[31m6.8 MB/s\u001b[0m eta \u001b[36m0:00:00\u001b[0m\n",
            "\u001b[?25hBuilding wheels for collected packages: pypika\n",
            "  Building wheel for pypika (pyproject.toml) ... \u001b[?25l\u001b[?25hdone\n",
            "  Created wheel for pypika: filename=PyPika-0.48.9-py2.py3-none-any.whl size=53771 sha256=2f688aef170a8bb79cf8aaa4724425edbe54a5769d393e98351738973d07ea18\n",
            "  Stored in directory: /root/.cache/pip/wheels/a3/01/bd/4c40ceb9d5354160cb186dcc153360f4ab7eb23e2b24daf96d\n",
            "Successfully built pypika\n",
            "Installing collected packages: pypika, monotonic, durationpy, uvloop, uvicorn, python-dotenv, pyproject_hooks, protobuf, overrides, opentelemetry-util-http, mmh3, importlib-metadata, humanfriendly, httptools, chroma-hnswlib, bcrypt, backoff, asgiref, watchfiles, starlette, posthog, opentelemetry-proto, opentelemetry-api, coloredlogs, build, opentelemetry-semantic-conventions, opentelemetry-exporter-otlp-proto-common, onnxruntime, kubernetes, fastapi, opentelemetry-sdk, opentelemetry-instrumentation, opentelemetry-instrumentation-asgi, opentelemetry-exporter-otlp-proto-grpc, opentelemetry-instrumentation-fastapi, chromadb\n",
            "  Attempting uninstall: protobuf\n",
            "    Found existing installation: protobuf 4.25.6\n",
            "    Uninstalling protobuf-4.25.6:\n",
            "      Successfully uninstalled protobuf-4.25.6\n",
            "  Attempting uninstall: importlib-metadata\n",
            "    Found existing installation: importlib_metadata 8.6.1\n",
            "    Uninstalling importlib_metadata-8.6.1:\n",
            "      Successfully uninstalled importlib_metadata-8.6.1\n",
            "  Attempting uninstall: opentelemetry-api\n",
            "    Found existing installation: opentelemetry-api 1.16.0\n",
            "    Uninstalling opentelemetry-api-1.16.0:\n",
            "      Successfully uninstalled opentelemetry-api-1.16.0\n",
            "  Attempting uninstall: opentelemetry-semantic-conventions\n",
            "    Found existing installation: opentelemetry-semantic-conventions 0.37b0\n",
            "    Uninstalling opentelemetry-semantic-conventions-0.37b0:\n",
            "      Successfully uninstalled opentelemetry-semantic-conventions-0.37b0\n",
            "  Attempting uninstall: opentelemetry-sdk\n",
            "    Found existing installation: opentelemetry-sdk 1.16.0\n",
            "    Uninstalling opentelemetry-sdk-1.16.0:\n",
            "      Successfully uninstalled opentelemetry-sdk-1.16.0\n",
            "Successfully installed asgiref-3.8.1 backoff-2.2.1 bcrypt-4.2.1 build-1.2.2.post1 chroma-hnswlib-0.7.6 chromadb-0.6.3 coloredlogs-15.0.1 durationpy-0.9 fastapi-0.115.8 httptools-0.6.4 humanfriendly-10.0 importlib-metadata-8.5.0 kubernetes-32.0.0 mmh3-5.1.0 monotonic-1.6 onnxruntime-1.20.1 opentelemetry-api-1.30.0 opentelemetry-exporter-otlp-proto-common-1.30.0 opentelemetry-exporter-otlp-proto-grpc-1.30.0 opentelemetry-instrumentation-0.51b0 opentelemetry-instrumentation-asgi-0.51b0 opentelemetry-instrumentation-fastapi-0.51b0 opentelemetry-proto-1.30.0 opentelemetry-sdk-1.30.0 opentelemetry-semantic-conventions-0.51b0 opentelemetry-util-http-0.51b0 overrides-7.7.0 posthog-3.12.0 protobuf-5.29.3 pypika-0.48.9 pyproject_hooks-1.2.0 python-dotenv-1.0.1 starlette-0.45.3 uvicorn-0.34.0 uvloop-0.21.0 watchfiles-1.0.4\n"
          ]
        },
        {
          "output_type": "display_data",
          "data": {
            "application/vnd.colab-display-data+json": {
              "pip_warning": {
                "packages": [
                  "importlib_metadata"
                ]
              },
              "id": "f5ec19d1e1644b91a059a262857d50ca"
            }
          },
          "metadata": {}
        }
      ]
    },
    {
      "cell_type": "markdown",
      "source": [
        "## Collection with OpenCLIPEmbeddingFunction()"
      ],
      "metadata": {
        "id": "BYaWSVJP7o83"
      }
    },
    {
      "cell_type": "code",
      "source": [
        "!pip install open-clip-torch"
      ],
      "metadata": {
        "colab": {
          "base_uri": "https://localhost:8080/"
        },
        "id": "Xgr9TY6m5xWz",
        "outputId": "72ddff3b-a056-4e60-8cd4-828e35232a64"
      },
      "execution_count": 16,
      "outputs": [
        {
          "output_type": "stream",
          "name": "stdout",
          "text": [
            "Collecting open-clip-torch\n",
            "  Downloading open_clip_torch-2.30.0-py3-none-any.whl.metadata (31 kB)\n",
            "Requirement already satisfied: torch>=1.9.0 in /usr/local/lib/python3.11/dist-packages (from open-clip-torch) (2.5.1+cu124)\n",
            "Requirement already satisfied: torchvision in /usr/local/lib/python3.11/dist-packages (from open-clip-torch) (0.20.1+cu124)\n",
            "Requirement already satisfied: regex in /usr/local/lib/python3.11/dist-packages (from open-clip-torch) (2024.11.6)\n",
            "Collecting ftfy (from open-clip-torch)\n",
            "  Downloading ftfy-6.3.1-py3-none-any.whl.metadata (7.3 kB)\n",
            "Requirement already satisfied: tqdm in /usr/local/lib/python3.11/dist-packages (from open-clip-torch) (4.67.1)\n",
            "Requirement already satisfied: huggingface-hub in /usr/local/lib/python3.11/dist-packages (from open-clip-torch) (0.28.1)\n",
            "Requirement already satisfied: safetensors in /usr/local/lib/python3.11/dist-packages (from open-clip-torch) (0.5.2)\n",
            "Requirement already satisfied: timm in /usr/local/lib/python3.11/dist-packages (from open-clip-torch) (1.0.14)\n",
            "Requirement already satisfied: filelock in /usr/local/lib/python3.11/dist-packages (from torch>=1.9.0->open-clip-torch) (3.17.0)\n",
            "Requirement already satisfied: typing-extensions>=4.8.0 in /usr/local/lib/python3.11/dist-packages (from torch>=1.9.0->open-clip-torch) (4.12.2)\n",
            "Requirement already satisfied: networkx in /usr/local/lib/python3.11/dist-packages (from torch>=1.9.0->open-clip-torch) (3.4.2)\n",
            "Requirement already satisfied: jinja2 in /usr/local/lib/python3.11/dist-packages (from torch>=1.9.0->open-clip-torch) (3.1.5)\n",
            "Requirement already satisfied: fsspec in /usr/local/lib/python3.11/dist-packages (from torch>=1.9.0->open-clip-torch) (2024.10.0)\n",
            "Collecting nvidia-cuda-nvrtc-cu12==12.4.127 (from torch>=1.9.0->open-clip-torch)\n",
            "  Downloading nvidia_cuda_nvrtc_cu12-12.4.127-py3-none-manylinux2014_x86_64.whl.metadata (1.5 kB)\n",
            "Collecting nvidia-cuda-runtime-cu12==12.4.127 (from torch>=1.9.0->open-clip-torch)\n",
            "  Downloading nvidia_cuda_runtime_cu12-12.4.127-py3-none-manylinux2014_x86_64.whl.metadata (1.5 kB)\n",
            "Collecting nvidia-cuda-cupti-cu12==12.4.127 (from torch>=1.9.0->open-clip-torch)\n",
            "  Downloading nvidia_cuda_cupti_cu12-12.4.127-py3-none-manylinux2014_x86_64.whl.metadata (1.6 kB)\n",
            "Collecting nvidia-cudnn-cu12==9.1.0.70 (from torch>=1.9.0->open-clip-torch)\n",
            "  Downloading nvidia_cudnn_cu12-9.1.0.70-py3-none-manylinux2014_x86_64.whl.metadata (1.6 kB)\n",
            "Collecting nvidia-cublas-cu12==12.4.5.8 (from torch>=1.9.0->open-clip-torch)\n",
            "  Downloading nvidia_cublas_cu12-12.4.5.8-py3-none-manylinux2014_x86_64.whl.metadata (1.5 kB)\n",
            "Collecting nvidia-cufft-cu12==11.2.1.3 (from torch>=1.9.0->open-clip-torch)\n",
            "  Downloading nvidia_cufft_cu12-11.2.1.3-py3-none-manylinux2014_x86_64.whl.metadata (1.5 kB)\n",
            "Collecting nvidia-curand-cu12==10.3.5.147 (from torch>=1.9.0->open-clip-torch)\n",
            "  Downloading nvidia_curand_cu12-10.3.5.147-py3-none-manylinux2014_x86_64.whl.metadata (1.5 kB)\n",
            "Collecting nvidia-cusolver-cu12==11.6.1.9 (from torch>=1.9.0->open-clip-torch)\n",
            "  Downloading nvidia_cusolver_cu12-11.6.1.9-py3-none-manylinux2014_x86_64.whl.metadata (1.6 kB)\n",
            "Collecting nvidia-cusparse-cu12==12.3.1.170 (from torch>=1.9.0->open-clip-torch)\n",
            "  Downloading nvidia_cusparse_cu12-12.3.1.170-py3-none-manylinux2014_x86_64.whl.metadata (1.6 kB)\n",
            "Requirement already satisfied: nvidia-nccl-cu12==2.21.5 in /usr/local/lib/python3.11/dist-packages (from torch>=1.9.0->open-clip-torch) (2.21.5)\n",
            "Requirement already satisfied: nvidia-nvtx-cu12==12.4.127 in /usr/local/lib/python3.11/dist-packages (from torch>=1.9.0->open-clip-torch) (12.4.127)\n",
            "Collecting nvidia-nvjitlink-cu12==12.4.127 (from torch>=1.9.0->open-clip-torch)\n",
            "  Downloading nvidia_nvjitlink_cu12-12.4.127-py3-none-manylinux2014_x86_64.whl.metadata (1.5 kB)\n",
            "Requirement already satisfied: triton==3.1.0 in /usr/local/lib/python3.11/dist-packages (from torch>=1.9.0->open-clip-torch) (3.1.0)\n",
            "Requirement already satisfied: sympy==1.13.1 in /usr/local/lib/python3.11/dist-packages (from torch>=1.9.0->open-clip-torch) (1.13.1)\n",
            "Requirement already satisfied: mpmath<1.4,>=1.1.0 in /usr/local/lib/python3.11/dist-packages (from sympy==1.13.1->torch>=1.9.0->open-clip-torch) (1.3.0)\n",
            "Requirement already satisfied: wcwidth in /usr/local/lib/python3.11/dist-packages (from ftfy->open-clip-torch) (0.2.13)\n",
            "Requirement already satisfied: packaging>=20.9 in /usr/local/lib/python3.11/dist-packages (from huggingface-hub->open-clip-torch) (24.2)\n",
            "Requirement already satisfied: pyyaml>=5.1 in /usr/local/lib/python3.11/dist-packages (from huggingface-hub->open-clip-torch) (6.0.2)\n",
            "Requirement already satisfied: requests in /usr/local/lib/python3.11/dist-packages (from huggingface-hub->open-clip-torch) (2.32.3)\n",
            "Requirement already satisfied: numpy in /usr/local/lib/python3.11/dist-packages (from torchvision->open-clip-torch) (1.26.4)\n",
            "Requirement already satisfied: pillow!=8.3.*,>=5.3.0 in /usr/local/lib/python3.11/dist-packages (from torchvision->open-clip-torch) (11.1.0)\n",
            "Requirement already satisfied: MarkupSafe>=2.0 in /usr/local/lib/python3.11/dist-packages (from jinja2->torch>=1.9.0->open-clip-torch) (3.0.2)\n",
            "Requirement already satisfied: charset-normalizer<4,>=2 in /usr/local/lib/python3.11/dist-packages (from requests->huggingface-hub->open-clip-torch) (3.4.1)\n",
            "Requirement already satisfied: idna<4,>=2.5 in /usr/local/lib/python3.11/dist-packages (from requests->huggingface-hub->open-clip-torch) (3.10)\n",
            "Requirement already satisfied: urllib3<3,>=1.21.1 in /usr/local/lib/python3.11/dist-packages (from requests->huggingface-hub->open-clip-torch) (2.3.0)\n",
            "Requirement already satisfied: certifi>=2017.4.17 in /usr/local/lib/python3.11/dist-packages (from requests->huggingface-hub->open-clip-torch) (2025.1.31)\n",
            "Downloading open_clip_torch-2.30.0-py3-none-any.whl (1.5 MB)\n",
            "\u001b[2K   \u001b[90m━━━━━━━━━━━━━━━━━━━━━━━━━━━━━━━━━━━━━━━━\u001b[0m \u001b[32m1.5/1.5 MB\u001b[0m \u001b[31m22.3 MB/s\u001b[0m eta \u001b[36m0:00:00\u001b[0m\n",
            "\u001b[?25hDownloading nvidia_cublas_cu12-12.4.5.8-py3-none-manylinux2014_x86_64.whl (363.4 MB)\n",
            "\u001b[2K   \u001b[90m━━━━━━━━━━━━━━━━━━━━━━━━━━━━━━━━━━━━━━━━\u001b[0m \u001b[32m363.4/363.4 MB\u001b[0m \u001b[31m4.9 MB/s\u001b[0m eta \u001b[36m0:00:00\u001b[0m\n",
            "\u001b[?25hDownloading nvidia_cuda_cupti_cu12-12.4.127-py3-none-manylinux2014_x86_64.whl (13.8 MB)\n",
            "\u001b[2K   \u001b[90m━━━━━━━━━━━━━━━━━━━━━━━━━━━━━━━━━━━━━━━━\u001b[0m \u001b[32m13.8/13.8 MB\u001b[0m \u001b[31m60.4 MB/s\u001b[0m eta \u001b[36m0:00:00\u001b[0m\n",
            "\u001b[?25hDownloading nvidia_cuda_nvrtc_cu12-12.4.127-py3-none-manylinux2014_x86_64.whl (24.6 MB)\n",
            "\u001b[2K   \u001b[90m━━━━━━━━━━━━━━━━━━━━━━━━━━━━━━━━━━━━━━━━\u001b[0m \u001b[32m24.6/24.6 MB\u001b[0m \u001b[31m34.4 MB/s\u001b[0m eta \u001b[36m0:00:00\u001b[0m\n",
            "\u001b[?25hDownloading nvidia_cuda_runtime_cu12-12.4.127-py3-none-manylinux2014_x86_64.whl (883 kB)\n",
            "\u001b[2K   \u001b[90m━━━━━━━━━━━━━━━━━━━━━━━━━━━━━━━━━━━━━━━━\u001b[0m \u001b[32m883.7/883.7 kB\u001b[0m \u001b[31m40.3 MB/s\u001b[0m eta \u001b[36m0:00:00\u001b[0m\n",
            "\u001b[?25hDownloading nvidia_cudnn_cu12-9.1.0.70-py3-none-manylinux2014_x86_64.whl (664.8 MB)\n",
            "\u001b[2K   \u001b[90m━━━━━━━━━━━━━━━━━━━━━━━━━━━━━━━━━━━━━━━━\u001b[0m \u001b[32m664.8/664.8 MB\u001b[0m \u001b[31m3.1 MB/s\u001b[0m eta \u001b[36m0:00:00\u001b[0m\n",
            "\u001b[?25hDownloading nvidia_cufft_cu12-11.2.1.3-py3-none-manylinux2014_x86_64.whl (211.5 MB)\n",
            "\u001b[2K   \u001b[90m━━━━━━━━━━━━━━━━━━━━━━━━━━━━━━━━━━━━━━━━\u001b[0m \u001b[32m211.5/211.5 MB\u001b[0m \u001b[31m6.4 MB/s\u001b[0m eta \u001b[36m0:00:00\u001b[0m\n",
            "\u001b[?25hDownloading nvidia_curand_cu12-10.3.5.147-py3-none-manylinux2014_x86_64.whl (56.3 MB)\n",
            "\u001b[2K   \u001b[90m━━━━━━━━━━━━━━━━━━━━━━━━━━━━━━━━━━━━━━━━\u001b[0m \u001b[32m56.3/56.3 MB\u001b[0m \u001b[31m18.9 MB/s\u001b[0m eta \u001b[36m0:00:00\u001b[0m\n",
            "\u001b[?25hDownloading nvidia_cusolver_cu12-11.6.1.9-py3-none-manylinux2014_x86_64.whl (127.9 MB)\n",
            "\u001b[2K   \u001b[90m━━━━━━━━━━━━━━━━━━━━━━━━━━━━━━━━━━━━━━━━\u001b[0m \u001b[32m127.9/127.9 MB\u001b[0m \u001b[31m7.8 MB/s\u001b[0m eta \u001b[36m0:00:00\u001b[0m\n",
            "\u001b[?25hDownloading nvidia_cusparse_cu12-12.3.1.170-py3-none-manylinux2014_x86_64.whl (207.5 MB)\n",
            "\u001b[2K   \u001b[90m━━━━━━━━━━━━━━━━━━━━━━━━━━━━━━━━━━━━━━━━\u001b[0m \u001b[32m207.5/207.5 MB\u001b[0m \u001b[31m6.2 MB/s\u001b[0m eta \u001b[36m0:00:00\u001b[0m\n",
            "\u001b[?25hDownloading nvidia_nvjitlink_cu12-12.4.127-py3-none-manylinux2014_x86_64.whl (21.1 MB)\n",
            "\u001b[2K   \u001b[90m━━━━━━━━━━━━━━━━━━━━━━━━━━━━━━━━━━━━━━━━\u001b[0m \u001b[32m21.1/21.1 MB\u001b[0m \u001b[31m63.4 MB/s\u001b[0m eta \u001b[36m0:00:00\u001b[0m\n",
            "\u001b[?25hDownloading ftfy-6.3.1-py3-none-any.whl (44 kB)\n",
            "\u001b[2K   \u001b[90m━━━━━━━━━━━━━━━━━━━━━━━━━━━━━━━━━━━━━━━━\u001b[0m \u001b[32m44.8/44.8 kB\u001b[0m \u001b[31m4.1 MB/s\u001b[0m eta \u001b[36m0:00:00\u001b[0m\n",
            "\u001b[?25hInstalling collected packages: nvidia-nvjitlink-cu12, nvidia-curand-cu12, nvidia-cufft-cu12, nvidia-cuda-runtime-cu12, nvidia-cuda-nvrtc-cu12, nvidia-cuda-cupti-cu12, nvidia-cublas-cu12, ftfy, nvidia-cusparse-cu12, nvidia-cudnn-cu12, nvidia-cusolver-cu12, open-clip-torch\n",
            "  Attempting uninstall: nvidia-nvjitlink-cu12\n",
            "    Found existing installation: nvidia-nvjitlink-cu12 12.5.82\n",
            "    Uninstalling nvidia-nvjitlink-cu12-12.5.82:\n",
            "      Successfully uninstalled nvidia-nvjitlink-cu12-12.5.82\n",
            "  Attempting uninstall: nvidia-curand-cu12\n",
            "    Found existing installation: nvidia-curand-cu12 10.3.6.82\n",
            "    Uninstalling nvidia-curand-cu12-10.3.6.82:\n",
            "      Successfully uninstalled nvidia-curand-cu12-10.3.6.82\n",
            "  Attempting uninstall: nvidia-cufft-cu12\n",
            "    Found existing installation: nvidia-cufft-cu12 11.2.3.61\n",
            "    Uninstalling nvidia-cufft-cu12-11.2.3.61:\n",
            "      Successfully uninstalled nvidia-cufft-cu12-11.2.3.61\n",
            "  Attempting uninstall: nvidia-cuda-runtime-cu12\n",
            "    Found existing installation: nvidia-cuda-runtime-cu12 12.5.82\n",
            "    Uninstalling nvidia-cuda-runtime-cu12-12.5.82:\n",
            "      Successfully uninstalled nvidia-cuda-runtime-cu12-12.5.82\n",
            "  Attempting uninstall: nvidia-cuda-nvrtc-cu12\n",
            "    Found existing installation: nvidia-cuda-nvrtc-cu12 12.5.82\n",
            "    Uninstalling nvidia-cuda-nvrtc-cu12-12.5.82:\n",
            "      Successfully uninstalled nvidia-cuda-nvrtc-cu12-12.5.82\n",
            "  Attempting uninstall: nvidia-cuda-cupti-cu12\n",
            "    Found existing installation: nvidia-cuda-cupti-cu12 12.5.82\n",
            "    Uninstalling nvidia-cuda-cupti-cu12-12.5.82:\n",
            "      Successfully uninstalled nvidia-cuda-cupti-cu12-12.5.82\n",
            "  Attempting uninstall: nvidia-cublas-cu12\n",
            "    Found existing installation: nvidia-cublas-cu12 12.5.3.2\n",
            "    Uninstalling nvidia-cublas-cu12-12.5.3.2:\n",
            "      Successfully uninstalled nvidia-cublas-cu12-12.5.3.2\n",
            "  Attempting uninstall: nvidia-cusparse-cu12\n",
            "    Found existing installation: nvidia-cusparse-cu12 12.5.1.3\n",
            "    Uninstalling nvidia-cusparse-cu12-12.5.1.3:\n",
            "      Successfully uninstalled nvidia-cusparse-cu12-12.5.1.3\n",
            "  Attempting uninstall: nvidia-cudnn-cu12\n",
            "    Found existing installation: nvidia-cudnn-cu12 9.3.0.75\n",
            "    Uninstalling nvidia-cudnn-cu12-9.3.0.75:\n",
            "      Successfully uninstalled nvidia-cudnn-cu12-9.3.0.75\n",
            "  Attempting uninstall: nvidia-cusolver-cu12\n",
            "    Found existing installation: nvidia-cusolver-cu12 11.6.3.83\n",
            "    Uninstalling nvidia-cusolver-cu12-11.6.3.83:\n",
            "      Successfully uninstalled nvidia-cusolver-cu12-11.6.3.83\n",
            "Successfully installed ftfy-6.3.1 nvidia-cublas-cu12-12.4.5.8 nvidia-cuda-cupti-cu12-12.4.127 nvidia-cuda-nvrtc-cu12-12.4.127 nvidia-cuda-runtime-cu12-12.4.127 nvidia-cudnn-cu12-9.1.0.70 nvidia-cufft-cu12-11.2.1.3 nvidia-curand-cu12-10.3.5.147 nvidia-cusolver-cu12-11.6.1.9 nvidia-cusparse-cu12-12.3.1.170 nvidia-nvjitlink-cu12-12.4.127 open-clip-torch-2.30.0\n"
          ]
        }
      ]
    },
    {
      "cell_type": "code",
      "source": [
        "import numpy as np\n",
        "import pandas as pd"
      ],
      "metadata": {
        "id": "LONUqr2G97Rs"
      },
      "execution_count": 4,
      "outputs": []
    },
    {
      "cell_type": "code",
      "source": [
        "from chromadb.utils.embedding_functions import OpenCLIPEmbeddingFunction\n",
        "embedding_function = OpenCLIPEmbeddingFunction()"
      ],
      "metadata": {
        "colab": {
          "base_uri": "https://localhost:8080/",
          "height": 49,
          "referenced_widgets": [
            "e3ae5aed528c4028bbc7bf374ddd5fcf",
            "3aa8cb985781446c9200728242f5b964",
            "05f2482e01674bc59a1187a41e60c0f8",
            "d678edf9bbe047dba8632e8d62bf4771",
            "7a407dc69b31407e84efb53f2e2065c8",
            "adcae3782a304c0c972e7d24868644ab",
            "795a7bfc822241a9b176d4e37f9fb06d",
            "e156c4c77be141ba92961e0fe29af07f",
            "dbf09d76c3554e53ab9d2050bd864e59",
            "504e6ce700224ca6a270c654d59ea72a",
            "551fe02aa96b4a3c92d667e7074f1636"
          ]
        },
        "id": "Yj5fTMf21Ezx",
        "outputId": "70aa0e7a-a7b2-4459-ba79-a7de65911bf7"
      },
      "execution_count": 17,
      "outputs": [
        {
          "output_type": "display_data",
          "data": {
            "text/plain": [
              "open_clip_model.safetensors:   0%|          | 0.00/605M [00:00<?, ?B/s]"
            ],
            "application/vnd.jupyter.widget-view+json": {
              "version_major": 2,
              "version_minor": 0,
              "model_id": "e3ae5aed528c4028bbc7bf374ddd5fcf"
            }
          },
          "metadata": {}
        }
      ]
    },
    {
      "cell_type": "code",
      "source": [
        "text_embed = embedding_function([\"This is a cat\"])"
      ],
      "metadata": {
        "id": "iPk0uOxfSbGU"
      },
      "execution_count": 18,
      "outputs": []
    },
    {
      "cell_type": "code",
      "source": [
        "print(text_embed[0].shape)"
      ],
      "metadata": {
        "colab": {
          "base_uri": "https://localhost:8080/"
        },
        "id": "eiDZeYDUS6z0",
        "outputId": "8d6a29da-3725-4254-d44d-83be55d08b92"
      },
      "execution_count": 22,
      "outputs": [
        {
          "output_type": "stream",
          "name": "stdout",
          "text": [
            "(512,)\n"
          ]
        }
      ]
    },
    {
      "cell_type": "code",
      "source": [
        "image_embed = embedding_function([np.array(image1)])"
      ],
      "metadata": {
        "id": "Po0FYPEQx-pD"
      },
      "execution_count": 24,
      "outputs": []
    },
    {
      "cell_type": "code",
      "source": [
        "print(image_embed[0].shape)"
      ],
      "metadata": {
        "colab": {
          "base_uri": "https://localhost:8080/"
        },
        "id": "ShooFY7ByMNy",
        "outputId": "93e25e81-968c-4118-ee83-80806e690fb1"
      },
      "execution_count": 25,
      "outputs": [
        {
          "output_type": "stream",
          "name": "stdout",
          "text": [
            "(512,)\n"
          ]
        }
      ]
    },
    {
      "cell_type": "code",
      "source": [
        "from chromadb.utils.data_loaders import ImageLoader\n",
        "data_loader = ImageLoader()\n"
      ],
      "metadata": {
        "id": "jLisiGK_4Hsj"
      },
      "execution_count": 11,
      "outputs": []
    },
    {
      "cell_type": "code",
      "source": [
        "import chromadb\n",
        "\n",
        "client = chromadb.Client()\n",
        "\n",
        "collection = client.create_collection(\n",
        "    name='multimodal_collection',\n",
        "    embedding_function = embedding_function,\n",
        "    data_loader=data_loader)\n",
        "\n"
      ],
      "metadata": {
        "id": "rzP9PA3G4O1D"
      },
      "execution_count": 32,
      "outputs": []
    },
    {
      "cell_type": "code",
      "source": [
        "from PIL import Image\n",
        "import requests\n",
        "url1 = \"https://encrypted-tbn0.gstatic.com/images?q=tbn:ANd9GcRoBuMvSuYezLE9rwI-zOJeIOmcIGfDPqOvFA&s\"\n",
        "image1 = Image.open(requests.get(url1, stream=True).raw)\n",
        "url2 = \"https://encrypted-tbn0.gstatic.com/images?q=tbn:ANd9GcRfiNlNG0uvJqDF_GyUNX97mvZNrtTUtNKx_Q&s\"\n",
        "image2 = Image.open(requests.get(url2, stream=True).raw)\n",
        "url3 = \"https://encrypted-tbn0.gstatic.com/images?q=tbn:ANd9GcRlVTWL4dqk9ZokaiRQe0kdV3_dNvkB7A3xTw&s\"\n",
        "image3 = Image.open(requests.get(url3, stream=True).raw)\n",
        "\n"
      ],
      "metadata": {
        "id": "vpIQA0ox4_NL"
      },
      "execution_count": 33,
      "outputs": []
    },
    {
      "cell_type": "code",
      "source": [
        "url2 = \"https://encrypted-tbn0.gstatic.com/images?q=tbn:ANd9GcRfiNlNG0uvJqDF_GyUNX97mvZNrtTUtNKx_Q&s\"\n",
        "image2 = Image.open(requests.get(url2, stream=True).raw)"
      ],
      "metadata": {
        "id": "VAQqYnMrBDeI"
      },
      "execution_count": 34,
      "outputs": []
    },
    {
      "cell_type": "code",
      "source": [
        "text1 = \"This is a dog\"\n",
        "text2 = \"This is a lion\"\n",
        "text3 = \"This is a cat\"\n",
        "text_embedding1 = embedding_function(text1)[0]\n",
        "image_embedding1 = embedding_function(np.array(image1))[0]\n",
        "text_embedding2 = embedding_function(text2)[0]\n",
        "image_embedding2 = embedding_function(np.array(image2))[0]\n",
        "text_embedding3 = embedding_function(text3)[0]\n",
        "image_embedding3 = embedding_function(np.array(image3))[0]\n",
        "\n",
        "embeddings = [(text_embedding1*0.3 + image_embedding1*0.7), (text_embedding2*0.3 + image_embedding2*0.7), (text_embedding3*0.3 + image_embedding3*0.7)]\n",
        "#embeddings = [(text_embedding1 + image_embedding1)/2, (text_embedding2 + image_embedding2)/2, (text_embedding3 + image_embedding3)/2]"
      ],
      "metadata": {
        "id": "9ehQNOuiToPK"
      },
      "execution_count": null,
      "outputs": []
    },
    {
      "cell_type": "code",
      "source": [
        "image = image2.resize((224, 224))"
      ],
      "metadata": {
        "id": "-cEc6WH9UAwf"
      },
      "execution_count": null,
      "outputs": []
    },
    {
      "cell_type": "code",
      "source": [
        "print(np.array(image2).shape)\n",
        "print(np.array(image).shape)"
      ],
      "metadata": {
        "colab": {
          "base_uri": "https://localhost:8080/"
        },
        "id": "GxxysL6ZDyGN",
        "outputId": "0ad864d5-08a8-4092-926f-8e4da6f79396"
      },
      "execution_count": null,
      "outputs": [
        {
          "output_type": "stream",
          "name": "stdout",
          "text": [
            "(178, 282, 3)\n",
            "(224, 224, 3)\n"
          ]
        }
      ]
    },
    {
      "cell_type": "code",
      "source": [
        "from IPython.display import display\n",
        "display(image)\n",
        "display(image2)"
      ],
      "metadata": {
        "colab": {
          "base_uri": "https://localhost:8080/",
          "height": 419
        },
        "id": "HDnrEiSfWV-h",
        "outputId": "1633b5a1-ca8c-46e3-f5b1-84238c34c626"
      },
      "execution_count": null,
      "outputs": [
        {
          "output_type": "display_data",
          "data": {
            "text/plain": [
              "<PIL.Image.Image image mode=RGB size=224x224>"
            ],
            "image/png": "[encoded data removed]",
            "image/jpeg": "[encoded data removed]"
          },
          "metadata": {}
        },
        {
          "output_type": "display_data",
          "data": {
            "text/plain": [
              "<PIL.JpegImagePlugin.JpegImageFile image mode=RGB size=282x178>"
            ],
            "image/png": "[encoded data removed]",
            "image/jpeg": "[encoded data removed]"
          },
          "metadata": {}
        }
      ]
    },
    {
      "cell_type": "code",
      "source": [
        "image_embedding1 = embedding_function([np.array(image1)])[0].tolist()\n",
        "image_embedding2 = embedding_function([np.array(image2)])[0].tolist()\n",
        "image_embedding3 = embedding_function([np.array(image3)])[0].tolist()\n",
        "embeddings = [image_embedding1, image_embedding2, image_embedding3]"
      ],
      "metadata": {
        "id": "NkKw7u9nzBTS"
      },
      "execution_count": 39,
      "outputs": []
    },
    {
      "cell_type": "code",
      "source": [
        "print(embeddings)"
      ],
      "metadata": {
        "colab": {
          "base_uri": "https://localhost:8080/"
        },
        "id": "TA-0Zsu0zoDf",
        "outputId": "c1ed5594-3b21-4030-dff7-fc06298caa2f"
      },
      "execution_count": 40,
      "outputs": [
        {
          "output_type": "stream",
          "name": "stdout",
          "text": [
            "[[0.0443202443420887, 0.12848463654518127, -0.05144283175468445, 0.00909173209220171, -0.016576264053583145, 0.03344268351793289, 0.015334757044911385, 0.040586091578006744, 0.004228729754686356, 0.007704261224716902, 0.029903749004006386, -0.07955078035593033, -0.0014639196451753378, -0.05869007483124733, 0.03889239951968193, 0.018257683143019676, -0.14895816147327423, -0.008764497935771942, -0.046711280941963196, 0.05038737133145332, -0.003723562229424715, -0.003123602131381631, 0.03792104870080948, 0.06128409132361412, -0.01716950163245201, 0.05982767418026924, 0.025766795501112938, -0.009232508018612862, 0.05542789772152901, -0.05545952916145325, -0.08505398780107498, 0.030483921989798546, 0.027397992089390755, 0.019361088052392006, 0.019328849390149117, 0.000923776300624013, 0.04393882304430008, 0.043534811586141586, -0.003241902682930231, -0.018236231058835983, 0.0009635316673666239, -0.005528316833078861, 0.048790592700242996, -0.05100660398602486, -0.03198610991239548, 0.009738178923726082, -0.0011674949200823903, -0.042729903012514114, -0.04711565375328064, -0.004305290058255196, 0.008994686417281628, 0.018680213019251823, -0.009530257433652878, -0.030552683398127556, -0.034201350063085556, -0.15081565082073212, -0.022204997017979622, -0.002645221771672368, -0.05824226140975952, 0.0487590953707695, 0.0348602719604969, -0.01320139691233635, 0.01502779871225357, 0.014798907563090324, -0.009208138100802898, -0.0025610369630157948, 0.012916083447635174, 0.10496047884225845, 0.03984856233000755, -0.016793277114629745, -0.028215792030096054, 0.04255031794309616, 0.02591869607567787, 0.03192739933729172, 0.0752105563879013, -0.02003195881843567, -0.02849428914487362, -0.01782340183854103, -0.048549603670835495, 0.085273377597332, 0.010950073599815369, -0.06559904664754868, 0.029751893132925034, 0.0003069735539611429, 0.03040020726621151, -0.016128983348608017, -0.0003535275172907859, 0.0033110706135630608, 0.028831731528043747, 0.004295242950320244, 0.0017497788649052382, 0.03337475284934044, 0.025671599432826042, -0.0097420085221529, -0.007979635149240494, -0.038206178694963455, -0.002634185366332531, -0.031802643090486526, 0.05728977546095848, -0.004346197936683893, 0.016514860093593597, -0.0421961210668087, 0.017654752358794212, 0.01717309094965458, -0.004753548186272383, 0.06073407456278801, -0.04019450396299362, 0.08182594925165176, -0.04619594290852547, 0.0349176861345768, 0.07786692678928375, 0.00211427453905344, -0.03833281993865967, -0.02611994557082653, 0.03950127959251404, 0.12084735184907913, 0.03571321442723274, -0.029103275388479233, -0.031050141900777817, -0.09723621606826782, -0.0148242749273777, 0.01120373047888279, 0.01990291103720665, -0.024135015904903412, 0.016001734882593155, -0.022894667461514473, 0.01357501745223999, 0.010906604118645191, 0.011686130426824093, 0.045361343771219254, -0.022287601605057716, 0.021522171795368195, -0.018117845058441162, -0.021804535761475563, -0.01930599845945835, -0.020960912108421326, -0.026115868240594864, 0.004013396333903074, -0.0027748721186071634, 0.03817661106586456, 0.03610040992498398, -0.07358696311712265, -0.049976594746112823, -0.02107987366616726, -0.0811171606183052, -0.04360399767756462, -0.00479862792417407, -0.057544246315956116, 0.018152223899960518, 0.016218187287449837, 0.008610256016254425, 0.014591709710657597, 0.2835519015789032, 0.01625889725983143, 0.03479396179318428, -0.055289383977651596, -0.013727724552154541, 0.06564610451459885, -0.04255625233054161, -0.056627307087183, -0.01273275725543499, 0.026176059618592262, 0.024329164996743202, -0.007813751697540283, 0.005376679357141256, -0.03355056047439575, 0.04398579150438309, 0.12552519142627716, -0.05211900174617767, -0.027676047757267952, -0.0009636353934183717, -0.01906766928732395, 0.04675716161727905, -0.04598388820886612, 0.006252281833440065, 0.17741917073726654, 0.004917294718325138, -0.02692364528775215, 0.04183756560087204, -0.0029803195502609015, -0.08785650879144669, 0.02141914702951908, 0.05599987879395485, 0.003837643191218376, -0.00804586336016655, 0.03390752151608467, -0.049056846648454666, 0.0032705352641642094, 0.030169688165187836, 0.009023365564644337, 0.01764729432761669, 0.004875210579484701, -0.06279823929071426, 0.008447901345789433, 0.022666452452540398, 0.012541865929961205, 0.01353677548468113, 0.002633092924952507, -0.03553204610943794, -0.021389806643128395, -0.05581694841384888, 0.022286338731646538, -0.08566409349441528, 0.04713766276836395, 0.007134725805372, 0.03237779065966606, 0.06299857050180435, 0.019093655049800873, 0.018820378929376602, 0.05519799515604973, -0.030002746731042862, -0.09447403997182846, -0.03304830193519592, 0.02973104640841484, 0.015476761385798454, -0.017763646319508553, 0.032496675848960876, -0.02598080411553383, -0.00788940954953432, -0.02353905700147152, 0.01587207056581974, 0.03782787546515465, -0.03845759481191635, -0.035241372883319855, -0.013151281513273716, 0.048228971660137177, -0.013930887915194035, 0.027417898178100586, 0.01920090988278389, -0.06901124864816666, 0.008687291294336319, 0.01753358729183674, -0.027798131108283997, 0.02254251204431057, 0.014124620705842972, -0.025988642126321793, 0.006332854740321636, 0.029716089367866516, 0.044774796813726425, 0.037694405764341354, -0.033992279320955276, 0.07809865474700928, -0.033001042902469635, -0.021678688004612923, -0.030594268813729286, 0.07647563517093658, 0.046674247831106186, -0.04006720334291458, -0.061268385499715805, -0.02875177189707756, -0.0018384045688435435, 0.01641605608165264, 0.06798626482486725, -0.028229383751749992, -0.05658435821533203, -0.04402700811624527, 0.00582221569493413, -0.008360130712389946, -0.0052519929595291615, -0.08064058423042297, 0.09095516055822372, 0.00642060860991478, 0.02408171258866787, 0.03095957078039646, 0.003308412153273821, 0.01747683435678482, -0.007197488099336624, -0.008051439188420773, 0.03404628112912178, -0.04145553708076477, -0.014501463621854782, 0.0012249629944562912, -0.0025225745048373938, -0.021933631971478462, 0.011793132871389389, -0.012816916219890118, -0.0369730181992054, 0.006358981132507324, 0.0059626344591379166, 0.020515406504273415, -0.03651862591505051, 0.03539692610502243, -0.0038309639785438776, 0.02580946683883667, -0.003096643602475524, -0.023471109569072723, -0.004124319180846214, -0.029280677437782288, 0.038802020251750946, 0.03199010714888573, 0.02958082966506481, -0.005944855511188507, 0.006634251214563847, -0.04442678019404411, 0.005560247227549553, 0.03604176267981529, -0.010087167844176292, 0.020205460488796234, -0.009252394549548626, -0.06252694875001907, -0.17939306795597076, 0.00401909789070487, -0.04242192953824997, -0.023117510601878166, 0.17428570985794067, -0.0006057187565602362, 0.04590561240911484, -0.28329771757125854, -0.028388163074851036, -0.004834685008972883, 0.05278826504945755, -0.014020008035004139, 0.00931539572775364, 0.0008125316817313433, 0.02785790152847767, 0.04268699139356613, 0.0036409967578947544, -0.011055955663323402, -0.0002998404379468411, 0.03392272815108299, 0.03222394362092018, 0.035838477313518524, 0.047452330589294434, 0.042662687599658966, -0.05569646134972572, -0.0008430418092757463, -0.046925365924835205, -0.007322751451283693, 0.02082519233226776, 0.03450360149145126, -0.047243256121873856, -0.05638473480939865, 0.0704934149980545, -0.00684405118227005, -0.07344372570514679, 0.017373938113451004, -0.023629486560821533, -0.020228449255228043, -0.01983468420803547, -0.023808319121599197, 0.012424174696207047, -0.06327993422746658, -0.052422553300857544, -0.09750912338495255, -0.0035476593766361475, -8.817882917355746e-05, -0.026597287505865097, 0.017536601051688194, 0.03587748855352402, -0.04477918520569801, 0.008793647401034832, -0.021155450493097305, 0.006950610317289829, 0.0070806085132062435, 0.0031466770451515913, 0.006099970079958439, 0.056806132197380066, 0.06996726989746094, -0.0557064451277256, 0.002660836325958371, 0.03464847058057785, 0.01761035807430744, -0.00128970539662987, 0.019689710810780525, -0.012519600801169872, 0.04395893216133118, 0.04584377259016037, -0.018206119537353516, 0.045712001621723175, -0.013186229392886162, 0.010104929096996784, 0.0157917607575655, 0.05116071179509163, -0.05048825591802597, -0.026362759992480278, 0.003299449570477009, -0.021531052887439728, 0.029884282499551773, 0.039150118827819824, -0.05450616776943207, 0.023669496178627014, 0.02129533141851425, 0.03239378333091736, -0.004944263491779566, 0.02764519862830639, 0.03267313912510872, -0.0017485629068687558, -0.05521146580576897, 0.004835236351937056, -0.01602812483906746, -0.005905696656554937, -0.004056053701788187, -0.01414981298148632, 0.06233663111925125, -0.030090773478150368, -0.026630640029907227, -0.12194329500198364, -0.058389466255903244, 0.017498642206192017, 0.0038353942800313234, -0.02539195865392685, -0.022091424092650414, -0.050501737743616104, -0.035753559321165085, 0.0427851639688015, -0.005986109375953674, 0.05432417616248131, -0.06347129493951797, 0.042422059923410416, -0.007316505070775747, -0.006251783575862646, 0.004109923727810383, 0.0022196159698069096, -0.0355965755879879, 0.029597679153084755, 0.01842833124101162, 0.0008591404766775668, 0.002817473141476512, 0.0030575005803257227, 0.001050927909091115, 0.044320955872535706, -0.017524050548672676, -0.026473313570022583, -0.03754507750272751, -0.012722177430987358, 0.000760480819735676, 0.03862380608916283, -0.08426806330680847, -0.06437505036592484, -0.06452330201864243, 0.05669417232275009, -0.04841871187090874, 0.043963637202978134, 0.014548222534358501, 0.006411807611584663, 0.06009972468018532, -0.02720111422240734, 0.015875885263085365, -0.014326322823762894, -0.03532391041517258, -0.012782134115695953, -0.017023630440235138, 0.05662316083908081, 0.029416382312774658, 0.06182057037949562, 0.020365305244922638, 0.008489148691296577, 0.035736083984375, -0.011026404798030853, 0.002099600387737155, 0.10156756639480591, 0.012629526667296886, 0.0271436907351017, 0.023007312789559364, -0.024846112355589867, 0.01301010325551033, 0.04354509711265564, 0.017764916643500328, -0.028676673769950867, -0.005691939033567905, -0.017310716211795807, 0.01313032303005457, 0.040146611630916595, -0.028909051790833473, -0.011699899099767208, 0.007707790471613407, -0.05847052484750748, 0.05402691662311554, -0.02683866396546364, 0.004847248084843159, -0.07143507897853851, -0.012826274149119854, -0.01655671000480652, -0.0054088556207716465, -0.01790228672325611, 0.0339878685772419, 0.011355833150446415, 0.014292850159108639, -0.03261182829737663, -0.05876242369413376, 0.04126749560236931, 0.004850996658205986, 0.039576053619384766, -0.021375423297286034, 0.027371201664209366, -0.005961903836578131, 0.02093762904405594, 0.004548157099634409, -0.04659394547343254, -0.02395893819630146, -0.015609756112098694, -0.013759332709014416, 0.07835142314434052, -0.025678640231490135, -0.04807604104280472, -0.032138582319021225, -0.06473184376955032, 0.0038156970404088497, 0.02497490867972374, -0.020494459196925163, 0.012869516387581825, 0.005638922564685345, -0.027353856712579727, -0.08763928711414337, -0.0028400677256286144, 0.05420378968119621, 0.0643945187330246, 0.042417921125888824, -0.0010979098733514547, 0.03792824223637581, -0.025142697617411613, 0.02333083562552929], [-0.007029418367892504, 0.04727386310696602, -0.06370621174573898, -0.08451671898365021, 0.0045312438160181046, -0.01392270252108574, 0.006486393045634031, 0.029753951355814934, 0.053578831255435944, 0.008117872290313244, 0.01665644347667694, 0.023202508687973022, 0.005874386057257652, -0.07148370146751404, 0.01647186651825905, -0.03130901977419853, -0.0801706537604332, 0.02962583489716053, -0.038994837552309036, 0.038303449749946594, 0.03216131776571274, 0.04208386316895485, -0.006410899106413126, -0.002177448244765401, 0.011846509762108326, 0.04090780019760132, -8.842673560138792e-05, -0.028920095413923264, -0.015538684092462063, -0.005499830469489098, -0.0014088639291003346, -0.0026481475215405226, 0.016533466055989265, 0.042479656636714935, -0.003552897134795785, -0.02683689445257187, -0.007447781972587109, 0.08623464405536652, 0.017684301361441612, -0.04688716307282448, 0.024752775207161903, -0.02350318618118763, 0.064204141497612, -0.013962339609861374, 0.014436203986406326, -0.04922061786055565, -0.054367680102586746, -0.005603555124253035, -0.031117916107177734, -0.01250007376074791, -0.04380008205771446, -0.014377852901816368, -0.027112752199172974, -0.0006917036953382194, -0.012777633965015411, -0.11718397587537766, 0.0036806899588555098, 0.024212636053562164, 0.06484851986169815, 0.07497407495975494, -0.04424837604165077, 0.03023383766412735, -0.02766997180879116, 0.0015540479216724634, 0.022961949929594994, -0.026725105941295624, -0.012308674864470959, -0.03726029396057129, -0.04046231508255005, -0.016655664891004562, -0.04509548470377922, -0.015816865488886833, 0.04568641260266304, 0.0044633629731833935, 0.053088076412677765, -0.041328541934490204, -0.015218527987599373, -0.005014958791434765, -0.011326814070343971, 0.033091526478528976, 0.02036147750914097, 0.0008188074571080506, 0.0009016318363137543, -0.044876281172037125, -0.018557237461209297, -0.062356773763895035, 0.06971428543329239, -0.04192515090107918, -0.07979172468185425, 0.01041431911289692, -0.05110274255275726, 0.011951013468205929, 0.04056183993816376, 0.014833946712315083, -0.015542116016149521, 0.012506131082773209, -0.0022621219977736473, -0.0028395610861480236, 0.066960409283638, 0.04641272872686386, 0.006789371371269226, -0.012380019761621952, 0.014366175048053265, 0.03734206408262253, -0.04791907221078873, 0.014264740981161594, 0.03259838744997978, -0.04053037241101265, -0.021069124341011047, -0.006517552770674229, 0.040165845304727554, -0.04968123510479927, -0.020932085812091827, 0.003577019553631544, -0.044415395706892014, 0.1852262318134308, -0.00665835989639163, 0.025711113587021828, -0.021227871999144554, -0.0039970665238797665, -0.0024695342872291803, 0.01208212599158287, 0.02147030271589756, -0.025782311335206032, -0.0033014670480042696, 0.0015556379221379757, 0.00786785688251257, -0.019058356061577797, -0.012233849614858627, -0.05562175065279007, 0.0444481261074543, -0.04533786699175835, -0.04696253314614296, -0.014722034335136414, 0.06794902682304382, 0.06322580575942993, 0.04270178824663162, -0.07710745185613632, 0.027358613908290863, 0.01579241082072258, 0.03965558856725693, 0.03638340160250664, -0.0197124145925045, 0.012614820152521133, -0.029477203264832497, 0.006919284351170063, -0.004553923383355141, -0.03456344082951546, 0.058541275560855865, -0.05191813036799431, -0.009804817847907543, -0.03568379580974579, 0.3498486280441284, -0.002181772608309984, -0.009505667723715305, -0.008780109696090221, 0.0009738566004671156, -0.021743569523096085, -0.002796372165903449, -0.0050675696693360806, -0.018543653190135956, 0.04021278768777847, -0.008841564878821373, 0.02588772401213646, 0.027821624651551247, -0.11818218231201172, 0.0025905873626470566, 0.024454571306705475, -0.021990446373820305, 0.014653852209448814, 0.048911500722169876, 0.005746851209551096, -0.007373664993792772, 0.012966695241630077, 0.013619772158563137, 0.12267740815877914, 0.006961843464523554, -0.017837882041931152, 0.12087693065404892, 0.009642437100410461, -0.0011350999120622873, -0.030581295490264893, 0.016902383416891098, 0.016553951427340508, -0.025179602205753326, 0.029017316177487373, -0.09927982091903687, 0.006155360024422407, 0.0005433097830973566, -0.0034702385310083628, 0.020003054291009903, -0.12203198671340942, -0.03438369557261467, -0.0030019336845725775, 0.0005595755064859986, 0.002219896297901869, 0.03836206719279289, 0.05689570680260658, -0.0011747083626687527, -0.0016919606132432818, 0.06481614708900452, 0.0949079617857933, -0.031976498663425446, 0.020611939951777458, 0.011947679333388805, -0.045169323682785034, 0.015720359981060028, -0.015957864001393318, -0.00010584219126030803, 0.015669437125325203, -0.009209796786308289, 0.035038843750953674, -0.037549640983343124, 0.0505865216255188, -0.10713599622249603, -0.02218620665371418, -0.004109099507331848, -0.06130380555987358, 0.040184952318668365, -0.002087016822770238, 0.05962864309549332, -0.012216196395456791, -0.04193578287959099, -0.02879287302494049, -0.02308666706085205, 0.01771065592765808, 0.03876998648047447, -0.012775570154190063, 0.02870446816086769, -0.00756079563871026, 0.02016829513013363, 0.045333217829465866, -0.00013376431888900697, -0.014528932981193066, 0.008901492692530155, -0.038087040185928345, 0.013351619243621826, 0.03037319891154766, 0.009892607107758522, -0.005911152809858322, 0.030708612874150276, 0.021446000784635544, -0.029850024729967117, -0.004295073449611664, 0.03427707776427269, 0.06198112666606903, 0.0044743362814188, 0.03337925300002098, -0.02691674418747425, -0.05767348036170006, -0.004987253807485104, 0.04477585479617119, 0.04358068108558655, -0.045124441385269165, -0.014125363901257515, 0.009711182676255703, 0.009183795191347599, -0.011256128549575806, 0.0049773515202105045, 0.002260106848552823, 0.02532557211816311, 0.04670501872897148, 0.01919563300907612, 0.00760091794654727, -0.006506630219519138, -0.025134824216365814, -0.004849594552069902, -0.01656072400510311, -0.004566529765725136, 0.038827069103717804, -0.0030696289613842964, -0.044288698583841324, 0.03997207432985306, -0.002253649989143014, -0.021206488832831383, -0.00869672279804945, -0.006463144440203905, 0.03912480175495148, 0.0260543804615736, 0.004791224375367165, -0.005506725981831551, 0.06077684834599495, -0.010051088407635689, 0.02633344940841198, 0.03351610526442528, 0.0310969278216362, -0.026489676907658577, -0.003786759916692972, 0.05102106183767319, -0.0035715545527637005, 0.019372183829545975, -0.00011945050209760666, 0.014345159754157066, -0.004809091798961163, -0.021286947652697563, 0.07387483865022659, 0.007681467570364475, -0.013447114266455173, 0.0190214142203331, -0.0075998613610863686, -0.06280877441167831, -0.003377217333763838, -0.02256719209253788, -0.006616231985390186, 0.2284681648015976, 0.0008286268566735089, -0.04541051760315895, -0.3491215109825134, -0.03136565908789635, -0.018871845677495003, -0.05157710239291191, 0.019824940711259842, -0.0017618914134800434, 0.026557404547929764, -0.02590058743953705, -0.0346158891916275, -0.0014047141885384917, -0.006302324123680592, 0.017343241721391678, -0.01644035428762436, 0.002501710783690214, 0.011935840360820293, 0.011112693697214127, -0.09440051019191742, -0.06067226082086563, 0.018452785909175873, 0.014679362066090107, 0.014735083095729351, 0.0034730660263448954, 0.009153462946414948, -0.01800982654094696, -0.050007808953523636, 0.024096878245472908, 0.06438319385051727, -0.022940434515476227, -0.011720038019120693, -0.029483245685696602, -0.01802172139286995, -0.02076992765069008, 0.042613305151462555, -0.01447966881096363, 0.014897692948579788, 0.04745906591415405, -0.028020573779940605, -0.06594119220972061, -0.05920484662055969, 0.01139342226088047, -0.014137420803308487, -0.05902700498700142, -0.05943319946527481, -0.016424093395471573, 0.03978182375431061, 0.03953864797949791, -0.0008686964865773916, -0.07132904976606369, -0.015881476923823357, 0.026064883917570114, 0.042360883206129074, -0.018733223900198936, 0.0006028354982845485, -0.02262280136346817, 0.0462130568921566, 0.016266362741589546, 0.024715643376111984, -0.06668273359537125, 0.006290902849286795, 0.045368753373622894, 0.010368443094193935, 0.044197581708431244, 0.003117793006822467, 0.046611424535512924, 0.018630875274538994, 0.02235237881541252, 0.0068664466962218285, -0.03143773227930069, -0.002867517527192831, 0.07712003588676453, 0.005048729479312897, 0.027318459004163742, -0.008093004114925861, -0.003348400117829442, 0.030825387686491013, 0.01380152441561222, -0.03687366470694542, -0.012709918431937695, 0.06264200061559677, -0.0235613901168108, -0.0044429004192352295, 0.008317708969116211, -0.038545042276382446, -0.029388083145022392, 0.06219037249684334, 0.017540430650115013, -0.04635626822710037, 0.011083833873271942, -0.035194236785173416, -0.14906209707260132, -0.05230146646499634, -0.04275479540228844, -0.003936699591577053, -0.04757143557071686, -0.05171705782413483, -0.0014812045264989138, -0.009273167699575424, -0.01798402890563011, -0.03087875433266163, 0.0721578374505043, -0.013302795588970184, -0.01817440055310726, 0.039781663566827774, -0.007206187583506107, 0.019382541999220848, -0.03098239377140999, -0.00745423324406147, 0.013648858293890953, -0.029128529131412506, 0.054926302284002304, 0.013691042549908161, 0.0548347644507885, 0.03112403117120266, 0.010140342637896538, -0.020100614055991173, -0.029941221699118614, -0.01961223967373371, -0.045002974569797516, 0.019138099625706673, 0.022712048143148422, -0.050041183829307556, 0.008665052242577076, 0.0030260004568845034, 0.03110298328101635, -0.03332420438528061, -0.02372838370501995, -0.01573699526488781, -0.028440607711672783, 0.0407908596098423, 0.020993376150727272, 0.05442775413393974, -0.033562008291482925, -0.03364602103829384, 0.014583354815840721, 0.046534083783626556, 0.0705326572060585, 0.03616828843951225, 0.04426442086696625, 0.04758947715163231, 0.07972485572099686, -0.019641287624835968, 0.04521383345127106, 0.00903361663222313, 0.008153374306857586, 0.038519520312547684, -0.03302046284079552, -0.008622322231531143, -0.02519611082971096, 0.005937420763075352, 0.0175998006016016, 0.001845857361331582, 0.0039002145640552044, -0.04316920414566994, -0.03128541260957718, -0.04879827797412872, 0.03233811631798744, 0.05222007632255554, -0.023927530273795128, -0.033843521028757095, -0.01705622486770153, -0.017978230491280556, 0.044685471802949905, -0.01117177028208971, -0.01583908312022686, -0.015461791306734085, 0.023746758699417114, 0.0200415700674057, -0.04447295516729355, -0.10606949776411057, -0.026122625917196274, 0.0689738467335701, -0.029350662603974342, 0.009153708815574646, 0.07118137180805206, 0.03364324942231178, 0.025506777688860893, 0.04151533171534538, 0.04255224019289017, -0.00455936836078763, 0.0037168057169765234, 0.049068890511989594, -0.0329313799738884, -0.07340827584266663, 0.06665602326393127, -0.016358647495508194, 0.04100818186998367, 0.017423374578356743, -0.017092665657401085, 0.012190726585686207, -0.020514333620667458, 0.03182096779346466, 0.018376588821411133, -0.007900324650108814, -0.0046288310550153255, 0.019332164898514748, 0.05818481370806694, -0.04147861897945404, -0.01756265200674534, 0.014655981212854385, 0.017158327624201775, 0.01456926017999649, -0.04598560556769371, 0.0025057971943169832, -0.015145120210945606, 0.057637181133031845], [0.07800193130970001, 0.09218036383390427, -0.05512714758515358, -0.05742429196834564, 0.028069857507944107, 0.061266325414180756, 0.06580708175897598, -0.021276216953992844, 0.008071302436292171, 0.0014385269023478031, 0.05182658135890961, -0.008130603469908237, -0.0033434589859098196, -0.031540852040052414, 0.03584963455796242, 0.029567239806056023, -0.10161589831113815, -0.035016778856515884, -0.04447611793875694, 0.002237084787338972, 0.03209061920642853, -0.005072919651865959, 0.0006988889654166996, 0.01686560921370983, -0.044576868414878845, 0.03625105321407318, -0.05068648234009743, 0.005379415117204189, 0.011486221104860306, -0.05269043520092964, -0.016655627638101578, -0.013889368623495102, -0.015611307695508003, -0.011912415735423565, -0.04484310746192932, -0.008748284541070461, 0.06089387461543083, -0.011143120005726814, -0.030960941687226295, -0.025590937584638596, -0.0012622983194887638, 0.013738390989601612, 0.07426643371582031, -0.006856977473944426, -0.01974470168352127, -0.0659913420677185, 0.0045565213076770306, -0.015123135410249233, -0.014525890350341797, -0.02552632801234722, 0.02924444153904915, 0.0017678277799859643, 0.022375548258423805, -0.010786138474941254, 0.026826286688447, -0.08142705261707306, -0.027780532836914062, -0.0069202398881316185, -0.018922151997685432, 0.015439864248037338, 0.011904187500476837, -0.004369574598968029, -0.05852179974317551, 0.03360645845532417, 0.03323137387633324, -0.0602620430290699, 0.011015858501195908, -0.044334009289741516, 0.023600082844495773, -0.011277823708951473, -0.02764178439974785, 0.01830054633319378, 0.0358702726662159, 0.02383454330265522, 0.07407105714082718, -0.000288420997094363, -0.04524363949894905, -0.020011860877275467, 0.02299964427947998, 0.016788261011242867, 0.0465482659637928, 0.0641794353723526, -0.00378241203725338, -0.026373032480478287, 0.020960532128810883, -0.009988219477236271, 0.02450147457420826, 0.03434205800294876, -0.008704012259840965, 0.019771475344896317, -0.00013359995500650257, 0.004979393444955349, -0.010011530481278896, 0.0005473510827869177, -0.027883680537343025, -0.006005739793181419, -0.06415113061666489, -0.016929013654589653, 0.04440010339021683, -0.014652120880782604, -0.03855491429567337, -0.04948067665100098, -0.022075006738305092, 0.013258719816803932, -0.03032221458852291, 0.024536414071917534, -0.02606896683573723, 0.013532453216612339, -0.009027780964970589, 0.015438282862305641, -0.007539897691458464, 0.014498084783554077, -0.047499123960733414, -0.049859724938869476, 0.009664751589298248, 0.11435870826244354, 0.005510382354259491, -0.054802801460027695, -0.01676839217543602, 0.043952155858278275, -0.06208261474967003, 0.013091479428112507, -0.043584469705820084, -0.02639826200902462, 0.018236400559544563, -0.013386480510234833, 0.06089099496603012, 0.03131376579403877, -0.010961974039673805, 0.04186403751373291, -0.01974979229271412, -0.007126784883439541, -0.008913978934288025, -0.023976042866706848, -0.024526657536625862, 0.007889078930020332, -0.008503491058945656, -0.0016698375111445785, -0.006649655289947987, -0.05599484220147133, 0.013253799639642239, -0.0034325195010751486, 0.029482979327440262, 0.008688362315297127, -0.04147951304912567, -0.03666982054710388, -0.01846286654472351, -0.023089414462447166, 0.023920144885778427, 0.020911050960421562, 0.01881810463964939, -0.031449176371097565, 0.33651894330978394, 0.023250412195920944, 0.0038319830782711506, 0.01051842700690031, -0.01439946424216032, 0.045287758111953735, 0.024314748123288155, -0.03508487343788147, 0.011762402951717377, -0.004056788049638271, 0.041262876242399216, -0.009841091930866241, -0.004320875275880098, 0.020981810986995697, -9.79414653556887e-06, 0.17762461304664612, -0.014523361809551716, 0.07937843352556229, 0.009736266918480396, -0.014359869994223118, 0.03463839367032051, 0.0020601064898073673, 0.006776595488190651, 0.19117312133312225, 0.008490588515996933, -0.024434374645352364, 0.010557555593550205, 0.0621541403234005, -0.0007012233254499733, 0.0549810416996479, 0.04231088608503342, 0.01611822284758091, -0.009913720190525055, 0.008047382347285748, 0.030701367184519768, 0.027492139488458633, 0.02552161179482937, 0.05896814912557602, 0.01024196483194828, -0.05544554442167282, -0.06331375986337662, -0.04776569455862045, 0.032437968999147415, -0.00883452221751213, 0.04280295968055725, 0.04015471786260605, -0.022880373522639275, -0.042933039367198944, -0.008883373811841011, 0.06751307845115662, -0.08044937252998352, 0.00933141727000475, 0.04728831350803375, 0.02070542797446251, 0.02933349274098873, 0.01216377317905426, 0.03412216156721115, 0.012015790678560734, -0.03624119237065315, 0.02222815342247486, -0.03667893260717392, 0.004612720105797052, -0.02506781555712223, 0.02329583652317524, -0.0028059612959623337, -0.06186610460281372, 0.04924977570772171, 0.02843610569834709, 0.032222360372543335, 0.059717580676078796, 0.003296107053756714, -0.09360641986131668, -0.0575612410902977, 0.0066961199045181274, -0.012250622734427452, 0.0035854349844157696, 0.01048013661056757, -0.03943871334195137, -0.05729588493704796, 0.014672760851681232, -0.023110171779990196, 0.032873690128326416, 0.033535201102495193, -0.0014232179382815957, 0.021742330864071846, 0.03310928866267204, 0.054652635008096695, 0.031931545585393906, -0.017504975199699402, 0.018101070076227188, 0.043910183012485504, 0.007961160503327847, 0.012990862131118774, 0.020887654274702072, 0.024251682683825493, -0.03660811856389046, 0.016600601375102997, 0.026893235743045807, 0.05587787926197052, 0.01927730068564415, 0.0445498563349247, -0.027660565450787544, -0.008495563641190529, 0.012932652607560158, 0.05087143927812576, 0.01891803741455078, -0.04701551795005798, 0.004778707399964333, 0.06422163546085358, 0.022764746099710464, 9.805466834222898e-05, 0.01645263470709324, 0.0014282581396400928, 0.000878026126883924, 0.027661306783556938, 0.03442883491516113, -0.03069184720516205, 2.4335986381629482e-05, 0.007869085296988487, -0.062183938920497894, -0.005713078659027815, -0.012264813296496868, -0.01232870202511549, 0.0012817892711609602, -0.0021906476467847824, -0.04225046932697296, 0.053803570568561554, -0.008615821599960327, 0.007791076321154833, 0.024558858945965767, 0.018187427893280983, 0.07161647081375122, -0.017410440370440483, 0.03567979112267494, 0.040695302188396454, 0.010418998077511787, 0.03477733954787254, 0.03926854208111763, 0.04053330421447754, -0.002934019546955824, 0.019438743591308594, -0.02920660562813282, 0.03161570429801941, 0.06052495166659355, -0.016966871917247772, -0.016475137323141098, 0.029889512807130814, -0.04156295210123062, -0.1029723659157753, -0.04047399386763573, -0.031293150037527084, -0.04783632233738899, 0.1982775777578354, -0.00807667151093483, 0.04975549504160881, -0.3376675844192505, -0.0064921253360807896, 0.012715350836515427, -0.025491898879408836, 0.022641483694314957, -0.02587662637233734, -0.008137879893183708, -0.0105117317289114, -0.019209440797567368, 0.01714964397251606, -0.006493407301604748, 0.029536057263612747, 0.018017031252384186, 0.0012743527768179774, -0.019243476912379265, -0.01665404438972473, -0.03382150083780289, -0.02384849451482296, -0.01641595922410488, -0.06541235744953156, -0.05562896654009819, 0.010828283615410328, -0.013463537208735943, -0.009586404077708721, 0.00397420534864068, 0.02308129519224167, 0.049546562135219574, 0.03769158199429512, 0.05370180308818817, 0.05148280784487724, -0.020365022122859955, 0.020516280084848404, 0.03576852008700371, -0.051410552114248276, 0.007937941700220108, -0.02596120722591877, -0.03914409503340721, -0.028891395777463913, -0.02732078731060028, -0.021732619032263756, -0.1085716038942337, 0.012783280573785305, -0.10350242257118225, 0.015919912606477737, 0.01810617372393608, 0.009865577332675457, 0.035012491047382355, -0.03449772670865059, -0.051728256046772, 0.06509852409362793, 0.10623299330472946, -0.022402169182896614, 0.014399122446775436, -0.016851751133799553, -0.016841448843479156, 0.07749324291944504, 0.05233023315668106, -0.04464452341198921, -0.014113899320363998, 0.04303816705942154, -0.017448382452130318, 0.06103121489286423, -0.006019860040396452, 0.038052696734666824, -0.02900482714176178, 0.033323418349027634, 0.02300570346415043, -0.03404011204838753, 0.027676038444042206, -0.05259982496500015, 0.02507740445435047, 0.05390281602740288, 0.01899382658302784, 0.009716982021927834, -0.00339483842253685, -0.01648356020450592, -0.06062731519341469, 0.027403732761740685, -0.019076833501458168, 0.006881011184304953, 0.011422093957662582, -0.03928390145301819, -0.00015287048881873488, 0.04935025796294212, 0.004512169398367405, 0.014014757238328457, 0.0023042820394039154, -0.009353172965347767, -0.04116977006196976, -0.08496157824993134, 0.004338393919169903, 0.04113392531871796, 0.023454386740922928, -0.04807634279131889, -0.002039288869127631, -0.03127802163362503, -0.044171709567308426, 0.008550574071705341, 0.014635485596954823, 0.026798248291015625, -0.05769778788089752, 0.01074241939932108, 0.019683867692947388, -0.0024544501211494207, 0.07396424561738968, 0.07557563483715057, 0.0043709734454751015, 0.0375288650393486, -0.016860155388712883, 0.023600175976753235, 0.010564506985247135, 0.017861174419522285, -0.010636440478265285, 0.046274591237306595, 0.00473652733489871, 0.022376781329512596, -0.025287335738539696, 0.023457160219550133, 0.0005878112278878689, 0.01758081652224064, -0.07609444111585617, 0.04438848793506622, -0.04790004342794418, 0.05237879976630211, 0.04697785899043083, 0.03900282829999924, -0.04865330457687378, 0.04869005084037781, -0.0028447757940739393, -0.009202216751873493, 0.047447606921195984, -0.003633916610851884, -0.04474550485610962, -0.04764079302549362, -0.05299970135092735, 0.09353691339492798, -0.0019494968000799417, -0.03414465859532356, 0.03241036459803581, -0.013144747354090214, -0.03805034980177879, 0.011760220862925053, -0.038254834711551666, 0.009389271028339863, 0.018269691616296768, -0.007603338919579983, -0.0217470433562994, -0.00765990000218153, 0.002204408636316657, 0.10602934658527374, 0.04089527949690819, 0.004264389164745808, -0.009351714514195919, 0.03920966014266014, -0.007050360552966595, 0.04868374764919281, -0.022263292223215103, -0.030292799696326256, -0.03518754616379738, -0.026285888627171516, 0.08776921033859253, 0.002232926432043314, 0.029954705387353897, -0.08800774812698364, 0.0017012970056384802, 0.013349033892154694, 0.049580883234739304, -0.019429432228207588, 0.008626826107501984, 0.06777143478393555, 0.03434000909328461, 0.13093936443328857, 0.026006631553173065, 0.002335443627089262, 0.0036050311755388975, 0.03898826614022255, -0.02236287295818329, 0.024494605138897896, -0.0019549597054719925, -0.007255818694829941, -0.002360578626394272, 0.011339637450873852, -0.052880480885505676, 0.04068180173635483, -0.031206471845507622, 0.07551369816064835, -0.017050284892320633, 0.004629857372492552, 0.0008283245842903852, -0.04521261528134346, 0.03327413648366928, 0.004557437263429165, -0.032063499093055725, 0.04412858560681343, 0.0024727373383939266, 0.02786763198673725, -0.010884977877140045, -0.02374660037457943, 0.013186618685722351, 0.044412124902009964, 0.020007159560918808, 0.009712968952953815, -0.055417776107788086, 0.019007673487067223, 0.04118448868393898]]\n"
          ]
        }
      ]
    },
    {
      "cell_type": "code",
      "source": [
        "from importlib.metadata import metadata\n",
        "collection.add(\n",
        "    ids = ['id1', 'id2', 'id3'],\n",
        "    documents = [\"This is a dog\", \"This is a lion\", \"This is a cat\"],\n",
        "    embeddings = embeddings,\n",
        "    metadatas = [{'topic':'dog'},{'topic':'lion'},{'topic':'cat'}]\n",
        ")"
      ],
      "metadata": {
        "id": "jgSrY-r34Xuy"
      },
      "execution_count": 41,
      "outputs": []
    },
    {
      "cell_type": "code",
      "source": [
        "collection.update(\n",
        "    ids = ['id1', 'id2', 'id3'],\n",
        "    documents = [\"This is a dog\", \"This is a lion\", \"This is a cat\"],\n",
        "    embeddings = [image_embedding1, image_embedding2, image_embedding3],\n",
        "    metadatas = [{'topic':'dog'},{'topic':'lion'},{'topic':'cat'}]\n",
        ")"
      ],
      "metadata": {
        "id": "HMNPSVK5GuBH"
      },
      "execution_count": null,
      "outputs": []
    },
    {
      "cell_type": "code",
      "source": [
        "'''Working with the image search well but not with text search'''\n",
        "urlq = \"https://encrypted-tbn0.gstatic.com/images?q=tbn:ANd9GcQ4aBhloyMLx5qA6G6wSEi0s9AvDu1r7utrbQ&s\"\n",
        "imageq = Image.open(requests.get(urlq, stream=True).raw)\n",
        "query_embed = embedding_function([np.array(imageq)])[0].tolist()\n",
        "results = collection.query(\n",
        "    #query_images=[np.array(imageq)] # A list of numpy arrays representing images\n",
        "    query_texts=[\"a photo of a tiger\"],#\n",
        "    #query_embeddings=[query_embed]\n",
        "    #n_results = 1,\n",
        "    #include=[\"embeddings\", \"documents\", \"metadatas\", \"distances\"]\n",
        ")\n",
        "print(results)"
      ],
      "metadata": {
        "colab": {
          "base_uri": "https://localhost:8080/"
        },
        "id": "jCckOFYDP00D",
        "outputId": "0c8bc2fb-b185-4957-eb23-9117fcae78b1"
      },
      "execution_count": 48,
      "outputs": [
        {
          "output_type": "stream",
          "name": "stderr",
          "text": [
            "WARNING:chromadb.segment.impl.vector.local_hnsw:Number of requested results 10 is greater than number of elements in index 3, updating n_results = 3\n"
          ]
        },
        {
          "output_type": "stream",
          "name": "stdout",
          "text": [
            "{'ids': [['id2', 'id3', 'id1']], 'embeddings': None, 'documents': [['This is a lion', 'This is a cat', 'This is a dog']], 'uris': None, 'data': None, 'metadatas': [[{'topic': 'lion'}, {'topic': 'cat'}, {'topic': 'dog'}]], 'distances': [[1.559569001197815, 1.5938156843185425, 1.8285155296325684]], 'included': [<IncludeEnum.distances: 'distances'>, <IncludeEnum.documents: 'documents'>, <IncludeEnum.metadatas: 'metadatas'>]}\n"
          ]
        }
      ]
    },
    {
      "cell_type": "code",
      "source": [
        "print(results['metadatas'])"
      ],
      "metadata": {
        "colab": {
          "base_uri": "https://localhost:8080/"
        },
        "id": "P1UdYSqoguIq",
        "outputId": "7ca403ae-4068-460f-b540-5b39216ec35e"
      },
      "execution_count": null,
      "outputs": [
        {
          "output_type": "stream",
          "name": "stdout",
          "text": [
            "[[{'topic': 'dog'}, {'topic': 'cat'}, {'topic': 'lion'}, {'topic': 'cat'}, {'topic': 'lion'}, {'topic': 'dog'}, {'topic': 'lion'}, {'topic': 'cat'}, {'topic': 'dog'}]]\n"
          ]
        }
      ]
    },
    {
      "cell_type": "markdown",
      "source": [
        "## Collection with CLIP Embedding Function"
      ],
      "metadata": {
        "id": "a5cFD1JH7i6c"
      }
    },
    {
      "cell_type": "code",
      "source": [
        "from chromadb.api.types import Documents, EmbeddingFunction, Embeddings"
      ],
      "metadata": {
        "id": "VL-RBmeW8Sd4"
      },
      "execution_count": null,
      "outputs": []
    },
    {
      "cell_type": "code",
      "source": [
        "'''from typing import List, Union\n",
        "class MultimodalCLIPEmbeddingFunction(EmbeddingFunction):\n",
        "    def __init__(self, processor, model):\n",
        "        # Initialize the processor and model\n",
        "        self.processor = processor\n",
        "        self.model = model\n",
        "\n",
        "    def __call__(self, documents: Union[str, None] = None, images: Union[Image.Image, np.ndarray, None] = None):\n",
        "        if documents is None and image is None:\n",
        "            raise ValueError(\"Either text or image must be provided.\")\n",
        "\n",
        "        inputs = {}\n",
        "\n",
        "        if documents is not None:\n",
        "            if not isinstance(documents, str):\n",
        "                raise TypeError(\"text_description must be a string.\")\n",
        "            inputs[\"text\"] = [documents]\n",
        "\n",
        "        if image is not None:\n",
        "            if isinstance(image, np.ndarray):\n",
        "                image = Image.fromarray(image)  # Convert NumPy array to PIL image\n",
        "            if not isinstance(image, Image.Image):\n",
        "                raise TypeError(\"image must be a PIL Image or a NumPy array.\")\n",
        "            inputs[\"images\"] = image\n",
        "\n",
        "        inputs = self.processor(**inputs, return_tensors=\"pt\", padding=True)\n",
        "\n",
        "        if \"text\" in inputs and \"images\" in inputs:\n",
        "            outputs = self.model(**inputs)\n",
        "            return ((outputs.text_embeds + outputs.image_embeds) / 2).detach().numpy().flatten().tolist()\n",
        "\n",
        "        elif \"text\" in inputs:\n",
        "            outputs = self.model.get_text_features(**inputs)\n",
        "            return outputs.detach().numpy().flatten().tolist()\n",
        "\n",
        "        elif \"images\" in inputs:\n",
        "            outputs = self.model.get_image_features(**inputs)\n",
        "            return outputs.detach().numpy().flatten().tolist()'''"
      ],
      "metadata": {
        "id": "3tla3zsI8V9J"
      },
      "execution_count": null,
      "outputs": []
    },
    {
      "cell_type": "code",
      "source": [
        "embedding1 = get_multimodal_CLIP_embedding(image = image1)\n",
        "embedding2 = get_multimodal_CLIP_embedding(image = image2)\n",
        "embedding3 = get_multimodal_CLIP_embedding(image = image3)"
      ],
      "metadata": {
        "id": "ZksmzkVXOQYI"
      },
      "execution_count": 7,
      "outputs": []
    },
    {
      "cell_type": "code",
      "source": [
        "collection_CLIP = client.create_collection(\n",
        "    name='collection1',\n",
        "    embedding_function = embedding_function,\n",
        "    data_loader=data_loader)"
      ],
      "metadata": {
        "id": "y_cLeHLo77ro",
        "colab": {
          "base_uri": "https://localhost:8080/",
          "height": 356
        },
        "outputId": "149db145-b8f7-43d2-bced-b59e1d068b8c"
      },
      "execution_count": 27,
      "outputs": [
        {
          "output_type": "error",
          "ename": "UniqueConstraintError",
          "evalue": "Collection collection1 already exists",
          "traceback": [
            "\u001b[0;31m---------------------------------------------------------------------------\u001b[0m",
            "\u001b[0;31mUniqueConstraintError\u001b[0m                     Traceback (most recent call last)",
            "\u001b[0;32m<ipython-input-27-4573b9e32eac>\u001b[0m in \u001b[0;36m<cell line: 0>\u001b[0;34m()\u001b[0m\n\u001b[0;32m----> 1\u001b[0;31m collection_CLIP = client.create_collection(\n\u001b[0m\u001b[1;32m      2\u001b[0m     \u001b[0mname\u001b[0m\u001b[0;34m=\u001b[0m\u001b[0;34m'collection1'\u001b[0m\u001b[0;34m,\u001b[0m\u001b[0;34m\u001b[0m\u001b[0;34m\u001b[0m\u001b[0m\n\u001b[1;32m      3\u001b[0m     \u001b[0membedding_function\u001b[0m \u001b[0;34m=\u001b[0m \u001b[0membedding_function\u001b[0m\u001b[0;34m,\u001b[0m\u001b[0;34m\u001b[0m\u001b[0;34m\u001b[0m\u001b[0m\n\u001b[1;32m      4\u001b[0m     data_loader=data_loader)\n",
            "\u001b[0;32m/usr/local/lib/python3.11/dist-packages/chromadb/api/client.py\u001b[0m in \u001b[0;36mcreate_collection\u001b[0;34m(self, name, configuration, metadata, embedding_function, data_loader, get_or_create)\u001b[0m\n\u001b[1;32m    145\u001b[0m         \u001b[0mget_or_create\u001b[0m\u001b[0;34m:\u001b[0m \u001b[0mbool\u001b[0m \u001b[0;34m=\u001b[0m \u001b[0;32mFalse\u001b[0m\u001b[0;34m,\u001b[0m\u001b[0;34m\u001b[0m\u001b[0;34m\u001b[0m\u001b[0m\n\u001b[1;32m    146\u001b[0m     ) -> Collection:\n\u001b[0;32m--> 147\u001b[0;31m         model = self._server.create_collection(\n\u001b[0m\u001b[1;32m    148\u001b[0m             \u001b[0mname\u001b[0m\u001b[0;34m=\u001b[0m\u001b[0mname\u001b[0m\u001b[0;34m,\u001b[0m\u001b[0;34m\u001b[0m\u001b[0;34m\u001b[0m\u001b[0m\n\u001b[1;32m    149\u001b[0m             \u001b[0mmetadata\u001b[0m\u001b[0;34m=\u001b[0m\u001b[0mmetadata\u001b[0m\u001b[0;34m,\u001b[0m\u001b[0;34m\u001b[0m\u001b[0;34m\u001b[0m\u001b[0m\n",
            "\u001b[0;32m/usr/local/lib/python3.11/dist-packages/chromadb/telemetry/opentelemetry/__init__.py\u001b[0m in \u001b[0;36mwrapper\u001b[0;34m(*args, **kwargs)\u001b[0m\n\u001b[1;32m    148\u001b[0m                 \u001b[0;32mglobal\u001b[0m \u001b[0mtracer\u001b[0m\u001b[0;34m,\u001b[0m \u001b[0mgranularity\u001b[0m\u001b[0;34m\u001b[0m\u001b[0;34m\u001b[0m\u001b[0m\n\u001b[1;32m    149\u001b[0m                 \u001b[0;32mif\u001b[0m \u001b[0mtrace_granularity\u001b[0m \u001b[0;34m<\u001b[0m \u001b[0mgranularity\u001b[0m\u001b[0;34m:\u001b[0m\u001b[0;34m\u001b[0m\u001b[0;34m\u001b[0m\u001b[0m\n\u001b[0;32m--> 150\u001b[0;31m                     \u001b[0;32mreturn\u001b[0m \u001b[0mf\u001b[0m\u001b[0;34m(\u001b[0m\u001b[0;34m*\u001b[0m\u001b[0margs\u001b[0m\u001b[0;34m,\u001b[0m \u001b[0;34m**\u001b[0m\u001b[0mkwargs\u001b[0m\u001b[0;34m)\u001b[0m\u001b[0;34m\u001b[0m\u001b[0;34m\u001b[0m\u001b[0m\n\u001b[0m\u001b[1;32m    151\u001b[0m                 \u001b[0;32mif\u001b[0m \u001b[0;32mnot\u001b[0m \u001b[0mtracer\u001b[0m\u001b[0;34m:\u001b[0m\u001b[0;34m\u001b[0m\u001b[0;34m\u001b[0m\u001b[0m\n\u001b[1;32m    152\u001b[0m                     \u001b[0;32mreturn\u001b[0m \u001b[0mf\u001b[0m\u001b[0;34m(\u001b[0m\u001b[0;34m*\u001b[0m\u001b[0margs\u001b[0m\u001b[0;34m,\u001b[0m \u001b[0;34m**\u001b[0m\u001b[0mkwargs\u001b[0m\u001b[0;34m)\u001b[0m\u001b[0;34m\u001b[0m\u001b[0;34m\u001b[0m\u001b[0m\n",
            "\u001b[0;32m/usr/local/lib/python3.11/dist-packages/chromadb/api/segment.py\u001b[0m in \u001b[0;36mwrapper\u001b[0;34m(*args, **kwargs)\u001b[0m\n\u001b[1;32m    101\u001b[0m     \u001b[0;32mdef\u001b[0m \u001b[0mwrapper\u001b[0m\u001b[0;34m(\u001b[0m\u001b[0;34m*\u001b[0m\u001b[0margs\u001b[0m\u001b[0;34m:\u001b[0m \u001b[0mAny\u001b[0m\u001b[0;34m,\u001b[0m \u001b[0;34m**\u001b[0m\u001b[0mkwargs\u001b[0m\u001b[0;34m:\u001b[0m \u001b[0mAny\u001b[0m\u001b[0;34m)\u001b[0m \u001b[0;34m->\u001b[0m \u001b[0mAny\u001b[0m\u001b[0;34m:\u001b[0m\u001b[0;34m\u001b[0m\u001b[0;34m\u001b[0m\u001b[0m\n\u001b[1;32m    102\u001b[0m         \u001b[0mself\u001b[0m \u001b[0;34m=\u001b[0m \u001b[0margs\u001b[0m\u001b[0;34m[\u001b[0m\u001b[0;36m0\u001b[0m\u001b[0;34m]\u001b[0m\u001b[0;34m\u001b[0m\u001b[0;34m\u001b[0m\u001b[0m\n\u001b[0;32m--> 103\u001b[0;31m         \u001b[0;32mreturn\u001b[0m \u001b[0mself\u001b[0m\u001b[0;34m.\u001b[0m\u001b[0m_rate_limit_enforcer\u001b[0m\u001b[0;34m.\u001b[0m\u001b[0mrate_limit\u001b[0m\u001b[0;34m(\u001b[0m\u001b[0mfunc\u001b[0m\u001b[0;34m)\u001b[0m\u001b[0;34m(\u001b[0m\u001b[0;34m*\u001b[0m\u001b[0margs\u001b[0m\u001b[0;34m,\u001b[0m \u001b[0;34m**\u001b[0m\u001b[0mkwargs\u001b[0m\u001b[0;34m)\u001b[0m\u001b[0;34m\u001b[0m\u001b[0;34m\u001b[0m\u001b[0m\n\u001b[0m\u001b[1;32m    104\u001b[0m \u001b[0;34m\u001b[0m\u001b[0m\n\u001b[1;32m    105\u001b[0m     \u001b[0;32mreturn\u001b[0m \u001b[0mwrapper\u001b[0m  \u001b[0;31m# type: ignore\u001b[0m\u001b[0;34m\u001b[0m\u001b[0;34m\u001b[0m\u001b[0m\n",
            "\u001b[0;32m/usr/local/lib/python3.11/dist-packages/chromadb/rate_limit/simple_rate_limit/__init__.py\u001b[0m in \u001b[0;36mwrapper\u001b[0;34m(*args, **kwargs)\u001b[0m\n\u001b[1;32m     22\u001b[0m         \u001b[0;34m@\u001b[0m\u001b[0mwraps\u001b[0m\u001b[0;34m(\u001b[0m\u001b[0mfunc\u001b[0m\u001b[0;34m)\u001b[0m\u001b[0;34m\u001b[0m\u001b[0;34m\u001b[0m\u001b[0m\n\u001b[1;32m     23\u001b[0m         \u001b[0;32mdef\u001b[0m \u001b[0mwrapper\u001b[0m\u001b[0;34m(\u001b[0m\u001b[0;34m*\u001b[0m\u001b[0margs\u001b[0m\u001b[0;34m:\u001b[0m \u001b[0mAny\u001b[0m\u001b[0;34m,\u001b[0m \u001b[0;34m**\u001b[0m\u001b[0mkwargs\u001b[0m\u001b[0;34m:\u001b[0m \u001b[0mAny\u001b[0m\u001b[0;34m)\u001b[0m \u001b[0;34m->\u001b[0m \u001b[0mAny\u001b[0m\u001b[0;34m:\u001b[0m\u001b[0;34m\u001b[0m\u001b[0;34m\u001b[0m\u001b[0m\n\u001b[0;32m---> 24\u001b[0;31m             \u001b[0;32mreturn\u001b[0m \u001b[0mfunc\u001b[0m\u001b[0;34m(\u001b[0m\u001b[0;34m*\u001b[0m\u001b[0margs\u001b[0m\u001b[0;34m,\u001b[0m \u001b[0;34m**\u001b[0m\u001b[0mkwargs\u001b[0m\u001b[0;34m)\u001b[0m\u001b[0;34m\u001b[0m\u001b[0;34m\u001b[0m\u001b[0m\n\u001b[0m\u001b[1;32m     25\u001b[0m \u001b[0;34m\u001b[0m\u001b[0m\n\u001b[1;32m     26\u001b[0m         \u001b[0;32mreturn\u001b[0m \u001b[0mwrapper\u001b[0m  \u001b[0;31m# type: ignore\u001b[0m\u001b[0;34m\u001b[0m\u001b[0;34m\u001b[0m\u001b[0m\n",
            "\u001b[0;32m/usr/local/lib/python3.11/dist-packages/chromadb/api/segment.py\u001b[0m in \u001b[0;36mcreate_collection\u001b[0;34m(self, name, configuration, metadata, get_or_create, tenant, database)\u001b[0m\n\u001b[1;32m    240\u001b[0m \u001b[0;34m\u001b[0m\u001b[0m\n\u001b[1;32m    241\u001b[0m         \u001b[0;31m# TODO: Let sysdb create the collection directly from the model\u001b[0m\u001b[0;34m\u001b[0m\u001b[0;34m\u001b[0m\u001b[0m\n\u001b[0;32m--> 242\u001b[0;31m         coll, created = self._sysdb.create_collection(\n\u001b[0m\u001b[1;32m    243\u001b[0m             \u001b[0mid\u001b[0m\u001b[0;34m=\u001b[0m\u001b[0mmodel\u001b[0m\u001b[0;34m.\u001b[0m\u001b[0mid\u001b[0m\u001b[0;34m,\u001b[0m\u001b[0;34m\u001b[0m\u001b[0;34m\u001b[0m\u001b[0m\n\u001b[1;32m    244\u001b[0m             \u001b[0mname\u001b[0m\u001b[0;34m=\u001b[0m\u001b[0mmodel\u001b[0m\u001b[0;34m.\u001b[0m\u001b[0mname\u001b[0m\u001b[0;34m,\u001b[0m\u001b[0;34m\u001b[0m\u001b[0;34m\u001b[0m\u001b[0m\n",
            "\u001b[0;32m/usr/local/lib/python3.11/dist-packages/chromadb/telemetry/opentelemetry/__init__.py\u001b[0m in \u001b[0;36mwrapper\u001b[0;34m(*args, **kwargs)\u001b[0m\n\u001b[1;32m    148\u001b[0m                 \u001b[0;32mglobal\u001b[0m \u001b[0mtracer\u001b[0m\u001b[0;34m,\u001b[0m \u001b[0mgranularity\u001b[0m\u001b[0;34m\u001b[0m\u001b[0;34m\u001b[0m\u001b[0m\n\u001b[1;32m    149\u001b[0m                 \u001b[0;32mif\u001b[0m \u001b[0mtrace_granularity\u001b[0m \u001b[0;34m<\u001b[0m \u001b[0mgranularity\u001b[0m\u001b[0;34m:\u001b[0m\u001b[0;34m\u001b[0m\u001b[0;34m\u001b[0m\u001b[0m\n\u001b[0;32m--> 150\u001b[0;31m                     \u001b[0;32mreturn\u001b[0m \u001b[0mf\u001b[0m\u001b[0;34m(\u001b[0m\u001b[0;34m*\u001b[0m\u001b[0margs\u001b[0m\u001b[0;34m,\u001b[0m \u001b[0;34m**\u001b[0m\u001b[0mkwargs\u001b[0m\u001b[0;34m)\u001b[0m\u001b[0;34m\u001b[0m\u001b[0;34m\u001b[0m\u001b[0m\n\u001b[0m\u001b[1;32m    151\u001b[0m                 \u001b[0;32mif\u001b[0m \u001b[0;32mnot\u001b[0m \u001b[0mtracer\u001b[0m\u001b[0;34m:\u001b[0m\u001b[0;34m\u001b[0m\u001b[0;34m\u001b[0m\u001b[0m\n\u001b[1;32m    152\u001b[0m                     \u001b[0;32mreturn\u001b[0m \u001b[0mf\u001b[0m\u001b[0;34m(\u001b[0m\u001b[0;34m*\u001b[0m\u001b[0margs\u001b[0m\u001b[0;34m,\u001b[0m \u001b[0;34m**\u001b[0m\u001b[0mkwargs\u001b[0m\u001b[0;34m)\u001b[0m\u001b[0;34m\u001b[0m\u001b[0;34m\u001b[0m\u001b[0m\n",
            "\u001b[0;32m/usr/local/lib/python3.11/dist-packages/chromadb/db/mixins/sysdb.py\u001b[0m in \u001b[0;36mcreate_collection\u001b[0;34m(self, id, name, configuration, segments, metadata, dimension, get_or_create, tenant, database)\u001b[0m\n\u001b[1;32m    303\u001b[0m                 )\n\u001b[1;32m    304\u001b[0m             \u001b[0;32melse\u001b[0m\u001b[0;34m:\u001b[0m\u001b[0;34m\u001b[0m\u001b[0;34m\u001b[0m\u001b[0m\n\u001b[0;32m--> 305\u001b[0;31m                 \u001b[0;32mraise\u001b[0m \u001b[0mUniqueConstraintError\u001b[0m\u001b[0;34m(\u001b[0m\u001b[0;34mf\"Collection {name} already exists\"\u001b[0m\u001b[0;34m)\u001b[0m\u001b[0;34m\u001b[0m\u001b[0;34m\u001b[0m\u001b[0m\n\u001b[0m\u001b[1;32m    306\u001b[0m \u001b[0;34m\u001b[0m\u001b[0m\n\u001b[1;32m    307\u001b[0m         collection = Collection(\n",
            "\u001b[0;31mUniqueConstraintError\u001b[0m: Collection collection1 already exists"
          ]
        }
      ]
    },
    {
      "cell_type": "code",
      "source": [
        "collection_CLIP.add(\n",
        "    ids = ['id1', 'id2', 'id3'],\n",
        "    #uris = [url1, url2, url3],\n",
        "    #images=[np.array(image1), np.array(image2), np.array(image3)], # A list of numpy arrays representing images\n",
        "    documents = [\"This is a dog\", \"This is a lion\", \"This is a cat\"],\n",
        "    embeddings = [embedding1, embedding2, embedding3],\n",
        "    metadatas = [{'topic':'dog'},{'topic':'lion'},{'topic':'cat'}]\n",
        ")"
      ],
      "metadata": {
        "id": "JutsQjLw92N0"
      },
      "execution_count": 29,
      "outputs": []
    },
    {
      "cell_type": "code",
      "source": [
        "collection_CLIP.update(\n",
        "    ids = ['id1', 'id2', 'id3'],\n",
        "    #uris = [url1, url2, url3],\n",
        "    #images=[np.array(image1), np.array(image2), np.array(image3)], # A list of numpy arrays representing images\n",
        "    documents = [\"This is a dog\", \"This is a lion\", \"This is a cat\"],\n",
        "    embeddings = [embedding1, embedding2, embedding3],\n",
        "    metadatas = [{'topic':'dog'},{'topic':'lion'},{'topic':'cat'}]\n",
        ")"
      ],
      "metadata": {
        "id": "D3l-8m_pjdjj",
        "colab": {
          "base_uri": "https://localhost:8080/"
        },
        "outputId": "323369ee-b0d1-4e3a-cc78-00ce90f38c86"
      },
      "execution_count": 28,
      "outputs": [
        {
          "output_type": "stream",
          "name": "stderr",
          "text": [
            "WARNING:chromadb.segment.impl.metadata.sqlite:Update of nonexisting embedding ID: id1\n",
            "WARNING:chromadb.segment.impl.metadata.sqlite:Update of nonexisting embedding ID: id2\n",
            "WARNING:chromadb.segment.impl.metadata.sqlite:Update of nonexisting embedding ID: id3\n",
            "WARNING:chromadb.segment.impl.vector.local_hnsw:Update of nonexisting embedding ID: id1\n",
            "WARNING:chromadb.segment.impl.vector.local_hnsw:Update of nonexisting embedding ID: id2\n",
            "WARNING:chromadb.segment.impl.vector.local_hnsw:Update of nonexisting embedding ID: id3\n"
          ]
        }
      ]
    },
    {
      "cell_type": "code",
      "source": [
        "'''Working with the image search well but not with text search'''\n",
        "urlq = \"https://encrypted-tbn0.gstatic.com/images?q=tbn:ANd9GcQ4aBhloyMLx5qA6G6wSEi0s9AvDu1r7utrbQ&s\"\n",
        "imageq = Image.open(requests.get(urlq, stream=True).raw)\n",
        "#query_embed = get_multimodal_CLIP_embedding(image = imageq)\n",
        "#query_embed = get_multimodal_CLIP_embedding(text_description = \"a photo of a cat\")\n",
        "results = collection_CLIP.query(\n",
        "    #query_images=[np.array(imageq)] # A list of numpy arrays representing images\n",
        "    query_texts=[\"a photo of a cat\"]\n",
        "    #query_embeddings=[query_embed]\n",
        "    #n_results = 1,\n",
        "    #include=[\"embeddings\", \"documents\", \"metadatas\", \"distances\"]\n",
        ")\n",
        "print(results)"
      ],
      "metadata": {
        "colab": {
          "base_uri": "https://localhost:8080/"
        },
        "id": "kLM0PQBsPAKD",
        "outputId": "2780bc95-f28e-4725-cdcf-74e93e76ad29"
      },
      "execution_count": 31,
      "outputs": [
        {
          "output_type": "stream",
          "name": "stderr",
          "text": [
            "WARNING:chromadb.segment.impl.vector.local_hnsw:Number of requested results 10 is greater than number of elements in index 3, updating n_results = 3\n"
          ]
        },
        {
          "output_type": "stream",
          "name": "stdout",
          "text": [
            "{'ids': [['id1', 'id2', 'id3']], 'embeddings': None, 'documents': [['This is a dog', 'This is a lion', 'This is a cat']], 'uris': None, 'data': None, 'metadatas': [[{'topic': 'dog'}, {'topic': 'lion'}, {'topic': 'cat'}]], 'distances': [[124.1988296508789, 125.2618408203125, 127.10981750488281]], 'included': [<IncludeEnum.distances: 'distances'>, <IncludeEnum.documents: 'documents'>, <IncludeEnum.metadatas: 'metadatas'>]}\n"
          ]
        }
      ]
    },
    {
      "cell_type": "markdown",
      "source": [
        "# Getting URI for Local and online image\n",
        " 1. Getting the URI of an Online Image\n",
        "If an image is hosted on the internet, you can directly use its URL as the URI."
      ],
      "metadata": {
        "id": "89OWQ8nHFKPq"
      }
    },
    {
      "cell_type": "code",
      "source": [
        "from pathlib import Path\n",
        "\n",
        "local_image_path = \"images/sample.jpg\"  # Relative or absolute path\n",
        "local_image_uri = Path(local_image_path).resolve().as_uri()\n",
        "\n",
        "print(local_image_uri)  # Example: \"file:///C:/Users/YourName/images/sample.jpg\"\n"
      ],
      "metadata": {
        "id": "SiION-r2FF3c"
      },
      "execution_count": null,
      "outputs": []
    },
    {
      "cell_type": "markdown",
      "source": [
        "# With URIS"
      ],
      "metadata": {
        "id": "1XL0A-UxkJf6"
      }
    },
    {
      "cell_type": "code",
      "source": [
        "import os\n",
        "from pathlib import Path\n",
        "def load_images_from_folder(folder_path):\n",
        "    images = []\n",
        "    for filename in os.listdir(folder_path):\n",
        "        if filename.lower().endswith(('.png', '.jpg', '.jpeg', '.bmp', '.gif', '.webp')):  # Check for image extensions\n",
        "            img_path = os.path.join(folder_path, filename)\n",
        "            try:\n",
        "                #img = Image.open(img_path)  # Open image\n",
        "                img = img_path#Path(img_path).resolve().as_uri()\n",
        "                images.append(img)\n",
        "            except Exception as e:\n",
        "                print(f\"Error loading image {filename}: {e}\")\n",
        "    return images"
      ],
      "metadata": {
        "id": "aVG1nq2Hk3GW"
      },
      "execution_count": null,
      "outputs": []
    },
    {
      "cell_type": "code",
      "source": [
        "uris = load_images_from_folder('/content/')"
      ],
      "metadata": {
        "id": "m-sv8GzXljZM"
      },
      "execution_count": null,
      "outputs": []
    },
    {
      "cell_type": "code",
      "source": [
        "print(uris)"
      ],
      "metadata": {
        "colab": {
          "base_uri": "https://localhost:8080/"
        },
        "id": "C-rcmFQkmDfO",
        "outputId": "a7fc7741-45d9-4361-979b-d44d38a05e09"
      },
      "execution_count": null,
      "outputs": [
        {
          "output_type": "stream",
          "name": "stdout",
          "text": [
            "['/content/sea.jpg', '/content/pritom.jpg', '/content/forest.jpg', '/content/Hummingbird.jpg', '/content/images (2).jpg', '/content/beach.jpg', '/content/lion.jpg', '/content/hiking.jpg', '/content/cat.jpg', '/content/running.jpg', '/content/Boatincanal.jpg', '/content/tracker.jpg', '/content/canal.jpg', '/content/river.jpg', '/content/Man.jpg', '/content/swimming.jpg', '/content/masranga.jpg', '/content/hill.jpg', '/content/Objects.jpg', '/content/snake.jpg', '/content/dog.jpg', '/content/parrot.jpg', '/content/skatting.jpg', '/content/surfing.jpg']\n"
          ]
        }
      ]
    },
    {
      "cell_type": "code",
      "source": [
        "collection = client.create_collection(\n",
        "    name ='URIs_collection',\n",
        "    embedding_function = embedding_function,\n",
        "    data_loader = data_loader)"
      ],
      "metadata": {
        "id": "c9u5EmClkgMm"
      },
      "execution_count": null,
      "outputs": []
    },
    {
      "cell_type": "code",
      "source": [
        "for id, uri in enumerate(uris):\n",
        "  collection.add(ids=[str(id)], uris = [uri], metadatas={'Link':f'{uri}'})"
      ],
      "metadata": {
        "id": "UWWFvNv1njSr"
      },
      "execution_count": null,
      "outputs": []
    },
    {
      "cell_type": "code",
      "source": [
        "from importlib.metadata import metadata\n",
        "\n",
        "for id, uri in enumerate(uris):\n",
        "  collection.update(ids=[str(id)], uris = [uri], metadatas={'Link':f'{uri}'})\n",
        "\n",
        "'''collection.add(\n",
        "    ids = ['id1', 'id2', 'id3'],\n",
        "    uris = uris,\n",
        "    #embeddings = embeddings,\n",
        "    metadatas = [{'topic':'dog'},{'topic':'lion'},{'topic':'cat'}]\n",
        ")'''"
      ],
      "metadata": {
        "colab": {
          "base_uri": "https://localhost:8080/",
          "height": 53
        },
        "id": "HXFqNUy-l4LV",
        "outputId": "439acb1e-03eb-4428-f57b-2772e3f03bb9"
      },
      "execution_count": null,
      "outputs": [
        {
          "output_type": "execute_result",
          "data": {
            "text/plain": [
              "\"collection.add(\\n    ids = ['id1', 'id2', 'id3'],\\n    uris = uris,\\n    #embeddings = embeddings,\\n    metadatas = [{'topic':'dog'},{'topic':'lion'},{'topic':'cat'}]\\n)\""
            ],
            "application/vnd.google.colaboratory.intrinsic+json": {
              "type": "string"
            }
          },
          "metadata": {},
          "execution_count": 119
        }
      ]
    },
    {
      "cell_type": "code",
      "source": [
        "results = collection.query(\n",
        "    query_uris=[\"/content/sea.jpg\"] # A list of numpy arrays representing images\n",
        "    #query_texts=[\"birds\"]\n",
        "    #query_embeddings=[query_embed]\n",
        "    #n_results = 1,\n",
        "    #include=[\"embeddings\", \"documents\", \"metadatas\", \"distances\"]\n",
        ")\n",
        "print(results)"
      ],
      "metadata": {
        "colab": {
          "base_uri": "https://localhost:8080/"
        },
        "id": "OlEQSF5Rm431",
        "outputId": "96776de6-9337-4f44-b4cf-8fa21d8f56d8"
      },
      "execution_count": null,
      "outputs": [
        {
          "output_type": "stream",
          "name": "stdout",
          "text": [
            "{'ids': [['0', '23', '2', '5', '17', '15', '7', '9', '13', '11']], 'embeddings': None, 'documents': [[None, None, None, None, None, None, None, None, None, None]], 'uris': None, 'data': None, 'metadatas': [[{'Link': '/content/sea.jpg'}, {'Link': '/content/surfing.jpg'}, {'Link': '/content/forest.jpg'}, {'Link': '/content/beach.jpg'}, {'Link': '/content/hill.jpg'}, {'Link': '/content/swimming.jpg'}, {'Link': '/content/hiking.jpg'}, {'Link': '/content/running.jpg'}, {'Link': '/content/river.jpg'}, {'Link': '/content/tracker.jpg'}]], 'distances': [[0.0, 0.7389665246009827, 0.7592992782592773, 0.8190758228302002, 0.9004141092300415, 0.9467778205871582, 0.9980501532554626, 1.013914942741394, 1.0799297094345093, 1.11430025100708]], 'included': [<IncludeEnum.distances: 'distances'>, <IncludeEnum.documents: 'documents'>, <IncludeEnum.metadatas: 'metadatas'>]}\n"
          ]
        }
      ]
    },
    {
      "cell_type": "code",
      "source": [
        "for id, uri in enumerate(uris):\n",
        "  collection.add(\n",
        "      ids=[str(id)], uris = [uri], metadatas={'Link':f'{uri}'}\n",
        "  )"
      ],
      "metadata": {
        "id": "FnGRLDpgnJsf"
      },
      "execution_count": null,
      "outputs": []
    },
    {
      "cell_type": "markdown",
      "source": [
        "# Vector DB Querying"
      ],
      "metadata": {
        "id": "hAgVVwm9z7wa"
      }
    },
    {
      "cell_type": "markdown",
      "source": [
        "`collection.add(\n",
        "    ids=[\"id1\", \"id2\"],\n",
        "    documents=[\"This is a dog\", \"This is a cat\"],\n",
        "    metadatas=[\n",
        "        {\"tags\": [\"animal\", \"pet\", \"mammal\"], \"type\": \"dog\"},\n",
        "        {\"tags\": [\"animal\", \"pet\", \"feline\"], \"type\": \"cat\"},\n",
        "    ]\n",
        ")`\n",
        "\n",
        "\n",
        "`results = collection.query(\n",
        "    query_texts=[\"animal\"],\n",
        "    n_results=2,\n",
        "    where={\"tags\": {\"$contains\": \"pet\"}}  # Filter for \"pet\" in tags\n",
        ")`\n",
        "\n",
        "\n",
        "`collection.query(\n",
        "    query_texts=[\"doc10\", \"thus spake zarathustra\", ...],\n",
        "    n_results=10,\n",
        "    where={\"metadata_field\": \"is_equal_to_this\"},\n",
        "    where_document={\"$contains\":\"search_string\"}\n",
        ")`\n",
        "\n",
        "\n",
        "1. [Filtering By Tags] https://docs.trychroma.com/docs/querying-collections/metadata-filtering\n",
        "\n",
        "2. [Full Text Search] https://docs.trychroma.com/docs/querying-collections/full-text-search"
      ],
      "metadata": {
        "id": "YpgXcomo1Ru6"
      }
    },
    {
      "cell_type": "code",
      "source": [
        "!pip install chromadb"
      ],
      "metadata": {
        "id": "PMSkdztJz-yG"
      },
      "execution_count": null,
      "outputs": []
    },
    {
      "cell_type": "code",
      "source": [
        "!pip install open-clip-torch"
      ],
      "metadata": {
        "id": "dRAbVolX0KEZ"
      },
      "execution_count": null,
      "outputs": []
    },
    {
      "cell_type": "code",
      "source": [
        "import numpy as np\n",
        "import pandas as pd\n",
        "from PIL import Image\n",
        "import requests"
      ],
      "metadata": {
        "id": "gI2kRbwV0OJ8"
      },
      "execution_count": null,
      "outputs": []
    },
    {
      "cell_type": "code",
      "source": [
        "from chromadb.utils.embedding_functions import OpenCLIPEmbeddingFunction\n",
        "embedding_function = OpenCLIPEmbeddingFunction()"
      ],
      "metadata": {
        "id": "AtdaqgBE0OGr"
      },
      "execution_count": null,
      "outputs": []
    },
    {
      "cell_type": "code",
      "source": [
        "image_embed = embedding_function([np.array(image1)])\n",
        "text_embed = embedding_function([\"This is a cat\"])"
      ],
      "metadata": {
        "id": "PeokyD9u0OCz"
      },
      "execution_count": null,
      "outputs": []
    },
    {
      "cell_type": "code",
      "source": [
        "print(text_embed[0].shape)\n",
        "print(image_embed[0].shape)"
      ],
      "metadata": {
        "id": "6aJql9J90N_i"
      },
      "execution_count": null,
      "outputs": []
    },
    {
      "cell_type": "code",
      "source": [
        "from chromadb.utils.data_loaders import ImageLoader\n",
        "data_loader = ImageLoader()"
      ],
      "metadata": {
        "id": "OFz5kHT40sKB"
      },
      "execution_count": null,
      "outputs": []
    },
    {
      "cell_type": "markdown",
      "source": [
        "## Creating Collection"
      ],
      "metadata": {
        "id": "0LH90Xo520sC"
      }
    },
    {
      "cell_type": "code",
      "source": [
        "import chromadb\n",
        "\n",
        "client = chromadb.Client()\n",
        "\n",
        "collection = client.create_collection(\n",
        "    name='multimodal_collection',\n",
        "    embedding_function = embedding_function,\n",
        "    data_loader=data_loader)"
      ],
      "metadata": {
        "id": "cSlNeOkY0wpe"
      },
      "execution_count": null,
      "outputs": []
    },
    {
      "cell_type": "markdown",
      "source": [
        "## Loading and Getting Embeddings of images"
      ],
      "metadata": {
        "id": "pGq8dTmX24cy"
      }
    },
    {
      "cell_type": "code",
      "source": [
        "url1 = \"https://encrypted-tbn0.gstatic.com/images?q=tbn:ANd9GcRoBuMvSuYezLE9rwI-zOJeIOmcIGfDPqOvFA&s\"\n",
        "image1 = Image.open(requests.get(url1, stream=True).raw)\n",
        "url2 = \"https://encrypted-tbn0.gstatic.com/images?q=tbn:ANd9GcRfiNlNG0uvJqDF_GyUNX97mvZNrtTUtNKx_Q&s\"\n",
        "image2 = Image.open(requests.get(url2, stream=True).raw)\n",
        "url3 = \"https://encrypted-tbn0.gstatic.com/images?q=tbn:ANd9GcRlVTWL4dqk9ZokaiRQe0kdV3_dNvkB7A3xTw&s\"\n",
        "image3 = Image.open(requests.get(url3, stream=True).raw)"
      ],
      "metadata": {
        "id": "WSc7d9SU0wma"
      },
      "execution_count": null,
      "outputs": []
    },
    {
      "cell_type": "code",
      "source": [
        "image_embedding1 = embedding_function([np.array(image1)])[0].tolist()\n",
        "image_embedding2 = embedding_function([np.array(image2)])[0].tolist()\n",
        "image_embedding3 = embedding_function([np.array(image3)])[0].tolist()\n",
        "embeddings = [image_embedding1, image_embedding2, image_embedding3]"
      ],
      "metadata": {
        "id": "nDn5WZOm1JTa"
      },
      "execution_count": null,
      "outputs": []
    },
    {
      "cell_type": "markdown",
      "source": [
        "## Adding to the Collection"
      ],
      "metadata": {
        "id": "wmNDUF7o2cGb"
      }
    },
    {
      "cell_type": "code",
      "source": [
        "from importlib.metadata import metadata\n",
        "collection.add(\n",
        "    ids = ['id1', 'id2', 'id3'],\n",
        "    documents = [\"This is a dog\", \"This is a lion\", \"This is a cat\"],\n",
        "    embeddings = embeddings,\n",
        "    metadatas = [{'topic':'dog'},{'topic':'lion'},{'topic':'cat'}]\n",
        ")"
      ],
      "metadata": {
        "id": "W3jd9Xgr1Nzy"
      },
      "execution_count": null,
      "outputs": []
    },
    {
      "cell_type": "markdown",
      "source": [
        "## Updating the Collection"
      ],
      "metadata": {
        "id": "Rr91P2-f2YET"
      }
    },
    {
      "cell_type": "code",
      "source": [
        "collection.update(\n",
        "    ids = ['id1', 'id2', 'id3'],\n",
        "    documents = [\"This is a dog\", \"This is a lion\", \"This is a cat\"],\n",
        "    embeddings = embeddings,\n",
        "    metadatas = [{'topic':'dog'},{'topic':'lion'},{'topic':'cat'}]\n",
        ")"
      ],
      "metadata": {
        "id": "Nmiu9MaX2TcK"
      },
      "execution_count": null,
      "outputs": []
    },
    {
      "cell_type": "markdown",
      "source": [
        "## Querying to the Collection\n",
        "\n",
        "In this setting I can perform query by direct giving image, text and embeddings of query or text. Arguments are given below:\n",
        "1. image : `query_images = [np.array(image)]`\n",
        "2. texts : `query_texts = [\"a photo of a cat\"]`\n",
        "3. embeddings of any modality : `query_embeddings = [embedding]`"
      ],
      "metadata": {
        "id": "UNGhwhkG2UXS"
      }
    },
    {
      "cell_type": "code",
      "source": [
        "urlq = \"https://encrypted-tbn0.gstatic.com/images?q=tbn:ANd9GcQ4aBhloyMLx5qA6G6wSEi0s9AvDu1r7utrbQ&s\"\n",
        "imageq = Image.open(requests.get(urlq, stream=True).raw)\n",
        "query_embed = embedding_function([np.array(imageq)])[0].tolist() # send the images as a list of numpy arrays and convert each arrays in the returned list into list so it becomes list of lists\n",
        "#query_embed = embedding_function(\"a photo of a cat\")[0].tolist() # send the texts as a list of strings and convert each arrays in the returned list into list so it becomes list of lists\n",
        "results = collection.query(\n",
        "    #query_images=[np.array(imageq)] # Send images as a list of numpy arrays\n",
        "    query_texts=[\"a photo of a cat\"], # Send texts as a list of strings\n",
        "    #query_embeddings=[query_embed] # Send embedding list as a list of lists\n",
        "    #n_results = 1,\n",
        "    #include=[\"embeddings\", \"documents\", \"metadatas\", \"distances\"]\n",
        ")\n",
        "print(results)"
      ],
      "metadata": {
        "id": "DCJsZINF2TMT"
      },
      "execution_count": null,
      "outputs": []
    },
    {
      "cell_type": "markdown",
      "source": [
        "## Image Metadata"
      ],
      "metadata": {
        "id": "azCACh_M9D4-"
      }
    },
    {
      "cell_type": "code",
      "source": [
        "!pip install exifread"
      ],
      "metadata": {
        "colab": {
          "base_uri": "https://localhost:8080/"
        },
        "id": "VbTvB3Ba9Q5c",
        "outputId": "efd6cbe7-c826-40a7-97cd-ad12113e31ad"
      },
      "execution_count": 50,
      "outputs": [
        {
          "output_type": "stream",
          "name": "stdout",
          "text": [
            "Collecting exifread\n",
            "  Downloading ExifRead-3.0.0-py3-none-any.whl.metadata (6.4 kB)\n",
            "Downloading ExifRead-3.0.0-py3-none-any.whl (40 kB)\n",
            "\u001b[?25l   \u001b[90m━━━━━━━━━━━━━━━━━━━━━━━━━━━━━━━━━━━━━━━━\u001b[0m \u001b[32m0.0/40.4 kB\u001b[0m \u001b[31m?\u001b[0m eta \u001b[36m-:--:--\u001b[0m\r\u001b[2K   \u001b[90m━━━━━━━━━━━━━━━━━━━━━━━━━━━━━━━━━━━━━━━━\u001b[0m \u001b[32m40.4/40.4 kB\u001b[0m \u001b[31m1.5 MB/s\u001b[0m eta \u001b[36m0:00:00\u001b[0m\n",
            "\u001b[?25hInstalling collected packages: exifread\n",
            "Successfully installed exifread-3.0.0\n"
          ]
        }
      ]
    },
    {
      "cell_type": "code",
      "source": [
        "import exifread\n",
        "\n",
        "def read_exif_metadata(image_path):\n",
        "    with open(image_path, \"rb\") as image_file:\n",
        "        tags = exifread.process_file(image_file)\n",
        "\n",
        "    metadata = {tag: tags[tag] for tag in tags}\n",
        "    return metadata\n",
        "\n",
        "# Example usage\n",
        "metadata = read_exif_metadata(\"/content/Boatincanal.jpg\")\n",
        "print(metadata)\n",
        "for key, value in metadata.items():\n",
        "    print(f\"{key}: {value}\")\n"
      ],
      "metadata": {
        "colab": {
          "base_uri": "https://localhost:8080/"
        },
        "id": "NnCE0SCu9HTr",
        "outputId": "962f437a-3d54-4984-95bb-ef1086709298"
      },
      "execution_count": 57,
      "outputs": [
        {
          "output_type": "stream",
          "name": "stdout",
          "text": [
            "{}\n"
          ]
        }
      ]
    },
    {
      "cell_type": "markdown",
      "source": [
        "#### Using PIL (Pillow)"
      ],
      "metadata": {
        "id": "YVdgLt_RB22r"
      }
    },
    {
      "cell_type": "code",
      "source": [
        "from PIL import Image\n",
        "from PIL.ExifTags import TAGS, GPSTAGS\n",
        "\n",
        "def get_image_metadata(image_path):\n",
        "    image = Image.open(image_path)\n",
        "    exif_data = image._getexif()\n",
        "\n",
        "    if not exif_data:\n",
        "        return \"No EXIF metadata found\"\n",
        "\n",
        "    metadata = {}\n",
        "\n",
        "    for tag_id, value in exif_data.items():\n",
        "        tag_name = TAGS.get(tag_id, tag_id)\n",
        "        metadata[tag_name] = value\n",
        "\n",
        "    return metadata\n",
        "\n",
        "# Example usage\n",
        "image_path = \"/content/Boatincanal.jpg\"  # Replace with your image path\n",
        "metadata = get_image_metadata(image_path)\n",
        "try:\n",
        "  for key, value in metadata.items():\n",
        "    print(f\"{key}: {value}\")\n",
        "except:\n",
        "  print(metadata)\n"
      ],
      "metadata": {
        "colab": {
          "base_uri": "https://localhost:8080/"
        },
        "id": "kmFoCypzBKtb",
        "outputId": "ff6beb08-0146-47a3-c19d-211c2d318fbe"
      },
      "execution_count": 56,
      "outputs": [
        {
          "output_type": "stream",
          "name": "stdout",
          "text": [
            "No EXIF metadata found\n"
          ]
        }
      ]
    },
    {
      "cell_type": "markdown",
      "source": [
        "#### Extracting GPS Data (Latitude & Longitude)"
      ],
      "metadata": {
        "id": "x-JbKrHdBuRD"
      }
    },
    {
      "cell_type": "code",
      "source": [
        "def get_gps_info(exif_data):\n",
        "    gps_info = {}\n",
        "\n",
        "    for tag_id, value in exif_data.items():\n",
        "        tag_name = TAGS.get(tag_id, tag_id)\n",
        "        if tag_name == \"GPSInfo\":\n",
        "            for t in value:\n",
        "                sub_tag_name = GPSTAGS.get(t, t)\n",
        "                gps_info[sub_tag_name] = value[t]\n",
        "\n",
        "    return gps_info\n",
        "\n",
        "# Extract GPS coordinates\n",
        "image_path = \"/content/Boatincanal.jpg\"\n",
        "image = Image.open(image_path)\n",
        "exif_data = image._getexif()\n",
        "\n",
        "if exif_data:\n",
        "    gps_data = get_gps_info(exif_data)\n",
        "    print(\"GPS Metadata:\", gps_data)\n"
      ],
      "metadata": {
        "id": "Q_LbfQPQBTrQ"
      },
      "execution_count": 58,
      "outputs": []
    },
    {
      "cell_type": "markdown",
      "source": [
        "#### Using PyExifTool (Best for Large Metadata)"
      ],
      "metadata": {
        "id": "9EJnJYG7CEAL"
      }
    },
    {
      "cell_type": "code",
      "source": [
        "!pip install pyexiftool"
      ],
      "metadata": {
        "colab": {
          "base_uri": "https://localhost:8080/"
        },
        "id": "Rj34mK0YCHfb",
        "outputId": "2a3f7ee7-dce8-420b-f97f-ef04bb6bd142"
      },
      "execution_count": 59,
      "outputs": [
        {
          "output_type": "stream",
          "name": "stdout",
          "text": [
            "Collecting pyexiftool\n",
            "  Downloading PyExifTool-0.5.6-py3-none-any.whl.metadata (11 kB)\n",
            "Downloading PyExifTool-0.5.6-py3-none-any.whl (51 kB)\n",
            "\u001b[?25l   \u001b[90m━━━━━━━━━━━━━━━━━━━━━━━━━━━━━━━━━━━━━━━━\u001b[0m \u001b[32m0.0/51.2 kB\u001b[0m \u001b[31m?\u001b[0m eta \u001b[36m-:--:--\u001b[0m\r\u001b[2K   \u001b[90m━━━━━━━━━━━━━━━━━━━━━━━━━━━━━━━━━━━━━━━━\u001b[0m \u001b[32m51.2/51.2 kB\u001b[0m \u001b[31m2.0 MB/s\u001b[0m eta \u001b[36m0:00:00\u001b[0m\n",
            "\u001b[?25hInstalling collected packages: pyexiftool\n",
            "Successfully installed pyexiftool-0.5.6\n"
          ]
        }
      ]
    },
    {
      "cell_type": "code",
      "source": [
        "import exiftool\n",
        "\n",
        "def extract_metadata(image_path):\n",
        "    with exiftool.ExifTool() as et:\n",
        "        metadata = et.get_metadata(image_path)\n",
        "    return metadata\n",
        "\n",
        "# Example usage\n",
        "image_path = \"/content/Boatincanal.jpg\"\n",
        "metadata = extract_metadata(image_path)\n",
        "for key, value in metadata.items():\n",
        "    print(f\"{key}: {value}\")\n"
      ],
      "metadata": {
        "colab": {
          "base_uri": "https://localhost:8080/",
          "height": 356
        },
        "id": "j8BXkWZfCClS",
        "outputId": "43ca1fff-2a9e-4ffb-b5e4-6176c6bab2f0"
      },
      "execution_count": 60,
      "outputs": [
        {
          "output_type": "error",
          "ename": "FileNotFoundError",
          "evalue": "\"exiftool\" is not found, on path or as absolute path",
          "traceback": [
            "\u001b[0;31m---------------------------------------------------------------------------\u001b[0m",
            "\u001b[0;31mFileNotFoundError\u001b[0m                         Traceback (most recent call last)",
            "\u001b[0;32m<ipython-input-60-647ad5ce73a3>\u001b[0m in \u001b[0;36m<cell line: 0>\u001b[0;34m()\u001b[0m\n\u001b[1;32m      8\u001b[0m \u001b[0;31m# Example usage\u001b[0m\u001b[0;34m\u001b[0m\u001b[0;34m\u001b[0m\u001b[0m\n\u001b[1;32m      9\u001b[0m \u001b[0mimage_path\u001b[0m \u001b[0;34m=\u001b[0m \u001b[0;34m\"/content/Boatincanal.jpg\"\u001b[0m\u001b[0;34m\u001b[0m\u001b[0;34m\u001b[0m\u001b[0m\n\u001b[0;32m---> 10\u001b[0;31m \u001b[0mmetadata\u001b[0m \u001b[0;34m=\u001b[0m \u001b[0mextract_metadata\u001b[0m\u001b[0;34m(\u001b[0m\u001b[0mimage_path\u001b[0m\u001b[0;34m)\u001b[0m\u001b[0;34m\u001b[0m\u001b[0;34m\u001b[0m\u001b[0m\n\u001b[0m\u001b[1;32m     11\u001b[0m \u001b[0;32mfor\u001b[0m \u001b[0mkey\u001b[0m\u001b[0;34m,\u001b[0m \u001b[0mvalue\u001b[0m \u001b[0;32min\u001b[0m \u001b[0mmetadata\u001b[0m\u001b[0;34m.\u001b[0m\u001b[0mitems\u001b[0m\u001b[0;34m(\u001b[0m\u001b[0;34m)\u001b[0m\u001b[0;34m:\u001b[0m\u001b[0;34m\u001b[0m\u001b[0;34m\u001b[0m\u001b[0m\n\u001b[1;32m     12\u001b[0m     \u001b[0mprint\u001b[0m\u001b[0;34m(\u001b[0m\u001b[0;34mf\"{key}: {value}\"\u001b[0m\u001b[0;34m)\u001b[0m\u001b[0;34m\u001b[0m\u001b[0;34m\u001b[0m\u001b[0m\n",
            "\u001b[0;32m<ipython-input-60-647ad5ce73a3>\u001b[0m in \u001b[0;36mextract_metadata\u001b[0;34m(image_path)\u001b[0m\n\u001b[1;32m      2\u001b[0m \u001b[0;34m\u001b[0m\u001b[0m\n\u001b[1;32m      3\u001b[0m \u001b[0;32mdef\u001b[0m \u001b[0mextract_metadata\u001b[0m\u001b[0;34m(\u001b[0m\u001b[0mimage_path\u001b[0m\u001b[0;34m)\u001b[0m\u001b[0;34m:\u001b[0m\u001b[0;34m\u001b[0m\u001b[0;34m\u001b[0m\u001b[0m\n\u001b[0;32m----> 4\u001b[0;31m     \u001b[0;32mwith\u001b[0m \u001b[0mexiftool\u001b[0m\u001b[0;34m.\u001b[0m\u001b[0mExifTool\u001b[0m\u001b[0;34m(\u001b[0m\u001b[0;34m)\u001b[0m \u001b[0;32mas\u001b[0m \u001b[0met\u001b[0m\u001b[0;34m:\u001b[0m\u001b[0;34m\u001b[0m\u001b[0;34m\u001b[0m\u001b[0m\n\u001b[0m\u001b[1;32m      5\u001b[0m         \u001b[0mmetadata\u001b[0m \u001b[0;34m=\u001b[0m \u001b[0met\u001b[0m\u001b[0;34m.\u001b[0m\u001b[0mget_metadata\u001b[0m\u001b[0;34m(\u001b[0m\u001b[0mimage_path\u001b[0m\u001b[0;34m)\u001b[0m\u001b[0;34m\u001b[0m\u001b[0;34m\u001b[0m\u001b[0m\n\u001b[1;32m      6\u001b[0m     \u001b[0;32mreturn\u001b[0m \u001b[0mmetadata\u001b[0m\u001b[0;34m\u001b[0m\u001b[0;34m\u001b[0m\u001b[0m\n",
            "\u001b[0;32m/usr/local/lib/python3.11/dist-packages/exiftool/exiftool.py\u001b[0m in \u001b[0;36m__init__\u001b[0;34m(self, executable, common_args, win_shell, config_file, encoding, logger)\u001b[0m\n\u001b[1;32m    290\u001b[0m                 \u001b[0;31m# use the passed in parameter, or the default if not set\u001b[0m\u001b[0;34m\u001b[0m\u001b[0;34m\u001b[0m\u001b[0m\n\u001b[1;32m    291\u001b[0m                 \u001b[0;31m# error checking is done in the property.setter\u001b[0m\u001b[0;34m\u001b[0m\u001b[0;34m\u001b[0m\u001b[0m\n\u001b[0;32m--> 292\u001b[0;31m                 \u001b[0mself\u001b[0m\u001b[0;34m.\u001b[0m\u001b[0mexecutable\u001b[0m \u001b[0;34m=\u001b[0m \u001b[0mexecutable\u001b[0m \u001b[0;32mor\u001b[0m \u001b[0mconstants\u001b[0m\u001b[0;34m.\u001b[0m\u001b[0mDEFAULT_EXECUTABLE\u001b[0m\u001b[0;34m\u001b[0m\u001b[0;34m\u001b[0m\u001b[0m\n\u001b[0m\u001b[1;32m    293\u001b[0m                 \u001b[0mself\u001b[0m\u001b[0;34m.\u001b[0m\u001b[0mencoding\u001b[0m \u001b[0;34m=\u001b[0m \u001b[0mencoding\u001b[0m\u001b[0;34m\u001b[0m\u001b[0;34m\u001b[0m\u001b[0m\n\u001b[1;32m    294\u001b[0m                 \u001b[0mself\u001b[0m\u001b[0;34m.\u001b[0m\u001b[0mcommon_args\u001b[0m \u001b[0;34m=\u001b[0m \u001b[0mcommon_args\u001b[0m\u001b[0;34m\u001b[0m\u001b[0;34m\u001b[0m\u001b[0m\n",
            "\u001b[0;32m/usr/local/lib/python3.11/dist-packages/exiftool/exiftool.py\u001b[0m in \u001b[0;36mexecutable\u001b[0;34m(self, new_executable)\u001b[0m\n\u001b[1;32m    364\u001b[0m \u001b[0;34m\u001b[0m\u001b[0m\n\u001b[1;32m    365\u001b[0m                         \u001b[0;32mif\u001b[0m \u001b[0mabs_path\u001b[0m \u001b[0;32mis\u001b[0m \u001b[0;32mNone\u001b[0m\u001b[0;34m:\u001b[0m\u001b[0;34m\u001b[0m\u001b[0;34m\u001b[0m\u001b[0m\n\u001b[0;32m--> 366\u001b[0;31m                                 \u001b[0;32mraise\u001b[0m \u001b[0mFileNotFoundError\u001b[0m\u001b[0;34m(\u001b[0m\u001b[0;34mf'\"{new_executable}\" is not found, on path or as absolute path'\u001b[0m\u001b[0;34m)\u001b[0m\u001b[0;34m\u001b[0m\u001b[0;34m\u001b[0m\u001b[0m\n\u001b[0m\u001b[1;32m    367\u001b[0m \u001b[0;34m\u001b[0m\u001b[0m\n\u001b[1;32m    368\u001b[0m                 \u001b[0;31m# absolute path is returned\u001b[0m\u001b[0;34m\u001b[0m\u001b[0;34m\u001b[0m\u001b[0m\n",
            "\u001b[0;31mFileNotFoundError\u001b[0m: \"exiftool\" is not found, on path or as absolute path"
          ]
        }
      ]
    }
  ]
}